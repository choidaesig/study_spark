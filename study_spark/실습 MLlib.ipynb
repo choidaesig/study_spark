{
 "cells": [
  {
   "cell_type": "code",
   "execution_count": 1,
   "id": "16bb26a0",
   "metadata": {},
   "outputs": [],
   "source": [
    "from pyspark.sql import SparkSession"
   ]
  },
  {
   "cell_type": "code",
   "execution_count": 2,
   "id": "9ae1b46e",
   "metadata": {},
   "outputs": [],
   "source": [
    "# OutOfMemory 오류가 나면 각종 설정을 추가적으로 해줄 수 있다.\n",
    "MAX_MEMORY = '5g'\n",
    "spark = SparkSession.builder.appName(\"movie-recommendation\")\\\n",
    "    .config(\"spark.executor.memory\", MAX_MEMORY)\\\n",
    "    .config(\"spark.driver.memory\", MAX_MEMORY)\\\n",
    "    .getOrCreate()"
   ]
  },
  {
   "cell_type": "code",
   "execution_count": 6,
   "id": "82e11730",
   "metadata": {},
   "outputs": [],
   "source": [
    "directory=\"C:\\\\Users\\\\daesi\\\\Downloads\\\\빅데이터 소스코드\\\\소스코드\\\\study_spark\\\\data\\\\ml-25m\"\n",
    "filename = \"ratings.csv\""
   ]
  },
  {
   "cell_type": "code",
   "execution_count": 7,
   "id": "a30fa2cc",
   "metadata": {},
   "outputs": [
    {
     "name": "stdout",
     "output_type": "stream",
     "text": [
      "+------+-------+------+----------+\n",
      "|userId|movieId|rating| timestamp|\n",
      "+------+-------+------+----------+\n",
      "|     1|    296|   5.0|1147880044|\n",
      "|     1|    306|   3.5|1147868817|\n",
      "|     1|    307|   5.0|1147868828|\n",
      "|     1|    665|   5.0|1147878820|\n",
      "|     1|    899|   3.5|1147868510|\n",
      "|     1|   1088|   4.0|1147868495|\n",
      "|     1|   1175|   3.5|1147868826|\n",
      "|     1|   1217|   3.5|1147878326|\n",
      "|     1|   1237|   5.0|1147868839|\n",
      "|     1|   1250|   4.0|1147868414|\n",
      "|     1|   1260|   3.5|1147877857|\n",
      "|     1|   1653|   4.0|1147868097|\n",
      "|     1|   2011|   2.5|1147868079|\n",
      "|     1|   2012|   2.5|1147868068|\n",
      "|     1|   2068|   2.5|1147869044|\n",
      "|     1|   2161|   3.5|1147868609|\n",
      "|     1|   2351|   4.5|1147877957|\n",
      "|     1|   2573|   4.0|1147878923|\n",
      "|     1|   2632|   5.0|1147878248|\n",
      "|     1|   2692|   5.0|1147869100|\n",
      "+------+-------+------+----------+\n",
      "only showing top 20 rows\n",
      "\n"
     ]
    }
   ],
   "source": [
    "ratings_df = spark.read.csv(f\"file:///{directory}\\\\{filename}\", inferSchema=True, header=True)\n",
    "ratings_df.show()"
   ]
  },
  {
   "cell_type": "code",
   "execution_count": 8,
   "id": "8ed4fb07",
   "metadata": {},
   "outputs": [
    {
     "name": "stdout",
     "output_type": "stream",
     "text": [
      "root\n",
      " |-- userid: integer (nullable = true)\n",
      " |-- movieId: integer (nullable = true)\n",
      " |-- rating: double (nullable = true)\n",
      "\n"
     ]
    }
   ],
   "source": [
    "ratings_df = ratings_df.select([\"userid\", \"movieId\", \"rating\"])\n",
    "ratings_df.printSchema()"
   ]
  },
  {
   "cell_type": "code",
   "execution_count": 9,
   "id": "4f600921",
   "metadata": {},
   "outputs": [
    {
     "name": "stdout",
     "output_type": "stream",
     "text": [
      "+-------+------------------+\n",
      "|summary|            rating|\n",
      "+-------+------------------+\n",
      "|  count|          25000095|\n",
      "|   mean| 3.533854451353085|\n",
      "| stddev|1.0607439611423508|\n",
      "|    min|               0.5|\n",
      "|    max|               5.0|\n",
      "+-------+------------------+\n",
      "\n"
     ]
    }
   ],
   "source": [
    "ratings_df.select('rating').describe().show()"
   ]
  },
  {
   "cell_type": "code",
   "execution_count": 10,
   "id": "f53cb855",
   "metadata": {},
   "outputs": [],
   "source": [
    "train_ratio = 0.8\n",
    "test_ratio  = 0.2\n",
    "\n",
    "train_df, test_df = ratings_df.randomSplit([0.8, 0.2])"
   ]
  },
  {
   "cell_type": "markdown",
   "id": "3d43d70a",
   "metadata": {},
   "source": [
    "# ALS 추천 알고리즘 가져오기"
   ]
  },
  {
   "cell_type": "code",
   "execution_count": 13,
   "id": "37cb6324",
   "metadata": {},
   "outputs": [],
   "source": [
    "from pyspark.ml.recommendation import ALS"
   ]
  },
  {
   "cell_type": "code",
   "execution_count": 14,
   "id": "0c39d96c",
   "metadata": {},
   "outputs": [],
   "source": [
    "als = ALS(\n",
    "    maxIter=5,\n",
    "    regParam=0.1,\n",
    "    userCol = \"userid\",\n",
    "    itemCol = \"movieId\",\n",
    "    ratingCol = \"rating\",\n",
    "    coldStartStrategy=\"drop\"\n",
    ")"
   ]
  },
  {
   "cell_type": "code",
   "execution_count": 15,
   "id": "da489013",
   "metadata": {},
   "outputs": [],
   "source": [
    "#학습하기\n",
    "model = als.fit(train_df)"
   ]
  },
  {
   "cell_type": "code",
   "execution_count": 16,
   "id": "5d151bc6",
   "metadata": {},
   "outputs": [
    {
     "name": "stdout",
     "output_type": "stream",
     "text": [
      "+------+-------+------+----------+\n",
      "|userid|movieId|rating|prediction|\n",
      "+------+-------+------+----------+\n",
      "|   101|   8638|   5.0| 3.4953117|\n",
      "|   243|   1580|   3.0| 2.6439457|\n",
      "|   322|   1645|   4.0| 3.5498655|\n",
      "|   332|   1580|   4.0| 3.2362347|\n",
      "|   368|   1580|   3.5| 3.6040554|\n",
      "|   375|   1580|   2.5| 3.5270433|\n",
      "|   497|   2366|   4.0| 3.9810052|\n",
      "|   501|   1580|   5.0|   3.96489|\n",
      "|   501|   1645|   4.0| 3.6354952|\n",
      "|   513|  44022|   5.0| 4.2891164|\n",
      "|   597|   1580|   4.0| 3.7775984|\n",
      "|   597|   1591|   2.0| 2.5916934|\n",
      "|   597|   1645|   5.0| 3.4550447|\n",
      "|   597|   3175|   5.0| 3.9443662|\n",
      "|   606|  36525|   2.5| 4.2140217|\n",
      "|   606| 160563|   4.0|  4.080393|\n",
      "|   626|   1088|   4.0| 3.3628745|\n",
      "|   626|   2366|   3.0| 3.2461371|\n",
      "|   626|   6658|   3.5|  2.864083|\n",
      "|   756|  44022|   3.5| 3.2319312|\n",
      "+------+-------+------+----------+\n",
      "only showing top 20 rows\n",
      "\n"
     ]
    }
   ],
   "source": [
    "#예측하기\n",
    "predictions = model.transform(test_df)\n",
    "predictions.show()"
   ]
  },
  {
   "cell_type": "code",
   "execution_count": 17,
   "id": "f6e0f3ee",
   "metadata": {},
   "outputs": [
    {
     "name": "stdout",
     "output_type": "stream",
     "text": [
      "+-------+------------------+------------------+\n",
      "|summary|            rating|        prediction|\n",
      "+-------+------------------+------------------+\n",
      "|  count|           4992305|           4992305|\n",
      "|   mean| 3.534352468448943| 3.423928911872502|\n",
      "| stddev|1.0605168816397743|0.6426701150440502|\n",
      "|    min|               0.5|        -1.4200428|\n",
      "|    max|               5.0|          6.374601|\n",
      "+-------+------------------+------------------+\n",
      "\n"
     ]
    }
   ],
   "source": [
    "predictions.select(\"rating\", \"prediction\").describe().show()"
   ]
  },
  {
   "cell_type": "code",
   "execution_count": 18,
   "id": "acaee038",
   "metadata": {},
   "outputs": [],
   "source": [
    "# 영화의 평점 예측, 즉 회귀를 진행 했기 때문에 RegressionEvaluator로 평가 진행\n",
    "from pyspark.ml.evaluation import RegressionEvaluator\n",
    "\n",
    "evaluator = RegressionEvaluator(metricName='rmse', labelCol='rating', predictionCol='prediction')"
   ]
  },
  {
   "cell_type": "code",
   "execution_count": 19,
   "id": "8f8e86c9",
   "metadata": {},
   "outputs": [
    {
     "name": "stdout",
     "output_type": "stream",
     "text": [
      "0.8083967430557135\n"
     ]
    }
   ],
   "source": [
    "# 평가 결과 확인하기\n",
    "\n",
    "rmse = evaluator.evaluate(predictions)\n",
    "print(rmse)"
   ]
  },
  {
   "cell_type": "code",
   "execution_count": 20,
   "id": "c3a569fc",
   "metadata": {},
   "outputs": [
    {
     "name": "stderr",
     "output_type": "stream",
     "text": [
      "C:\\Users\\daesi\\anaconda3\\lib\\site-packages\\pyspark\\sql\\context.py:125: FutureWarning: Deprecated in 3.0.0. Use SparkSession.builder.getOrCreate() instead.\n",
      "  warnings.warn(\n"
     ]
    },
    {
     "name": "stdout",
     "output_type": "stream",
     "text": [
      "+------+--------------------+\n",
      "|userid|     recommendations|\n",
      "+------+--------------------+\n",
      "|    26|[{177209, 5.68791...|\n",
      "|    27|[{179063, 6.47533...|\n",
      "|    28|[{177209, 7.73377...|\n",
      "|    31|[{203086, 3.90486...|\n",
      "|    34|[{177209, 5.62623...|\n",
      "|    44|[{177209, 6.86821...|\n",
      "|    53|[{194334, 6.58236...|\n",
      "|    65|[{127252, 6.34869...|\n",
      "|    76|[{177209, 6.28936...|\n",
      "|    78|[{177209, 6.99564...|\n",
      "|    81|[{158755, 4.75545...|\n",
      "|    85|[{177209, 5.66690...|\n",
      "|   101|[{177209, 5.19097...|\n",
      "|   103|[{177209, 6.38743...|\n",
      "|   108|[{177209, 5.36059...|\n",
      "|   115|[{203086, 6.59715...|\n",
      "|   126|[{177209, 6.47607...|\n",
      "|   133|[{177209, 5.52077...|\n",
      "|   137|[{203086, 5.97566...|\n",
      "|   148|[{177209, 5.83982...|\n",
      "+------+--------------------+\n",
      "only showing top 20 rows\n",
      "\n"
     ]
    }
   ],
   "source": [
    "# 각 user 에게 top3 아이템을 추천 = {item 번호, 예측된 점수}\n",
    "model.recommendForAllUsers(3).show()"
   ]
  },
  {
   "cell_type": "code",
   "execution_count": 21,
   "id": "1da9a435",
   "metadata": {},
   "outputs": [
    {
     "name": "stdout",
     "output_type": "stream",
     "text": [
      "+-------+--------------------+\n",
      "|movieId|     recommendations|\n",
      "+-------+--------------------+\n",
      "|     12|[{87426, 5.2856},...|\n",
      "|     26|[{105801, 5.24974...|\n",
      "|     27|[{87426, 5.498817...|\n",
      "|     28|[{105801, 5.48115...|\n",
      "|     31|[{87426, 5.230362...|\n",
      "|     34|[{128562, 5.58630...|\n",
      "|     44|[{87426, 5.081454...|\n",
      "|     53|[{37339, 5.234616...|\n",
      "|     65|[{55247, 5.097826...|\n",
      "|     76|[{87426, 5.310548...|\n",
      "|     78|[{142811, 4.89411...|\n",
      "|     81|[{142811, 4.90820...|\n",
      "|     85|[{67565, 4.989594...|\n",
      "|    101|[{87816, 5.111314...|\n",
      "|    103|[{142811, 5.21307...|\n",
      "|    108|[{142811, 5.20111...|\n",
      "|    115|[{96740, 5.854862...|\n",
      "|    126|[{87426, 4.821117...|\n",
      "|    133|[{33115, 5.563246...|\n",
      "|    137|[{67565, 5.053014...|\n",
      "+-------+--------------------+\n",
      "only showing top 20 rows\n",
      "\n"
     ]
    }
   ],
   "source": [
    "# 각 movie에 어울리는 top 3 user를 추천 \n",
    "model.recommendForAllItems(3).show()"
   ]
  },
  {
   "cell_type": "code",
   "execution_count": 22,
   "id": "67ff5b25",
   "metadata": {},
   "outputs": [
    {
     "name": "stdout",
     "output_type": "stream",
     "text": [
      "+------+\n",
      "|userId|\n",
      "+------+\n",
      "|    65|\n",
      "|    78|\n",
      "|    81|\n",
      "+------+\n",
      "\n"
     ]
    }
   ],
   "source": [
    "from pyspark.sql.types import IntegerType\n",
    "\n",
    "user_list = [65, 78, 81]\n",
    "users_df = spark.createDataFrame(user_list, IntegerType()).toDF(\"userId\")\n",
    "\n",
    "users_df.show()"
   ]
  },
  {
   "cell_type": "code",
   "execution_count": 23,
   "id": "8810d095",
   "metadata": {},
   "outputs": [
    {
     "name": "stdout",
     "output_type": "stream",
     "text": [
      "+------+--------------------+\n",
      "|userid|     recommendations|\n",
      "+------+--------------------+\n",
      "|    65|[{127252, 6.34869...|\n",
      "|    78|[{177209, 6.99564...|\n",
      "|    81|[{158755, 4.75545...|\n",
      "+------+--------------------+\n",
      "\n"
     ]
    }
   ],
   "source": [
    "# 데이터 프레임으로 예측 할 때는 recommendForUserSubset\n",
    "user_recs = model.recommendForUserSubset(users_df, 5) # 각 user에 대해 top 5 추천\n",
    "user_recs.show()"
   ]
  },
  {
   "cell_type": "code",
   "execution_count": 24,
   "id": "f652d86d",
   "metadata": {},
   "outputs": [
    {
     "data": {
      "text/plain": [
       "[Row(movieId=127252, rating=6.348696231842041),\n",
       " Row(movieId=159761, rating=6.030430793762207),\n",
       " Row(movieId=177209, rating=5.985671043395996),\n",
       " Row(movieId=169606, rating=5.9849934577941895),\n",
       " Row(movieId=127843, rating=5.9390177726745605)]"
      ]
     },
     "execution_count": 24,
     "metadata": {},
     "output_type": "execute_result"
    }
   ],
   "source": [
    "movies_list = user_recs.collect()[0].recommendations\n",
    "movies_list"
   ]
  },
  {
   "cell_type": "code",
   "execution_count": 25,
   "id": "f2def02e",
   "metadata": {},
   "outputs": [
    {
     "name": "stdout",
     "output_type": "stream",
     "text": [
      "+-------+------------------+\n",
      "|movieId|            rating|\n",
      "+-------+------------------+\n",
      "| 127252| 6.348696231842041|\n",
      "| 159761| 6.030430793762207|\n",
      "| 177209| 5.985671043395996|\n",
      "| 169606|5.9849934577941895|\n",
      "| 127843|5.9390177726745605|\n",
      "+-------+------------------+\n",
      "\n"
     ]
    }
   ],
   "source": [
    "recs_df = spark.createDataFrame(movies_list)\n",
    "recs_df.show()"
   ]
  },
  {
   "cell_type": "code",
   "execution_count": 26,
   "id": "67491a99",
   "metadata": {},
   "outputs": [],
   "source": [
    "movies_file = \"movies.csv\""
   ]
  },
  {
   "cell_type": "code",
   "execution_count": 27,
   "id": "54f88176",
   "metadata": {},
   "outputs": [
    {
     "name": "stdout",
     "output_type": "stream",
     "text": [
      "+-------+--------------------+--------------------+\n",
      "|movieId|               title|              genres|\n",
      "+-------+--------------------+--------------------+\n",
      "|      1|    Toy Story (1995)|Adventure|Animati...|\n",
      "|      2|      Jumanji (1995)|Adventure|Childre...|\n",
      "|      3|Grumpier Old Men ...|      Comedy|Romance|\n",
      "|      4|Waiting to Exhale...|Comedy|Drama|Romance|\n",
      "|      5|Father of the Bri...|              Comedy|\n",
      "|      6|         Heat (1995)|Action|Crime|Thri...|\n",
      "|      7|      Sabrina (1995)|      Comedy|Romance|\n",
      "|      8| Tom and Huck (1995)|  Adventure|Children|\n",
      "|      9| Sudden Death (1995)|              Action|\n",
      "|     10|    GoldenEye (1995)|Action|Adventure|...|\n",
      "|     11|American Presiden...|Comedy|Drama|Romance|\n",
      "|     12|Dracula: Dead and...|       Comedy|Horror|\n",
      "|     13|        Balto (1995)|Adventure|Animati...|\n",
      "|     14|        Nixon (1995)|               Drama|\n",
      "|     15|Cutthroat Island ...|Action|Adventure|...|\n",
      "|     16|       Casino (1995)|         Crime|Drama|\n",
      "|     17|Sense and Sensibi...|       Drama|Romance|\n",
      "|     18|   Four Rooms (1995)|              Comedy|\n",
      "|     19|Ace Ventura: When...|              Comedy|\n",
      "|     20|  Money Train (1995)|Action|Comedy|Cri...|\n",
      "+-------+--------------------+--------------------+\n",
      "only showing top 20 rows\n",
      "\n"
     ]
    }
   ],
   "source": [
    "movies_df = spark.read.csv(f\"file:///{directory}\\\\{movies_file}\", inferSchema=True, header=True)\n",
    "movies_df.show()"
   ]
  },
  {
   "cell_type": "code",
   "execution_count": 28,
   "id": "2d0814a9",
   "metadata": {},
   "outputs": [],
   "source": [
    "#sql사용하기 위함\n",
    "recs_df.createOrReplaceTempView(\"recommendations\")\n",
    "movies_df.createOrReplaceTempView(\"movies\")"
   ]
  },
  {
   "cell_type": "code",
   "execution_count": 29,
   "id": "d41f91ab",
   "metadata": {},
   "outputs": [
    {
     "name": "stdout",
     "output_type": "stream",
     "text": [
      "+-------+--------------------+--------------------+-------+------------------+\n",
      "|movieId|               title|              genres|movieId|            rating|\n",
      "+-------+--------------------+--------------------+-------+------------------+\n",
      "| 127252|The Veil of Twili...|Crime|Fantasy|Mys...| 127252| 6.348696231842041|\n",
      "| 159761|         Loot (1970)|        Comedy|Crime| 159761| 6.030430793762207|\n",
      "| 177209|      Acı Aşk (2009)|               Drama| 177209| 5.985671043395996|\n",
      "| 169606|Dara O'Briain Cro...|              Comedy| 169606|5.9849934577941895|\n",
      "| 127843|   Antarctica (1983)|     Adventure|Drama| 127843|5.9390177726745605|\n",
      "+-------+--------------------+--------------------+-------+------------------+\n",
      "\n"
     ]
    }
   ],
   "source": [
    "query = \"\"\"\n",
    "    \n",
    "    SELECT * \n",
    "    \n",
    "    FROM movies\n",
    "    JOIN recommendations ON movies.movieId = recommendations.movieId\n",
    "    \n",
    "    ORDER BY rating desc\n",
    "    \n",
    "\"\"\"\n",
    "\n",
    "recommended_movies = spark.sql(query)\n",
    "recommended_movies.show()"
   ]
  },
  {
   "cell_type": "code",
   "execution_count": 30,
   "id": "bd3f46f5",
   "metadata": {},
   "outputs": [],
   "source": [
    "#유저별로 영화추천 > 함수화 시켜보기\n",
    "def get_recommendations(user_id, num_recs):\n",
    "    user_df = spark.createDataFrame([user_id], IntegerType()).toDF(\"userId\")\n",
    "    user_recs_df = model.recommendForUserSubset(user_df, num_recs)\n",
    "    \n",
    "    recs_list = user_recs_df.collect()[0].recommendations\n",
    "    recs_df = spark.createDataFrame(recs_list)\n",
    "    \n",
    "    recommended_movies = recs_df.join(movies_df, \"movieId\")\n",
    "    return recommended_movies"
   ]
  },
  {
   "cell_type": "code",
   "execution_count": 31,
   "id": "5ee92a70",
   "metadata": {},
   "outputs": [
    {
     "data": {
      "text/html": [
       "<div>\n",
       "<style scoped>\n",
       "    .dataframe tbody tr th:only-of-type {\n",
       "        vertical-align: middle;\n",
       "    }\n",
       "\n",
       "    .dataframe tbody tr th {\n",
       "        vertical-align: top;\n",
       "    }\n",
       "\n",
       "    .dataframe thead th {\n",
       "        text-align: right;\n",
       "    }\n",
       "</style>\n",
       "<table border=\"1\" class=\"dataframe\">\n",
       "  <thead>\n",
       "    <tr style=\"text-align: right;\">\n",
       "      <th></th>\n",
       "      <th>movieId</th>\n",
       "      <th>rating</th>\n",
       "      <th>title</th>\n",
       "      <th>genres</th>\n",
       "    </tr>\n",
       "  </thead>\n",
       "  <tbody>\n",
       "    <tr>\n",
       "      <th>0</th>\n",
       "      <td>177209</td>\n",
       "      <td>6.991477</td>\n",
       "      <td>Acı Aşk (2009)</td>\n",
       "      <td>Drama</td>\n",
       "    </tr>\n",
       "    <tr>\n",
       "      <th>1</th>\n",
       "      <td>159761</td>\n",
       "      <td>6.676736</td>\n",
       "      <td>Loot (1970)</td>\n",
       "      <td>Comedy|Crime</td>\n",
       "    </tr>\n",
       "    <tr>\n",
       "      <th>2</th>\n",
       "      <td>203086</td>\n",
       "      <td>6.568202</td>\n",
       "      <td>Truth and Justice (2019)</td>\n",
       "      <td>Drama</td>\n",
       "    </tr>\n",
       "    <tr>\n",
       "      <th>3</th>\n",
       "      <td>203882</td>\n",
       "      <td>6.428560</td>\n",
       "      <td>Dead in the Water (2006)</td>\n",
       "      <td>Horror</td>\n",
       "    </tr>\n",
       "    <tr>\n",
       "      <th>4</th>\n",
       "      <td>144202</td>\n",
       "      <td>6.252572</td>\n",
       "      <td>Catch That Girl (2002)</td>\n",
       "      <td>Action|Children</td>\n",
       "    </tr>\n",
       "    <tr>\n",
       "      <th>5</th>\n",
       "      <td>183947</td>\n",
       "      <td>6.149256</td>\n",
       "      <td>NOFX Backstage Passport 2</td>\n",
       "      <td>(no genres listed)</td>\n",
       "    </tr>\n",
       "    <tr>\n",
       "      <th>6</th>\n",
       "      <td>143571</td>\n",
       "      <td>6.116813</td>\n",
       "      <td>Private Practices: The Story of a Sex Surrogat...</td>\n",
       "      <td>Documentary</td>\n",
       "    </tr>\n",
       "    <tr>\n",
       "      <th>7</th>\n",
       "      <td>174627</td>\n",
       "      <td>5.961359</td>\n",
       "      <td>An Alternative Reality: The Football Manager D...</td>\n",
       "      <td>Documentary</td>\n",
       "    </tr>\n",
       "    <tr>\n",
       "      <th>8</th>\n",
       "      <td>127843</td>\n",
       "      <td>5.960376</td>\n",
       "      <td>Antarctica (1983)</td>\n",
       "      <td>Adventure|Drama</td>\n",
       "    </tr>\n",
       "    <tr>\n",
       "      <th>9</th>\n",
       "      <td>187951</td>\n",
       "      <td>5.936113</td>\n",
       "      <td>Father of Lights (2012)</td>\n",
       "      <td>Documentary</td>\n",
       "    </tr>\n",
       "  </tbody>\n",
       "</table>\n",
       "</div>"
      ],
      "text/plain": [
       "   movieId    rating                                              title  \\\n",
       "0   177209  6.991477                                     Acı Aşk (2009)   \n",
       "1   159761  6.676736                                        Loot (1970)   \n",
       "2   203086  6.568202                           Truth and Justice (2019)   \n",
       "3   203882  6.428560                           Dead in the Water (2006)   \n",
       "4   144202  6.252572                             Catch That Girl (2002)   \n",
       "5   183947  6.149256                          NOFX Backstage Passport 2   \n",
       "6   143571  6.116813  Private Practices: The Story of a Sex Surrogat...   \n",
       "7   174627  5.961359  An Alternative Reality: The Football Manager D...   \n",
       "8   127843  5.960376                                  Antarctica (1983)   \n",
       "9   187951  5.936113                            Father of Lights (2012)   \n",
       "\n",
       "               genres  \n",
       "0               Drama  \n",
       "1        Comedy|Crime  \n",
       "2               Drama  \n",
       "3              Horror  \n",
       "4     Action|Children  \n",
       "5  (no genres listed)  \n",
       "6         Documentary  \n",
       "7         Documentary  \n",
       "8     Adventure|Drama  \n",
       "9         Documentary  "
      ]
     },
     "execution_count": 31,
     "metadata": {},
     "output_type": "execute_result"
    }
   ],
   "source": [
    "recs = get_recommendations(456, 10) #456유저 10개 추천\n",
    "recs.toPandas()"
   ]
  },
  {
   "cell_type": "code",
   "execution_count": 32,
   "id": "57e6aee3",
   "metadata": {},
   "outputs": [],
   "source": [
    "spark.stop()"
   ]
  },
  {
   "cell_type": "code",
   "execution_count": null,
   "id": "088779dd",
   "metadata": {},
   "outputs": [],
   "source": []
  },
  {
   "cell_type": "code",
   "execution_count": null,
   "id": "5dc7b85f",
   "metadata": {},
   "outputs": [],
   "source": []
  }
 ],
 "metadata": {
  "kernelspec": {
   "display_name": "Python 3 (ipykernel)",
   "language": "python",
   "name": "python3"
  },
  "language_info": {
   "codemirror_mode": {
    "name": "ipython",
    "version": 3
   },
   "file_extension": ".py",
   "mimetype": "text/x-python",
   "name": "python",
   "nbconvert_exporter": "python",
   "pygments_lexer": "ipython3",
   "version": "3.9.13"
  }
 },
 "nbformat": 4,
 "nbformat_minor": 5
}
