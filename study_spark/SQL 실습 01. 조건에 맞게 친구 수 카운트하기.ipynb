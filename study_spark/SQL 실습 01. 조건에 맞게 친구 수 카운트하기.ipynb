{
 "cells": [
  {
   "cell_type": "markdown",
   "id": "c9a06ba7",
   "metadata": {},
   "source": [
    "# SparkSession 생성"
   ]
  },
  {
   "cell_type": "code",
   "execution_count": 1,
   "id": "b3b7d5b3",
   "metadata": {},
   "outputs": [],
   "source": [
    "from pyspark.sql import SparkSession\n",
    "from pyspark.sql import Row"
   ]
  },
  {
   "cell_type": "code",
   "execution_count": 2,
   "id": "9cbae9d9",
   "metadata": {},
   "outputs": [],
   "source": [
    "spark = SparkSession.builder.appName(\"SparkSQL\").getOrCreate()"
   ]
  },
  {
   "cell_type": "markdown",
   "id": "83608bb2",
   "metadata": {},
   "source": [
    "# fakefriends.csv로딩"
   ]
  },
  {
   "cell_type": "code",
   "execution_count": 3,
   "id": "a3d9d781",
   "metadata": {},
   "outputs": [
    {
     "data": {
      "text/plain": [
       "['0,Will,33,385', '1,Jean-Luc,26,2', '2,Hugh,55,221']"
      ]
     },
     "execution_count": 3,
     "metadata": {},
     "output_type": "execute_result"
    }
   ],
   "source": [
    "# RDD 에서 로딩하는 방법으로 불러오기\n",
    "directory=\"C:\\\\Users\\\\daesi\\\\Downloads\\\\빅데이터 소스코드\\\\소스코드\\\\study_spark\\\\data\"\n",
    "filename  = \"fakefriends.csv\"\n",
    "\n",
    "lines = spark.sparkContext.textFile(f\"file:///{directory}\\\\{filename}\")\n",
    "lines.collect()[:3]\n"
   ]
  },
  {
   "cell_type": "code",
   "execution_count": 4,
   "id": "e9488d2f",
   "metadata": {},
   "outputs": [
    {
     "data": {
      "text/plain": [
       "[Row(ID=0, name=\"b'Will'\", age=33, numFriends=385),\n",
       " Row(ID=1, name=\"b'Jean-Luc'\", age=26, numFriends=2),\n",
       " Row(ID=2, name=\"b'Hugh'\", age=55, numFriends=221)]"
      ]
     },
     "execution_count": 4,
     "metadata": {},
     "output_type": "execute_result"
    }
   ],
   "source": [
    "def mapper(line):\n",
    "    fields = line.split(\",\")\n",
    "    return Row(ID=int(fields[0]), name=str(fields[1].encode(\"utf-8\")), age=int(fields[2]), numFriends=int(fields[3]))\n",
    "\n",
    "# rdd의 map을 이용해서 Row 형식으로 모두 바꿔준다.\n",
    "people = lines.map(mapper)\n",
    "people.collect()[:3]"
   ]
  },
  {
   "cell_type": "markdown",
   "id": "b645808a",
   "metadata": {},
   "source": [
    "매핑된 people RDD를 활용해 데이터 프레임 생성"
   ]
  },
  {
   "cell_type": "code",
   "execution_count": 5,
   "id": "f33a6146",
   "metadata": {},
   "outputs": [
    {
     "name": "stdout",
     "output_type": "stream",
     "text": [
      "+---+-----------+---+----------+\n",
      "| ID|       name|age|numFriends|\n",
      "+---+-----------+---+----------+\n",
      "|  0|    b'Will'| 33|       385|\n",
      "|  1|b'Jean-Luc'| 26|         2|\n",
      "|  2|    b'Hugh'| 55|       221|\n",
      "|  3|  b'Deanna'| 40|       465|\n",
      "|  4|   b'Quark'| 68|        21|\n",
      "|  5|  b'Weyoun'| 59|       318|\n",
      "|  6|  b'Gowron'| 37|       220|\n",
      "|  7|    b'Will'| 54|       307|\n",
      "|  8|  b'Jadzia'| 38|       380|\n",
      "|  9|    b'Hugh'| 27|       181|\n",
      "| 10|     b'Odo'| 53|       191|\n",
      "| 11|     b'Ben'| 57|       372|\n",
      "| 12|   b'Keiko'| 54|       253|\n",
      "| 13|b'Jean-Luc'| 56|       444|\n",
      "| 14|    b'Hugh'| 43|        49|\n",
      "| 15|     b'Rom'| 36|        49|\n",
      "| 16|  b'Weyoun'| 22|       323|\n",
      "| 17|     b'Odo'| 35|        13|\n",
      "| 18|b'Jean-Luc'| 45|       455|\n",
      "| 19|  b'Geordi'| 60|       246|\n",
      "+---+-----------+---+----------+\n",
      "only showing top 20 rows\n",
      "\n"
     ]
    }
   ],
   "source": [
    "schemaPeople = spark.createDataFrame(people).cache()\n",
    "\n",
    "schemaPeople.createOrReplaceTempView(\"people\")\n",
    "schemaPeople.show()"
   ]
  },
  {
   "cell_type": "markdown",
   "id": "717bc89a",
   "metadata": {},
   "source": [
    "# sql을 이용해 데이터 조회\n",
    "`createOrReplaceTempView`를 이용해 등록된 테이블에 쿼리를 사용할 수 있습니다."
   ]
  },
  {
   "cell_type": "code",
   "execution_count": 6,
   "id": "a9eb6788",
   "metadata": {},
   "outputs": [
    {
     "name": "stdout",
     "output_type": "stream",
     "text": [
      "+---+----------+---+----------+\n",
      "| ID|      name|age|numFriends|\n",
      "+---+----------+---+----------+\n",
      "| 21|  b'Miles'| 19|       268|\n",
      "| 52|b'Beverly'| 19|       269|\n",
      "| 54|  b'Brunt'| 19|         5|\n",
      "|106|b'Beverly'| 18|       499|\n",
      "|115|  b'Dukat'| 18|       397|\n",
      "|133|  b'Quark'| 19|       265|\n",
      "|136|   b'Will'| 19|       335|\n",
      "|225|   b'Elim'| 19|       106|\n",
      "|304|   b'Will'| 19|       404|\n",
      "|341|   b'Data'| 18|       326|\n",
      "|366|  b'Keiko'| 19|       119|\n",
      "|373|  b'Quark'| 19|       272|\n",
      "|377|b'Beverly'| 18|       418|\n",
      "|404| b'Kasidy'| 18|        24|\n",
      "|409|    b'Nog'| 19|       267|\n",
      "|439|   b'Data'| 18|       417|\n",
      "|444|  b'Keiko'| 18|       472|\n",
      "|492|  b'Dukat'| 19|        36|\n",
      "|494| b'Kasidy'| 18|       194|\n",
      "+---+----------+---+----------+\n",
      "\n"
     ]
    }
   ],
   "source": [
    "# 쿼리를 사용해서 13 ~ 19세의 모든 정보를 조회\n",
    "query = \"\"\"\n",
    "SELECT *\n",
    "  FROM people\n",
    " WHERE age >= 13 AND age <= 19\n",
    "\"\"\"\n",
    "spark.sql(query).show()"
   ]
  },
  {
   "cell_type": "code",
   "execution_count": 7,
   "id": "94feea62",
   "metadata": {},
   "outputs": [
    {
     "name": "stdout",
     "output_type": "stream",
     "text": [
      "+---+-----+\n",
      "|age|count|\n",
      "+---+-----+\n",
      "| 18|    8|\n",
      "| 19|   11|\n",
      "| 20|    5|\n",
      "| 21|    8|\n",
      "| 22|    7|\n",
      "| 23|   10|\n",
      "| 24|    5|\n",
      "| 25|   11|\n",
      "| 26|   17|\n",
      "| 27|    8|\n",
      "| 28|   10|\n",
      "| 29|   12|\n",
      "| 30|   11|\n",
      "| 31|    8|\n",
      "| 32|   11|\n",
      "| 33|   12|\n",
      "| 34|    6|\n",
      "| 35|    8|\n",
      "| 36|   10|\n",
      "| 37|    9|\n",
      "+---+-----+\n",
      "only showing top 20 rows\n",
      "\n"
     ]
    }
   ],
   "source": [
    "schemaPeople.groupBy(\"age\").count().orderBy(\"age\").show()"
   ]
  },
  {
   "cell_type": "code",
   "execution_count": 8,
   "id": "9d972683",
   "metadata": {},
   "outputs": [],
   "source": [
    "spark.stop()"
   ]
  },
  {
   "cell_type": "code",
   "execution_count": null,
   "id": "50dccdac",
   "metadata": {},
   "outputs": [],
   "source": []
  },
  {
   "cell_type": "code",
   "execution_count": null,
   "id": "3223d600",
   "metadata": {},
   "outputs": [],
   "source": []
  },
  {
   "cell_type": "code",
   "execution_count": null,
   "id": "b9aa8030",
   "metadata": {},
   "outputs": [],
   "source": []
  },
  {
   "cell_type": "code",
   "execution_count": null,
   "id": "3b97b397",
   "metadata": {},
   "outputs": [],
   "source": []
  }
 ],
 "metadata": {
  "kernelspec": {
   "display_name": "Python 3 (ipykernel)",
   "language": "python",
   "name": "python3"
  },
  "language_info": {
   "codemirror_mode": {
    "name": "ipython",
    "version": 3
   },
   "file_extension": ".py",
   "mimetype": "text/x-python",
   "name": "python",
   "nbconvert_exporter": "python",
   "pygments_lexer": "ipython3",
   "version": "3.9.13"
  }
 },
 "nbformat": 4,
 "nbformat_minor": 5
}
