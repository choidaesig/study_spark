{
 "cells": [
  {
   "cell_type": "code",
   "execution_count": 2,
   "id": "9087a50f",
   "metadata": {},
   "outputs": [
    {
     "ename": "ImportError",
     "evalue": "cannot import name 'sparkCong' from 'pyspark' (C:\\Users\\daesi\\AppData\\Roaming\\Python\\Python39\\site-packages\\pyspark\\__init__.py)",
     "output_type": "error",
     "traceback": [
      "\u001b[1;31m---------------------------------------------------------------------------\u001b[0m",
      "\u001b[1;31mImportError\u001b[0m                               Traceback (most recent call last)",
      "Input \u001b[1;32mIn [2]\u001b[0m, in \u001b[0;36m<cell line: 1>\u001b[1;34m()\u001b[0m\n\u001b[1;32m----> 1\u001b[0m \u001b[38;5;28;01mfrom\u001b[39;00m \u001b[38;5;21;01mpyspark\u001b[39;00m \u001b[38;5;28;01mimport\u001b[39;00m sparkCong, SparkContext\n\u001b[0;32m      3\u001b[0m conf \u001b[38;5;241m=\u001b[39m SparkConf()\u001b[38;5;241m.\u001b[39msetMaster(\u001b[38;5;124m\"\u001b[39m\u001b[38;5;124mlocal\u001b[39m\u001b[38;5;124m\"\u001b[39m)\u001b[38;5;241m.\u001b[39msetAppName(\u001b[38;5;124m\"\u001b[39m\u001b[38;5;124mrestaurent-review-average\u001b[39m\u001b[38;5;124m\"\u001b[39m)\n\u001b[0;32m      4\u001b[0m sc\u001b[38;5;241m=\u001b[39m SparkContext(conf\u001b[38;5;241m=\u001b[39mconf)\n",
      "\u001b[1;31mImportError\u001b[0m: cannot import name 'sparkCong' from 'pyspark' (C:\\Users\\daesi\\AppData\\Roaming\\Python\\Python39\\site-packages\\pyspark\\__init__.py)"
     ]
    }
   ],
   "source": [
    "from pyspark import sparkCong, SparkContext\n",
    "\n",
    "conf = SparkConf().setMaster(\"local\").setAppName(\"restaurent-review-average\")\n",
    "sc= SparkContext(conf=conf)"
   ]
  },
  {
   "cell_type": "code",
   "execution_count": null,
   "id": "f828ce81",
   "metadata": {},
   "outputs": [],
   "source": [
    "directory=\"C:\\Users\\daesi\\Downloads\\빅데이터 소스코드\\소스코드\\study_spark\\data\"\n",
    "filename=\"restaurant_review.csv\""
   ]
  },
  {
   "cell_type": "code",
   "execution_count": null,
   "id": "a022dbb8",
   "metadata": {},
   "outputs": [],
   "source": [
    "lines.sc.textFile(f\"file:///{directory}\\\\{filename}\")"
   ]
  },
  {
   "cell_type": "code",
   "execution_count": null,
   "id": "d859b0b6",
   "metadata": {},
   "outputs": [],
   "source": [
    "lines.collect()"
   ]
  },
  {
   "cell_type": "code",
   "execution_count": null,
   "id": "29209850",
   "metadata": {},
   "outputs": [],
   "source": [
    "header=lines.first\n",
    "filtered_lines.filter(lambda row : row != header)\n",
    "filtered_lines.collect()"
   ]
  },
  {
   "cell_type": "code",
   "execution_count": null,
   "id": "17f1d9b5",
   "metadata": {},
   "outputs": [],
   "source": [
    "def parse(row):\n",
    "    fields=row.split(\",\")\n",
    "    category = field[2]\n",
    "    reviews= int(fields[3])\n",
    "    \n",
    "    return category, reviews"
   ]
  },
  {
   "cell_type": "markdown",
   "id": "1d8da4a7",
   "metadata": {},
   "source": [
    "# persist를 사용하지 않는 경우"
   ]
  },
  {
   "cell_type": "code",
   "execution_count": null,
   "id": "15eda0c1",
   "metadata": {},
   "outputs": [],
   "source": [
    "# transformations를 수행할 RDD 생성\n",
    "categoryReviews = filtered_lines.map(parse)\n",
    "categoryReviews.collect()"
   ]
  },
  {
   "cell_type": "code",
   "execution_count": null,
   "id": "9a4b41f4",
   "metadata": {},
   "outputs": [],
   "source": [
    "result1=categoryReviews.take(10) # action을 곧바로 실행\n",
    "result2=categoryReviews.mapValues(lambda x :(x,1)).collect() "
   ]
  },
  {
   "cell_type": "code",
   "execution_count": null,
   "id": "35fddfe6",
   "metadata": {},
   "outputs": [],
   "source": [
    "result1, result2"
   ]
  },
  {
   "cell_type": "markdown",
   "id": "11ea5b65",
   "metadata": {},
   "source": [
    "categoryReviews는 result1, result2를 만들면서 2번 만들어진다. categoryReview에서 데이터를 꺼내오기만 하면되지, 변경은 일어나지 않기 때문에 persist를 이용해서 메모리에 넣어 놓는 것이 더 좋아 보인다."
   ]
  },
  {
   "cell_type": "markdown",
   "id": "f1c1f9e1",
   "metadata": {},
   "source": [
    "# persist를 사용하는 경우"
   ]
  },
  {
   "cell_type": "code",
   "execution_count": null,
   "id": "c178ca4a",
   "metadata": {},
   "outputs": [],
   "source": [
    "categoryReviews = filtered_lines.map(parse).persist() #categoryReviews RDD는 하나만 존재하는 RDD\n",
    "categoryReviews"
   ]
  },
  {
   "cell_type": "code",
   "execution_count": null,
   "id": "1f87d081",
   "metadata": {},
   "outputs": [],
   "source": [
    "result1=categoryReviews.take(10)\n",
    "result2=categoryReviews.mapValues(lambda x :(x,1)).collect() "
   ]
  },
  {
   "cell_type": "code",
   "execution_count": 3,
   "id": "9f7ca01d",
   "metadata": {},
   "outputs": [
    {
     "ename": "NameError",
     "evalue": "name 'sc' is not defined",
     "output_type": "error",
     "traceback": [
      "\u001b[1;31m---------------------------------------------------------------------------\u001b[0m",
      "\u001b[1;31mNameError\u001b[0m                                 Traceback (most recent call last)",
      "Input \u001b[1;32mIn [3]\u001b[0m, in \u001b[0;36m<cell line: 1>\u001b[1;34m()\u001b[0m\n\u001b[1;32m----> 1\u001b[0m \u001b[43msc\u001b[49m\u001b[38;5;241m.\u001b[39mstop()\n",
      "\u001b[1;31mNameError\u001b[0m: name 'sc' is not defined"
     ]
    }
   ],
   "source": [
    "sc.stop()"
   ]
  },
  {
   "cell_type": "code",
   "execution_count": null,
   "id": "dd2da343",
   "metadata": {},
   "outputs": [],
   "source": []
  },
  {
   "cell_type": "code",
   "execution_count": null,
   "id": "71277e07",
   "metadata": {},
   "outputs": [],
   "source": []
  },
  {
   "cell_type": "code",
   "execution_count": null,
   "id": "0a4ad378",
   "metadata": {},
   "outputs": [],
   "source": []
  },
  {
   "cell_type": "code",
   "execution_count": null,
   "id": "41643e5d",
   "metadata": {},
   "outputs": [],
   "source": []
  },
  {
   "cell_type": "code",
   "execution_count": null,
   "id": "6d189b19",
   "metadata": {},
   "outputs": [],
   "source": []
  },
  {
   "cell_type": "code",
   "execution_count": null,
   "id": "d0c8e888",
   "metadata": {},
   "outputs": [],
   "source": []
  },
  {
   "cell_type": "code",
   "execution_count": null,
   "id": "4a0378dd",
   "metadata": {},
   "outputs": [],
   "source": []
  },
  {
   "cell_type": "code",
   "execution_count": null,
   "id": "b6bc72e5",
   "metadata": {},
   "outputs": [],
   "source": []
  },
  {
   "cell_type": "code",
   "execution_count": null,
   "id": "8a4f212a",
   "metadata": {},
   "outputs": [],
   "source": []
  },
  {
   "cell_type": "code",
   "execution_count": null,
   "id": "a2213162",
   "metadata": {},
   "outputs": [],
   "source": []
  },
  {
   "cell_type": "code",
   "execution_count": null,
   "id": "1886169b",
   "metadata": {},
   "outputs": [],
   "source": []
  },
  {
   "cell_type": "code",
   "execution_count": null,
   "id": "f716ac7c",
   "metadata": {},
   "outputs": [],
   "source": []
  },
  {
   "cell_type": "code",
   "execution_count": null,
   "id": "db4133b5",
   "metadata": {},
   "outputs": [],
   "source": []
  },
  {
   "cell_type": "code",
   "execution_count": null,
   "id": "07ebf4f1",
   "metadata": {},
   "outputs": [],
   "source": []
  }
 ],
 "metadata": {
  "kernelspec": {
   "display_name": "Python 3 (ipykernel)",
   "language": "python",
   "name": "python3"
  },
  "language_info": {
   "codemirror_mode": {
    "name": "ipython",
    "version": 3
   },
   "file_extension": ".py",
   "mimetype": "text/x-python",
   "name": "python",
   "nbconvert_exporter": "python",
   "pygments_lexer": "ipython3",
   "version": "3.9.12"
  }
 },
 "nbformat": 4,
 "nbformat_minor": 5
}
