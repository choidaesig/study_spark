{
 "cells": [
  {
   "cell_type": "code",
   "execution_count": 1,
   "id": "9b84c12e",
   "metadata": {},
   "outputs": [
    {
     "ename": "SyntaxError",
     "evalue": "invalid syntax (1763543092.py, line 1)",
     "output_type": "error",
     "traceback": [
      "\u001b[1;36m  Input \u001b[1;32mIn [1]\u001b[1;36m\u001b[0m\n\u001b[1;33m    from\u001b[0m\n\u001b[1;37m        ^\u001b[0m\n\u001b[1;31mSyntaxError\u001b[0m\u001b[1;31m:\u001b[0m invalid syntax\n"
     ]
    }
   ],
   "source": [
    "from pyspark import SparkConf, SparkContext"
   ]
  },
  {
   "cell_type": "code",
   "execution_count": null,
   "id": "b887c7be",
   "metadata": {},
   "outputs": [],
   "source": [
    "conf=SparkConf().setMaster(\"local\").setAppName(transformations.actions)\n",
    "sc=SparkContext(conf=conf)"
   ]
  },
  {
   "cell_type": "markdown",
   "id": "5e348115",
   "metadata": {},
   "source": [
    "스파크 환경 설정 확인"
   ]
  },
  {
   "cell_type": "code",
   "execution_count": null,
   "id": "9ca0a65d",
   "metadata": {},
   "outputs": [],
   "source": [
    "sc.getConf.getAll()"
   ]
  },
  {
   "cell_type": "markdown",
   "id": "d6195aed",
   "metadata": {},
   "source": [
    "# RDD생성\n",
    "일반 파이썬의 리스트를 이용해서 RDD 생성\n",
    "    -parallelize([item1, item2, item3, ...])"
   ]
  },
  {
   "cell_type": "code",
   "execution_count": null,
   "id": "b79dd3ae",
   "metadata": {},
   "outputs": [],
   "source": [
    "foods = sc.paralielize([\n",
    "    \"짜장면\",\"마라탕\",\"짬뽕\",\"떡볶이\",\"쌀국수\",\"짬뽕\",\"짜장면\",\"짜장면\",\"짜장면\",\"라면\",\"우동\",\"라면\"\n",
    "])"
   ]
  },
  {
   "cell_type": "code",
   "execution_count": 2,
   "id": "ff3f0869",
   "metadata": {},
   "outputs": [
    {
     "ename": "NameError",
     "evalue": "name 'foods' is not defined",
     "output_type": "error",
     "traceback": [
      "\u001b[1;31m---------------------------------------------------------------------------\u001b[0m",
      "\u001b[1;31mNameError\u001b[0m                                 Traceback (most recent call last)",
      "Input \u001b[1;32mIn [2]\u001b[0m, in \u001b[0;36m<cell line: 1>\u001b[1;34m()\u001b[0m\n\u001b[1;32m----> 1\u001b[0m \u001b[43mfoods\u001b[49m\u001b[38;5;241m.\u001b[39mcollect()\n",
      "\u001b[1;31mNameError\u001b[0m: name 'foods' is not defined"
     ]
    }
   ],
   "source": [
    "foods.collect()"
   ]
  },
  {
   "cell_type": "raw",
   "id": "a03afd67",
   "metadata": {},
   "source": [
    "각 음식 별 개수 세기\n",
    " -countByValue()"
   ]
  },
  {
   "cell_type": "code",
   "execution_count": null,
   "id": "3824374a",
   "metadata": {},
   "outputs": [],
   "source": [
    "foods.countByValue()"
   ]
  },
  {
   "cell_type": "markdown",
   "id": "aa68b3df",
   "metadata": {},
   "source": [
    "상위n개의 데이터 가져오기 \n",
    "take(n) / 처음 데이터 가져오기 first() / 데이터의 개수 세기 count() / 중복제거 distinct() - 근데 이건 action 아닌 transformation이다"
   ]
  },
  {
   "cell_type": "code",
   "execution_count": null,
   "id": "cbab7dc9",
   "metadata": {},
   "outputs": [],
   "source": [
    "foods.take(10)"
   ]
  },
  {
   "cell_type": "code",
   "execution_count": 3,
   "id": "19a0a872",
   "metadata": {},
   "outputs": [
    {
     "ename": "NameError",
     "evalue": "name 'foods' is not defined",
     "output_type": "error",
     "traceback": [
      "\u001b[1;31m---------------------------------------------------------------------------\u001b[0m",
      "\u001b[1;31mNameError\u001b[0m                                 Traceback (most recent call last)",
      "Input \u001b[1;32mIn [3]\u001b[0m, in \u001b[0;36m<cell line: 1>\u001b[1;34m()\u001b[0m\n\u001b[1;32m----> 1\u001b[0m \u001b[43mfoods\u001b[49m\u001b[38;5;241m.\u001b[39mfirst()\n",
      "\u001b[1;31mNameError\u001b[0m: name 'foods' is not defined"
     ]
    }
   ],
   "source": [
    "foods.first()"
   ]
  },
  {
   "cell_type": "code",
   "execution_count": null,
   "id": "a95aae6e",
   "metadata": {},
   "outputs": [],
   "source": [
    "foods.count()"
   ]
  },
  {
   "cell_type": "code",
   "execution_count": null,
   "id": "1d29b5dc",
   "metadata": {},
   "outputs": [],
   "source": [
    "fd=foods.distinct()\n",
    "fd"
   ]
  },
  {
   "cell_type": "code",
   "execution_count": 4,
   "id": "d94cc68c",
   "metadata": {},
   "outputs": [
    {
     "ename": "NameError",
     "evalue": "name 'fd' is not defined",
     "output_type": "error",
     "traceback": [
      "\u001b[1;31m---------------------------------------------------------------------------\u001b[0m",
      "\u001b[1;31mNameError\u001b[0m                                 Traceback (most recent call last)",
      "Input \u001b[1;32mIn [4]\u001b[0m, in \u001b[0;36m<cell line: 1>\u001b[1;34m()\u001b[0m\n\u001b[1;32m----> 1\u001b[0m \u001b[43mfd\u001b[49m\u001b[38;5;241m.\u001b[39mcollect()\n",
      "\u001b[1;31mNameError\u001b[0m: name 'fd' is not defined"
     ]
    }
   ],
   "source": [
    "# 중복이 제거된 상태의 RDD\n",
    "fd.collect()"
   ]
  },
  {
   "cell_type": "code",
   "execution_count": 5,
   "id": "c325cbad",
   "metadata": {},
   "outputs": [
    {
     "ename": "NameError",
     "evalue": "name 'fd' is not defined",
     "output_type": "error",
     "traceback": [
      "\u001b[1;31m---------------------------------------------------------------------------\u001b[0m",
      "\u001b[1;31mNameError\u001b[0m                                 Traceback (most recent call last)",
      "Input \u001b[1;32mIn [5]\u001b[0m, in \u001b[0;36m<cell line: 1>\u001b[1;34m()\u001b[0m\n\u001b[1;32m----> 1\u001b[0m \u001b[43mfd\u001b[49m\u001b[38;5;241m.\u001b[39mcount()\n",
      "\u001b[1;31mNameError\u001b[0m: name 'fd' is not defined"
     ]
    }
   ],
   "source": [
    "# 중복을 제외한 데이터 개수 세기\n",
    "fd.count()"
   ]
  },
  {
   "cell_type": "markdown",
   "id": "8a68df00",
   "metadata": {},
   "source": [
    "요소들을 하나 꺼내서 함수에 저장\n",
    "- return 을 하지 않는다. // 마스터 노드가 결과를 볼 수 없다\n",
    "- foreach(<func>)  // 워커 노드에서만 실행되는 거라고 생각하면 됨.\n",
    "  - foreach는 액션이다. SparkContext에서는 보이지 않는다. RDD에 연산을 하고 나서 log를 저장하거나 할때 유리하다.\n",
    "    "
   ]
  },
  {
   "cell_type": "code",
   "execution_count": 2,
   "id": "49c30a8c",
   "metadata": {},
   "outputs": [
    {
     "ename": "SyntaxError",
     "evalue": "invalid syntax (923000044.py, line 3)",
     "output_type": "error",
     "traceback": [
      "\u001b[1;36m  Input \u001b[1;32mIn [2]\u001b[1;36m\u001b[0m\n\u001b[1;33m    foreach는 액션이다. SparkContext에서는 보이지 않는다.\u001b[0m\n\u001b[1;37m             ^\u001b[0m\n\u001b[1;31mSyntaxError\u001b[0m\u001b[1;31m:\u001b[0m invalid syntax\n"
     ]
    }
   ],
   "source": [
    "#worker 노드에서 실행이 됩니다. SparkContext에서 실횅되는 것이 아니다.\n",
    "food.foreach(lambda x : print(x)) # x에 rdd의 원소 하나하나 들어간다\n"
   ]
  },
  {
   "cell_type": "markdown",
   "id": "2fe7d3cc",
   "metadata": {},
   "source": [
    "# Narrow Transformations\n",
    "-1:1변환을 의미한다.\n",
    "-하나의 열을 조작하기 위해 다른 열 및 파티션의 데이터를 사용할 필요가 없다.\n",
    "- filter(), mac(), flatMap(), sample(), union()"
   ]
  },
  {
   "cell_type": "raw",
   "id": "2e959b27",
   "metadata": {},
   "source": [
    "map(<func>)\n",
    "    데이터를 하나씩 거내서 <func> 함수가 적용된 새로운 RDD가 만들어 진다."
   ]
  },
  {
   "cell_type": "code",
   "execution_count": null,
   "id": "f560be33",
   "metadata": {},
   "outputs": [],
   "source": [
    "sample_rdd.map=sc.parallelize([1,2,3])\n",
    "sample_rdd"
   ]
  },
  {
   "cell_type": "code",
   "execution_count": null,
   "id": "d6c8e3e6",
   "metadata": {},
   "outputs": [],
   "source": [
    "sample_rdd2 =  sample_rdd.map(lambda x :x+2)\n",
    "sample_rdd2"
   ]
  },
  {
   "cell_type": "code",
   "execution_count": null,
   "id": "c36e966b",
   "metadata": {},
   "outputs": [],
   "source": [
    "sample_rdd2.collect()"
   ]
  },
  {
   "cell_type": "markdown",
   "id": "ce1c36bf",
   "metadata": {},
   "source": [
    "**flatMap(<func>)\n",
    "    = map함수와 거의 비슷하나, flatMap함수는 map의 모든 결과를 1차원 배열 형식으로 평평하게 나타낸다."
   ]
  },
  {
   "cell_type": "code",
   "execution_count": null,
   "id": "7cc3eaca",
   "metadata": {},
   "outputs": [],
   "source": [
    "movie=[\n",
    "    \"왕\",\n",
    "    \"황\",\n",
    "    \"죽음\",\n",
    "    \"행복\",\n",
    "    \"생존\"\n",
    "]"
   ]
  },
  {
   "cell_type": "code",
   "execution_count": 3,
   "id": "f09bb5c9",
   "metadata": {},
   "outputs": [
    {
     "ename": "NameError",
     "evalue": "name 'sc' is not defined",
     "output_type": "error",
     "traceback": [
      "\u001b[1;31m---------------------------------------------------------------------------\u001b[0m",
      "\u001b[1;31mNameError\u001b[0m                                 Traceback (most recent call last)",
      "Input \u001b[1;32mIn [3]\u001b[0m, in \u001b[0;36m<cell line: 1>\u001b[1;34m()\u001b[0m\n\u001b[1;32m----> 1\u001b[0m moviesR\u001b[38;5;241m=\u001b[39m \u001b[43msc\u001b[49m\u001b[38;5;241m.\u001b[39mparallelize(movies)\n\u001b[0;32m      2\u001b[0m moviesRDD\n",
      "\u001b[1;31mNameError\u001b[0m: name 'sc' is not defined"
     ]
    }
   ],
   "source": [
    "moviesRDD= sc.parallelize(movies)\n",
    "moviesRDD"
   ]
  },
  {
   "cell_type": "code",
   "execution_count": null,
   "id": "448cfa97",
   "metadata": {},
   "outputs": [],
   "source": [
    "mapMovies = moviesRDD.map(lambda x: x.split(\"\"))\n",
    "mapMovies"
   ]
  },
  {
   "cell_type": "code",
   "execution_count": null,
   "id": "cb9160c4",
   "metadata": {},
   "outputs": [],
   "source": [
    "mapMovies.collect()"
   ]
  },
  {
   "cell_type": "code",
   "execution_count": null,
   "id": "8aacbcfb",
   "metadata": {},
   "outputs": [],
   "source": [
    "flatMovies = moviesRDD.floatMap(lambda x : x.split(\"\"))\n",
    "flatMovies.collect()"
   ]
  },
  {
   "cell_type": "markdown",
   "id": "dde6a456",
   "metadata": {},
   "source": [
    "집합 : Transformation"
   ]
  },
  {
   "cell_type": "code",
   "execution_count": null,
   "id": "489f8799",
   "metadata": {},
   "outputs": [],
   "source": [
    "num1= sc.parallelize([1,2,3,4,5])\n",
    "num2= sc.parallelize([4,5,6,7,8,9,10])"
   ]
  },
  {
   "cell_type": "code",
   "execution_count": null,
   "id": "8f6385ba",
   "metadata": {},
   "outputs": [],
   "source": [
    "#교집합구하기\n",
    "num1.intersection(num2.collect())"
   ]
  },
  {
   "cell_type": "code",
   "execution_count": 4,
   "id": "edbc51b6",
   "metadata": {},
   "outputs": [
    {
     "ename": "NameError",
     "evalue": "name 'num1' is not defined",
     "output_type": "error",
     "traceback": [
      "\u001b[1;31m---------------------------------------------------------------------------\u001b[0m",
      "\u001b[1;31mNameError\u001b[0m                                 Traceback (most recent call last)",
      "Input \u001b[1;32mIn [4]\u001b[0m, in \u001b[0;36m<cell line: 2>\u001b[1;34m()\u001b[0m\n\u001b[0;32m      1\u001b[0m \u001b[38;5;66;03m#합집합구하기\u001b[39;00m\n\u001b[1;32m----> 2\u001b[0m \u001b[43mnum1\u001b[49m\u001b[38;5;241m.\u001b[39munion(num2)\u001b[38;5;241m.\u001b[39mcollect()\n",
      "\u001b[1;31mNameError\u001b[0m: name 'num1' is not defined"
     ]
    }
   ],
   "source": [
    "#합집합구하기\n",
    "num1.union(num2).collect()"
   ]
  },
  {
   "cell_type": "code",
   "execution_count": 5,
   "id": "56bde207",
   "metadata": {},
   "outputs": [],
   "source": [
    "#차집합구하기\n",
    "num1.subtract(num2).collect"
   ]
  },
  {
   "cell_type": "raw",
   "id": "dea9a9be",
   "metadata": {},
   "source": [
    "# 데이터 랜덤 추출 = \"sample(withReplacement, fraction, seed=None)\"\n",
    "-샘플링 : 데이터에서 일부분을 추출한다.\n",
    "-withReplacement:한번 추출된 샘플을 다시 샘플링 대상을 삼을 것인지 여부를 묻는다\n",
    "    -true :  한번 샘플링 된 데이터가 다시 대상이 됨 - 중복 추출\n",
    "    -false :  한번 샘플링 된 데이터는 다시 대상이 되지 않는다. -중복 추출x\n",
    "-fraction: 샘플링 될 데이터의 기댓값(확률)\n",
    "    - 각각의 데이터가 추출될 확률\n",
    "    - 높아지면 높아질 수록 원보네서 샘플링되는 원소의 개수가 많아진다.\n",
    "    \n",
    "    "
   ]
  },
  {
   "cell_type": "code",
   "execution_count": null,
   "id": "2edebaf1",
   "metadata": {},
   "outputs": [],
   "source": [
    "numUnion = num1.union(num2)\n",
    "numUnion.collect()"
   ]
  },
  {
   "cell_type": "code",
   "execution_count": null,
   "id": "b9a0c151",
   "metadata": {},
   "outputs": [],
   "source": [
    "numUnion.sample(True,0.5).collect()"
   ]
  },
  {
   "cell_type": "markdown",
   "id": "c8150d00",
   "metadata": {},
   "source": [
    "# Wide Transformations\n",
    "-groupBy(<func>)"
   ]
  },
  {
   "cell_type": "code",
   "execution_count": null,
   "id": "a8ee50e8",
   "metadata": {},
   "outputs": [],
   "source": [
    "foods = sc.paralielize([\n",
    "    \"짜장면\",\"마라탕\",\"짬뽕\",\"떡볶이\",\"쌀국수\",\"짬뽕\",\"짜장면\",\"짜장면\",\"짜장면\",\"라면\",\"우동\",\"라면\"\n",
    "])"
   ]
  },
  {
   "cell_type": "code",
   "execution_count": null,
   "id": "5209acd2",
   "metadata": {},
   "outputs": [],
   "source": [
    "#그룹핑의 기준을 문자열의 첫 번째 글자로 설정\n",
    "foodGroup = foods.groupBy(lambda x : x[0])\n",
    "foodGroup"
   ]
  },
  {
   "cell_type": "code",
   "execution_count": null,
   "id": "09023281",
   "metadata": {},
   "outputs": [],
   "source": [
    "res=foodsGroup.collect()\n",
    "res"
   ]
  },
  {
   "cell_type": "code",
   "execution_count": null,
   "id": "44208607",
   "metadata": {},
   "outputs": [],
   "source": [
    "for(k,v) in res\n",
    "    print(k,list(v))"
   ]
  },
  {
   "cell_type": "code",
   "execution_count": 6,
   "id": "dea07177",
   "metadata": {},
   "outputs": [
    {
     "ename": "NameError",
     "evalue": "name 'sc' is not defined",
     "output_type": "error",
     "traceback": [
      "\u001b[1;31m---------------------------------------------------------------------------\u001b[0m",
      "\u001b[1;31mNameError\u001b[0m                                 Traceback (most recent call last)",
      "Input \u001b[1;32mIn [6]\u001b[0m, in \u001b[0;36m<cell line: 1>\u001b[1;34m()\u001b[0m\n\u001b[1;32m----> 1\u001b[0m \u001b[43msc\u001b[49m\u001b[38;5;241m.\u001b[39mstop()\n",
      "\u001b[1;31mNameError\u001b[0m: name 'sc' is not defined"
     ]
    }
   ],
   "source": [
    "sc.stop()"
   ]
  },
  {
   "cell_type": "code",
   "execution_count": null,
   "id": "6a654e77",
   "metadata": {},
   "outputs": [],
   "source": []
  }
 ],
 "metadata": {
  "kernelspec": {
   "display_name": "Python 3 (ipykernel)",
   "language": "python",
   "name": "python3"
  },
  "language_info": {
   "codemirror_mode": {
    "name": "ipython",
    "version": 3
   },
   "file_extension": ".py",
   "mimetype": "text/x-python",
   "name": "python",
   "nbconvert_exporter": "python",
   "pygments_lexer": "ipython3",
   "version": "3.9.12"
  }
 },
 "nbformat": 4,
 "nbformat_minor": 5
}
