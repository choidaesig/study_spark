{
 "cells": [
  {
   "cell_type": "code",
   "execution_count": 1,
   "id": "f6d8ec1f",
   "metadata": {},
   "outputs": [],
   "source": [
    "from pyspark.sql import SparkSession\n",
    "spark = SparkSession.builder.appName(\"udf\").getOrCreate()"
   ]
  },
  {
   "cell_type": "code",
   "execution_count": 2,
   "id": "829f5c4e",
   "metadata": {},
   "outputs": [],
   "source": [
    "datas = [\n",
    "    (\"A\", \"2022-04-16\", 31200),\n",
    "    (\"B\", \"2022-04-17\", 41200),\n",
    "    (\"C\", \"2022-04-11\", 31500),\n",
    "    (\"D\", \"2022-04-12\", 21500),\n",
    "    (\"E\", \"2022-04-13\", 51000)\n",
    "]"
   ]
  },
  {
   "cell_type": "code",
   "execution_count": 3,
   "id": "45478a10",
   "metadata": {},
   "outputs": [],
   "source": [
    "columns = [\"product\", \"date\", \"price\"]"
   ]
  },
  {
   "cell_type": "code",
   "execution_count": 4,
   "id": "9cbf9278",
   "metadata": {},
   "outputs": [
    {
     "name": "stdout",
     "output_type": "stream",
     "text": [
      "+-------+----------+-----+\n",
      "|product|      date|price|\n",
      "+-------+----------+-----+\n",
      "|      A|2022-04-16|31200|\n",
      "|      B|2022-04-17|41200|\n",
      "|      C|2022-04-11|31500|\n",
      "|      D|2022-04-12|21500|\n",
      "|      E|2022-04-13|51000|\n",
      "+-------+----------+-----+\n",
      "\n"
     ]
    }
   ],
   "source": [
    "df = spark.createDataFrame(data=datas, schema=columns)\n",
    "df.show()"
   ]
  },
  {
   "cell_type": "code",
   "execution_count": 5,
   "id": "d03f739b",
   "metadata": {},
   "outputs": [],
   "source": [
    "df.createOrReplaceTempView(\"product\")"
   ]
  },
  {
   "cell_type": "code",
   "execution_count": 6,
   "id": "cd1e5d00",
   "metadata": {},
   "outputs": [
    {
     "name": "stdout",
     "output_type": "stream",
     "text": [
      "+-------+----------+-----+\n",
      "|product|      date|price|\n",
      "+-------+----------+-----+\n",
      "|      A|2022-04-16|31200|\n",
      "|      B|2022-04-17|41200|\n",
      "|      C|2022-04-11|31500|\n",
      "|      D|2022-04-12|21500|\n",
      "|      E|2022-04-13|51000|\n",
      "+-------+----------+-----+\n",
      "\n"
     ]
    }
   ],
   "source": [
    "spark.sql(\"select * from product\").show()"
   ]
  },
  {
   "cell_type": "markdown",
   "id": "707ad98d",
   "metadata": {},
   "source": [
    "# UDF\n",
    "- User Defined function : 사용자 정의 함수\n",
    "- 쿼리에서 사용할 함수를 개발자가 직접 만들어 줄 수 있는 기능\n",
    "- 타입을 지정하지 않으면 무조건 String 형식으로 리턴"
   ]
  },
  {
   "cell_type": "code",
   "execution_count": 7,
   "id": "5bf4d38e",
   "metadata": {},
   "outputs": [
    {
     "data": {
      "text/plain": [
       "<function __main__.squared(n)>"
      ]
     },
     "execution_count": 7,
     "metadata": {},
     "output_type": "execute_result"
    }
   ],
   "source": [
    "from pyspark.sql.types import LongType\n",
    "\n",
    "# 파이썬에서 만든 함수\n",
    "def squared(n):\n",
    "    return n * n\n",
    "\n",
    "spark.udf.register(\"squared\", squared, LongType())"
   ]
  },
  {
   "cell_type": "code",
   "execution_count": 8,
   "id": "e5a77398",
   "metadata": {},
   "outputs": [
    {
     "name": "stdout",
     "output_type": "stream",
     "text": [
      "+-----+--------------+\n",
      "|price|squared(price)|\n",
      "+-----+--------------+\n",
      "|31200|     973440000|\n",
      "|41200|    1697440000|\n",
      "|31500|     992250000|\n",
      "|21500|     462250000|\n",
      "|51000|    2601000000|\n",
      "+-----+--------------+\n",
      "\n"
     ]
    }
   ],
   "source": [
    "spark.sql(\"SELECT price, squared(price) FROM product\").show()"
   ]
  },
  {
   "cell_type": "code",
   "execution_count": 9,
   "id": "99843360",
   "metadata": {},
   "outputs": [
    {
     "name": "stdout",
     "output_type": "stream",
     "text": [
      "삼만삼천\n"
     ]
    }
   ],
   "source": [
    "def read_number(n):\n",
    "    units = [\"\", \"십\", \"백\", \"천\", \"만\"]\n",
    "    nums = '일이삼사오육칠팔구'\n",
    "    result = []\n",
    "    i = 0\n",
    "    while n > 0:\n",
    "        n, r = divmod(n, 10)\n",
    "        if r > 0:\n",
    "            result.append(nums[r-1]+units[i])\n",
    "        i += 1\n",
    "    return \"\".join(reversed(result))\n",
    "\n",
    "print(read_number(33000))"
   ]
  },
  {
   "cell_type": "code",
   "execution_count": 10,
   "id": "a20d9025",
   "metadata": {},
   "outputs": [
    {
     "data": {
      "text/plain": [
       "<function __main__.read_number(n)>"
      ]
     },
     "execution_count": 10,
     "metadata": {},
     "output_type": "execute_result"
    }
   ],
   "source": [
    "spark.udf.register(\"read_number\", read_number)"
   ]
  },
  {
   "cell_type": "code",
   "execution_count": 11,
   "id": "9fe635ce",
   "metadata": {},
   "outputs": [
    {
     "name": "stdout",
     "output_type": "stream",
     "text": [
      "+-----+------------------+\n",
      "|price|read_number(price)|\n",
      "+-----+------------------+\n",
      "|31200|      삼만일천이백|\n",
      "|41200|      사만일천이백|\n",
      "|31500|      삼만일천오백|\n",
      "|21500|      이만일천오백|\n",
      "|51000|          오만일천|\n",
      "+-----+------------------+\n",
      "\n"
     ]
    }
   ],
   "source": [
    "spark.sql(\"select price, read_number(price) from product\").show()"
   ]
  },
  {
   "cell_type": "code",
   "execution_count": 12,
   "id": "b11499e4",
   "metadata": {},
   "outputs": [
    {
     "data": {
      "text/plain": [
       "<function __main__.get_weekday(date)>"
      ]
     },
     "execution_count": 12,
     "metadata": {},
     "output_type": "execute_result"
    }
   ],
   "source": [
    "def get_weekday(date):\n",
    "    import calendar\n",
    "    return calendar.day_name[date.weekday()]\n",
    "\n",
    "spark.udf.register(\"get_weekday\", get_weekday)"
   ]
  },
  {
   "cell_type": "code",
   "execution_count": 13,
   "id": "41ab5ea2",
   "metadata": {},
   "outputs": [
    {
     "name": "stdout",
     "output_type": "stream",
     "text": [
      "+-------+----------+--------------------------+------------------+\n",
      "|product|      date|get_weekday(to_date(date))|read_number(price)|\n",
      "+-------+----------+--------------------------+------------------+\n",
      "|      A|2022-04-16|                  Saturday|      삼만일천이백|\n",
      "|      B|2022-04-17|                    Sunday|      사만일천이백|\n",
      "|      C|2022-04-11|                    Monday|      삼만일천오백|\n",
      "|      D|2022-04-12|                   Tuesday|      이만일천오백|\n",
      "|      E|2022-04-13|                 Wednesday|          오만일천|\n",
      "+-------+----------+--------------------------+------------------+\n",
      "\n"
     ]
    }
   ],
   "source": [
    "query = \"\"\"\n",
    "select\n",
    "    product,\n",
    "    date,\n",
    "    get_weekday(to_date(date)),\n",
    "    read_number(price)\n",
    "from product\n",
    "\"\"\"\n",
    "\n",
    "spark.sql(query).show()"
   ]
  },
  {
   "cell_type": "code",
   "execution_count": 14,
   "id": "25c27db0",
   "metadata": {},
   "outputs": [],
   "source": [
    "spark.stop()"
   ]
  },
  {
   "cell_type": "code",
   "execution_count": null,
   "id": "83f739fc",
   "metadata": {},
   "outputs": [],
   "source": []
  }
 ],
 "metadata": {
  "kernelspec": {
   "display_name": "Python 3 (ipykernel)",
   "language": "python",
   "name": "python3"
  },
  "language_info": {
   "codemirror_mode": {
    "name": "ipython",
    "version": 3
   },
   "file_extension": ".py",
   "mimetype": "text/x-python",
   "name": "python",
   "nbconvert_exporter": "python",
   "pygments_lexer": "ipython3",
   "version": "3.9.13"
  }
 },
 "nbformat": 4,
 "nbformat_minor": 5
}
