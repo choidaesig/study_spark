{
 "cells": [
  {
   "cell_type": "markdown",
   "id": "49ebec3c",
   "metadata": {},
   "source": [
    "#sparkcontext 생성"
   ]
  },
  {
   "cell_type": "code",
   "execution_count": 1,
   "id": "da81c27f",
   "metadata": {},
   "outputs": [],
   "source": [
    "from pyspark import SparkConf, SparkContext"
   ]
  },
  {
   "cell_type": "code",
   "execution_count": 2,
   "id": "a02d4b39",
   "metadata": {},
   "outputs": [
    {
     "ename": "AttributeError",
     "evalue": "'SparkConf' object has no attribute 'SetAppName'",
     "output_type": "error",
     "traceback": [
      "\u001b[1;31m---------------------------------------------------------------------------\u001b[0m",
      "\u001b[1;31mAttributeError\u001b[0m                            Traceback (most recent call last)",
      "Input \u001b[1;32mIn [2]\u001b[0m, in \u001b[0;36m<cell line: 1>\u001b[1;34m()\u001b[0m\n\u001b[1;32m----> 1\u001b[0m conf\u001b[38;5;241m=\u001b[39m\u001b[43mSparkConf\u001b[49m\u001b[43m(\u001b[49m\u001b[43m)\u001b[49m\u001b[38;5;241;43m.\u001b[39;49m\u001b[43msetMaster\u001b[49m\u001b[43m(\u001b[49m\u001b[38;5;124;43m\"\u001b[39;49m\u001b[38;5;124;43mlocal\u001b[39;49m\u001b[38;5;124;43m\"\u001b[39;49m\u001b[43m)\u001b[49m\u001b[38;5;241;43m.\u001b[39;49m\u001b[43mSetAppName\u001b[49m(\u001b[38;5;124m\"\u001b[39m\u001b[38;5;124mretaurant-review-average\u001b[39m\u001b[38;5;124m\"\u001b[39m)\n\u001b[0;32m      2\u001b[0m sc\u001b[38;5;241m=\u001b[39mSparkContext(conf\u001b[38;5;241m=\u001b[39mconf)\n",
      "\u001b[1;31mAttributeError\u001b[0m: 'SparkConf' object has no attribute 'SetAppName'"
     ]
    }
   ],
   "source": [
    "conf=SparkConf().setMaster(\"local\").SetAppName(\"retaurant-review-average\")\n",
    "sc=SparkContext(conf=conf)"
   ]
  },
  {
   "cell_type": "markdown",
   "id": "bc38344e",
   "metadata": {},
   "source": [
    "CSV 파일을 RDD로딩"
   ]
  },
  {
   "cell_type": "code",
   "execution_count": 3,
   "id": "6fb3b717",
   "metadata": {},
   "outputs": [
    {
     "ename": "SyntaxError",
     "evalue": "(unicode error) 'unicodeescape' codec can't decode bytes in position 2-3: truncated \\UXXXXXXXX escape (3808234904.py, line 1)",
     "output_type": "error",
     "traceback": [
      "\u001b[1;36m  Input \u001b[1;32mIn [3]\u001b[1;36m\u001b[0m\n\u001b[1;33m    directory=\"C:\\Users\\daesi\\Downloads\\빅데이터 소스코드\\소스코드\\study_spark\\data\"\u001b[0m\n\u001b[1;37m                                                                        ^\u001b[0m\n\u001b[1;31mSyntaxError\u001b[0m\u001b[1;31m:\u001b[0m (unicode error) 'unicodeescape' codec can't decode bytes in position 2-3: truncated \\UXXXXXXXX escape\n"
     ]
    }
   ],
   "source": [
    "directory=\"C:\\Users\\daesi\\Downloads\\빅데이터 소스코드\\소스코드\\study_spark\\data\"\n",
    "filename=\"restaurant_review.csv\""
   ]
  },
  {
   "cell_type": "code",
   "execution_count": 4,
   "id": "7ee3f7a2",
   "metadata": {},
   "outputs": [
    {
     "ename": "NameError",
     "evalue": "name 'sc' is not defined",
     "output_type": "error",
     "traceback": [
      "\u001b[1;31m---------------------------------------------------------------------------\u001b[0m",
      "\u001b[1;31mNameError\u001b[0m                                 Traceback (most recent call last)",
      "Input \u001b[1;32mIn [4]\u001b[0m, in \u001b[0;36m<cell line: 1>\u001b[1;34m()\u001b[0m\n\u001b[1;32m----> 1\u001b[0m lines\u001b[38;5;241m=\u001b[39m\u001b[43msc\u001b[49m\u001b[38;5;241m.\u001b[39mtextFile(\u001b[38;5;124mf\u001b[39m\u001b[38;5;124m\"\u001b[39m\u001b[38;5;124mfile:///\u001b[39m\u001b[38;5;132;01m{\u001b[39;00mdirectory\u001b[38;5;132;01m}\u001b[39;00m\u001b[38;5;130;01m\\\\\u001b[39;00m\u001b[38;5;132;01m{\u001b[39;00mfilename\u001b[38;5;132;01m}\u001b[39;00m\u001b[38;5;124m\"\u001b[39m)\n\u001b[0;32m      2\u001b[0m lines\n",
      "\u001b[1;31mNameError\u001b[0m: name 'sc' is not defined"
     ]
    }
   ],
   "source": [
    "lines=sc.textFile(f\"file:///{directory}\\\\{filename}\")\n",
    "lines"
   ]
  },
  {
   "cell_type": "code",
   "execution_count": 5,
   "id": "dae12370",
   "metadata": {},
   "outputs": [
    {
     "ename": "NameError",
     "evalue": "name 'lines' is not defined",
     "output_type": "error",
     "traceback": [
      "\u001b[1;31m---------------------------------------------------------------------------\u001b[0m",
      "\u001b[1;31mNameError\u001b[0m                                 Traceback (most recent call last)",
      "Input \u001b[1;32mIn [5]\u001b[0m, in \u001b[0;36m<cell line: 1>\u001b[1;34m()\u001b[0m\n\u001b[1;32m----> 1\u001b[0m \u001b[43mlines\u001b[49m\u001b[38;5;241m.\u001b[39mcollect()\n",
      "\u001b[1;31mNameError\u001b[0m: name 'lines' is not defined"
     ]
    }
   ],
   "source": [
    "lines.collect()"
   ]
  },
  {
   "cell_type": "code",
   "execution_count": 6,
   "id": "2fc623ff",
   "metadata": {},
   "outputs": [
    {
     "ename": "NameError",
     "evalue": "name 'lines' is not defined",
     "output_type": "error",
     "traceback": [
      "\u001b[1;31m---------------------------------------------------------------------------\u001b[0m",
      "\u001b[1;31mNameError\u001b[0m                                 Traceback (most recent call last)",
      "Input \u001b[1;32mIn [6]\u001b[0m, in \u001b[0;36m<cell line: 1>\u001b[1;34m()\u001b[0m\n\u001b[1;32m----> 1\u001b[0m header\u001b[38;5;241m=\u001b[39m\u001b[43mlines\u001b[49m\u001b[38;5;241m.\u001b[39mfirst()\n\u001b[0;32m      2\u001b[0m header\n",
      "\u001b[1;31mNameError\u001b[0m: name 'lines' is not defined"
     ]
    }
   ],
   "source": [
    "header=lines.first()\n",
    "header"
   ]
  },
  {
   "cell_type": "code",
   "execution_count": 7,
   "id": "8ca5810f",
   "metadata": {},
   "outputs": [
    {
     "ename": "NameError",
     "evalue": "name 'line' is not defined",
     "output_type": "error",
     "traceback": [
      "\u001b[1;31m---------------------------------------------------------------------------\u001b[0m",
      "\u001b[1;31mNameError\u001b[0m                                 Traceback (most recent call last)",
      "Input \u001b[1;32mIn [7]\u001b[0m, in \u001b[0;36m<cell line: 1>\u001b[1;34m()\u001b[0m\n\u001b[1;32m----> 1\u001b[0m filtered_lines \u001b[38;5;241m=\u001b[39m \u001b[43mline\u001b[49m\u001b[38;5;241m.\u001b[39mfilter(\u001b[38;5;28;01mlambda\u001b[39;00m row : row \u001b[38;5;241m!=\u001b[39m header)\n",
      "\u001b[1;31mNameError\u001b[0m: name 'line' is not defined"
     ]
    }
   ],
   "source": [
    "filtered_lines = line.filter(lambda row : row != header)\n",
    "filtered_lines"
   ]
  },
  {
   "cell_type": "code",
   "execution_count": 8,
   "id": "8f5a9413",
   "metadata": {},
   "outputs": [
    {
     "ename": "NameError",
     "evalue": "name 'filtered_lines' is not defined",
     "output_type": "error",
     "traceback": [
      "\u001b[1;31m---------------------------------------------------------------------------\u001b[0m",
      "\u001b[1;31mNameError\u001b[0m                                 Traceback (most recent call last)",
      "Input \u001b[1;32mIn [8]\u001b[0m, in \u001b[0;36m<cell line: 1>\u001b[1;34m()\u001b[0m\n\u001b[1;32m----> 1\u001b[0m \u001b[43mfiltered_lines\u001b[49m\u001b[38;5;241m.\u001b[39mcollect()\n",
      "\u001b[1;31mNameError\u001b[0m: name 'filtered_lines' is not defined"
     ]
    }
   ],
   "source": [
    "filtered_lines.collect()"
   ]
  },
  {
   "cell_type": "code",
   "execution_count": null,
   "id": "c66d16f1",
   "metadata": {},
   "outputs": [],
   "source": [
    "def parse(row):\n",
    "    fields = row.split(\",\")\n",
    "    \n",
    "    category = fields[2]\n",
    "    \n",
    "    #reviews는 정수로 parse\n",
    "    reviews = fields[3]\n",
    "    reviews = int(reviews)\n",
    "    \n",
    "    \n",
    "    return category, reviews"
   ]
  },
  {
   "cell_type": "code",
   "execution_count": 9,
   "id": "007efee9",
   "metadata": {},
   "outputs": [
    {
     "ename": "NameError",
     "evalue": "name 'parse' is not defined",
     "output_type": "error",
     "traceback": [
      "\u001b[1;31m---------------------------------------------------------------------------\u001b[0m",
      "\u001b[1;31mNameError\u001b[0m                                 Traceback (most recent call last)",
      "Input \u001b[1;32mIn [9]\u001b[0m, in \u001b[0;36m<cell line: 1>\u001b[1;34m()\u001b[0m\n\u001b[1;32m----> 1\u001b[0m \u001b[43mparse\u001b[49m(\u001b[38;5;124m'\u001b[39m\u001b[38;5;124m0,짜장면,중식,125\u001b[39m\u001b[38;5;124m'\u001b[39m)\n",
      "\u001b[1;31mNameError\u001b[0m: name 'parse' is not defined"
     ]
    }
   ],
   "source": [
    "parse('0,짜장면,중식,125')"
   ]
  },
  {
   "cell_type": "code",
   "execution_count": null,
   "id": "938450eb",
   "metadata": {},
   "outputs": [],
   "source": [
    "category_reviews = filtered_lines.map(parse)\n",
    "category_reviews"
   ]
  },
  {
   "cell_type": "code",
   "execution_count": null,
   "id": "7cf5f0c0",
   "metadata": {},
   "outputs": [],
   "source": [
    "category_review.collect()"
   ]
  },
  {
   "cell_type": "raw",
   "id": "5edcc0c4",
   "metadata": {},
   "source": [
    "카테고리 별 리뷰 평균\n",
    "-각 카테고리 별 리뷰의 개수\n",
    "-카테고리 종류의 개수\n",
    "    - 중식은 몇건, 분식은 몇건"
   ]
  },
  {
   "cell_type": "code",
   "execution_count": null,
   "id": "6390b864",
   "metadata": {},
   "outputs": [],
   "source": [
    "category_review_count = category_review.mapValues(lambda x : (x,1)) # x는 review의 개수\n",
    "category_review_count.collect()"
   ]
  },
  {
   "cell_type": "raw",
   "id": "ed506df4",
   "metadata": {},
   "source": [
    "예를 들어 중식의'x','y'\n",
    "\n",
    "첫번째 중식 (125,1)->x\n",
    "두번째 중식 (235,1)->y\n",
    "\n",
    "-리뷰의 개수끼치 합치기 x[0]+y[0]\n",
    "-건수끼리 합치기 x[1]+y[1]"
   ]
  },
  {
   "cell_type": "code",
   "execution_count": null,
   "id": "befc18c8",
   "metadata": {},
   "outputs": [],
   "source": [
    "reduced= category_review_count_reduceByKey(lambda x, y : (x[0]+y[0],x[1]+y[1]))\n",
    "reduced.collect()"
   ]
  },
  {
   "cell_type": "code",
   "execution_count": null,
   "id": "59e4f7c0",
   "metadata": {},
   "outputs": [],
   "source": [
    "average = reduced.mapValues(lambda x : x[0]/x[1])\n",
    "average.collect()"
   ]
  },
  {
   "cell_type": "code",
   "execution_count": null,
   "id": "335465f7",
   "metadata": {},
   "outputs": [],
   "source": []
  },
  {
   "cell_type": "code",
   "execution_count": null,
   "id": "21d3ebd4",
   "metadata": {},
   "outputs": [],
   "source": []
  }
 ],
 "metadata": {
  "kernelspec": {
   "display_name": "Python 3 (ipykernel)",
   "language": "python",
   "name": "python3"
  },
  "language_info": {
   "codemirror_mode": {
    "name": "ipython",
    "version": 3
   },
   "file_extension": ".py",
   "mimetype": "text/x-python",
   "name": "python",
   "nbconvert_exporter": "python",
   "pygments_lexer": "ipython3",
   "version": "3.9.12"
  }
 },
 "nbformat": 4,
 "nbformat_minor": 5
}
