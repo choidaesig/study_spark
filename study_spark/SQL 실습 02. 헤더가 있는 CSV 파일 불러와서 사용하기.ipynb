{
 "cells": [
  {
   "cell_type": "code",
   "execution_count": 1,
   "id": "7af49dba",
   "metadata": {},
   "outputs": [],
   "source": [
    "from pyspark.sql import SparkSession\n",
    "\n",
    "spark = SparkSession.builder.appName(\"SparkSQL\").getOrCreate()"
   ]
  },
  {
   "cell_type": "code",
   "execution_count": 2,
   "id": "376d67dc",
   "metadata": {},
   "outputs": [],
   "source": [
    "directory=\"C:\\\\Users\\\\daesi\\\\Downloads\\\\빅데이터 소스코드\\\\소스코드\\\\study_spark\\\\data\"\n",
    "filename  = \"fakefriends-header.csv\""
   ]
  },
  {
   "cell_type": "code",
   "execution_count": 3,
   "id": "e7dc8659",
   "metadata": {},
   "outputs": [
    {
     "name": "stdout",
     "output_type": "stream",
     "text": [
      "+------+--------+---+-------+\n",
      "|userID|    name|age|friends|\n",
      "+------+--------+---+-------+\n",
      "|     0|    Will| 33|    385|\n",
      "|     1|Jean-Luc| 26|      2|\n",
      "|     2|    Hugh| 55|    221|\n",
      "|     3|  Deanna| 40|    465|\n",
      "|     4|   Quark| 68|     21|\n",
      "|     5|  Weyoun| 59|    318|\n",
      "|     6|  Gowron| 37|    220|\n",
      "|     7|    Will| 54|    307|\n",
      "|     8|  Jadzia| 38|    380|\n",
      "|     9|    Hugh| 27|    181|\n",
      "|    10|     Odo| 53|    191|\n",
      "|    11|     Ben| 57|    372|\n",
      "|    12|   Keiko| 54|    253|\n",
      "|    13|Jean-Luc| 56|    444|\n",
      "|    14|    Hugh| 43|     49|\n",
      "|    15|     Rom| 36|     49|\n",
      "|    16|  Weyoun| 22|    323|\n",
      "|    17|     Odo| 35|     13|\n",
      "|    18|Jean-Luc| 45|    455|\n",
      "|    19|  Geordi| 60|    246|\n",
      "+------+--------+---+-------+\n",
      "only showing top 20 rows\n",
      "\n"
     ]
    }
   ],
   "source": [
    "# 자동으로 데이터 타입을 유추하비다. (inferSchema, true)\n",
    "people = spark.read.option(\"header\", \"true\").option(\"inferSchema\", \"true\").csv(f\"file:///{directory}\\\\{filename}\")\n",
    "people.show()"
   ]
  },
  {
   "cell_type": "code",
   "execution_count": 4,
   "id": "90dc497a",
   "metadata": {},
   "outputs": [
    {
     "name": "stdout",
     "output_type": "stream",
     "text": [
      "root\n",
      " |-- userID: integer (nullable = true)\n",
      " |-- name: string (nullable = true)\n",
      " |-- age: integer (nullable = true)\n",
      " |-- friends: integer (nullable = true)\n",
      "\n"
     ]
    }
   ],
   "source": [
    "# 스키마 정보 확인\n",
    "people.printSchema()"
   ]
  },
  {
   "cell_type": "code",
   "execution_count": 5,
   "id": "6e313298",
   "metadata": {},
   "outputs": [
    {
     "name": "stdout",
     "output_type": "stream",
     "text": [
      "+--------+\n",
      "|    name|\n",
      "+--------+\n",
      "|    Will|\n",
      "|Jean-Luc|\n",
      "|    Hugh|\n",
      "|  Deanna|\n",
      "|   Quark|\n",
      "|  Weyoun|\n",
      "|  Gowron|\n",
      "|    Will|\n",
      "|  Jadzia|\n",
      "|    Hugh|\n",
      "|     Odo|\n",
      "|     Ben|\n",
      "|   Keiko|\n",
      "|Jean-Luc|\n",
      "|    Hugh|\n",
      "|     Rom|\n",
      "|  Weyoun|\n",
      "|     Odo|\n",
      "|Jean-Luc|\n",
      "|  Geordi|\n",
      "+--------+\n",
      "only showing top 20 rows\n",
      "\n"
     ]
    }
   ],
   "source": [
    "# select 활용하기\n",
    "people.select(\"name\").show()"
   ]
  },
  {
   "cell_type": "code",
   "execution_count": 6,
   "id": "8db42e43",
   "metadata": {},
   "outputs": [
    {
     "name": "stdout",
     "output_type": "stream",
     "text": [
      "+------+-------+---+-------+\n",
      "|userID|   name|age|friends|\n",
      "+------+-------+---+-------+\n",
      "|    21|  Miles| 19|    268|\n",
      "|    48|    Nog| 20|      1|\n",
      "|    52|Beverly| 19|    269|\n",
      "|    54|  Brunt| 19|      5|\n",
      "|    60| Geordi| 20|    100|\n",
      "|    73|  Brunt| 20|    384|\n",
      "|   106|Beverly| 18|    499|\n",
      "|   115|  Dukat| 18|    397|\n",
      "|   133|  Quark| 19|    265|\n",
      "|   136|   Will| 19|    335|\n",
      "|   225|   Elim| 19|    106|\n",
      "|   304|   Will| 19|    404|\n",
      "|   327| Julian| 20|     63|\n",
      "|   341|   Data| 18|    326|\n",
      "|   349| Kasidy| 20|    277|\n",
      "|   366|  Keiko| 19|    119|\n",
      "|   373|  Quark| 19|    272|\n",
      "|   377|Beverly| 18|    418|\n",
      "|   404| Kasidy| 18|     24|\n",
      "|   409|    Nog| 19|    267|\n",
      "+------+-------+---+-------+\n",
      "only showing top 20 rows\n",
      "\n"
     ]
    }
   ],
   "source": [
    "# 21살 미만인 사람만 확인하기(where절)\n",
    "people.filter(people.age < 21).show()"
   ]
  },
  {
   "cell_type": "code",
   "execution_count": 7,
   "id": "ec480947",
   "metadata": {},
   "outputs": [
    {
     "name": "stdout",
     "output_type": "stream",
     "text": [
      "+---+-----+\n",
      "|age|count|\n",
      "+---+-----+\n",
      "| 31|    8|\n",
      "| 65|    5|\n",
      "| 53|    7|\n",
      "| 34|    6|\n",
      "| 28|   10|\n",
      "| 26|   17|\n",
      "| 27|    8|\n",
      "| 44|   12|\n",
      "| 22|    7|\n",
      "| 47|    9|\n",
      "| 52|   11|\n",
      "| 40|   17|\n",
      "| 20|    5|\n",
      "| 57|   12|\n",
      "| 54|   13|\n",
      "| 48|   10|\n",
      "| 19|   11|\n",
      "| 64|   12|\n",
      "| 41|    9|\n",
      "| 43|    7|\n",
      "+---+-----+\n",
      "only showing top 20 rows\n",
      "\n"
     ]
    }
   ],
   "source": [
    "# 그룹핑\n",
    "people.groupBy(\"age\").count().show()"
   ]
  },
  {
   "cell_type": "code",
   "execution_count": 8,
   "id": "bd216104",
   "metadata": {},
   "outputs": [
    {
     "name": "stdout",
     "output_type": "stream",
     "text": [
      "+--------+----------+\n",
      "|    name|(age + 10)|\n",
      "+--------+----------+\n",
      "|    Will|        43|\n",
      "|Jean-Luc|        36|\n",
      "|    Hugh|        65|\n",
      "|  Deanna|        50|\n",
      "|   Quark|        78|\n",
      "|  Weyoun|        69|\n",
      "|  Gowron|        47|\n",
      "|    Will|        64|\n",
      "|  Jadzia|        48|\n",
      "|    Hugh|        37|\n",
      "|     Odo|        63|\n",
      "|     Ben|        67|\n",
      "|   Keiko|        64|\n",
      "|Jean-Luc|        66|\n",
      "|    Hugh|        53|\n",
      "|     Rom|        46|\n",
      "|  Weyoun|        32|\n",
      "|     Odo|        45|\n",
      "|Jean-Luc|        55|\n",
      "|  Geordi|        70|\n",
      "+--------+----------+\n",
      "only showing top 20 rows\n",
      "\n"
     ]
    }
   ],
   "source": [
    "# 연산 ( 모든 사람들의 나이를 10살 더하기 )\n",
    "people.select(people.name, people.age+10).show()"
   ]
  },
  {
   "cell_type": "code",
   "execution_count": 9,
   "id": "4393e2f2",
   "metadata": {},
   "outputs": [],
   "source": [
    "spark.stop()"
   ]
  },
  {
   "cell_type": "code",
   "execution_count": null,
   "id": "2351f299",
   "metadata": {},
   "outputs": [],
   "source": [
    "\n"
   ]
  }
 ],
 "metadata": {
  "kernelspec": {
   "display_name": "Python 3 (ipykernel)",
   "language": "python",
   "name": "python3"
  },
  "language_info": {
   "codemirror_mode": {
    "name": "ipython",
    "version": 3
   },
   "file_extension": ".py",
   "mimetype": "text/x-python",
   "name": "python",
   "nbconvert_exporter": "python",
   "pygments_lexer": "ipython3",
   "version": "3.9.13"
  }
 },
 "nbformat": 4,
 "nbformat_minor": 5
}
