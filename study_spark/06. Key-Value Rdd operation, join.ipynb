{
 "cells": [
  {
   "cell_type": "code",
   "execution_count": 1,
   "id": "dd7a1e68",
   "metadata": {},
   "outputs": [],
   "source": [
    "from pyspark import SparkConf, SparkContext\n",
    "conf=SparkConf().setMaster(\"local\").setAppName(\"key-value_rdd_op_joins\")\n",
    "sc=SparkContext(conf=conf)"
   ]
  },
  {
   "cell_type": "markdown",
   "id": "9a8ebedb",
   "metadata": {},
   "source": [
    "# Operations\n",
    "-'groupByKey'\n",
    "\n",
    "    -'KeyValueRDD.groupByKey()'  \n",
    "    -그룹핑 후에 특정 Transformations 같은 연산\n",
    "    -key 값이 있는 상태에서 시작\n",
    "      \n",
    "      \n",
    "-'groupBy()'\n",
    "\n",
    "    -'RDD.groupBy(numPatitions=None,patitionFunc=<function portable_hash>)'\n",
    "    -함수에 의해서 그룹이 생기는 연산"
   ]
  },
  {
   "cell_type": "code",
   "execution_count": 5,
   "id": "4dc8fb6d",
   "metadata": {},
   "outputs": [
    {
     "data": {
      "text/plain": [
       "[('짜장면', <pyspark.resultiterable.ResultIterable at 0x25f262baf70>),\n",
       " ('짬뽕', <pyspark.resultiterable.ResultIterable at 0x25f2648a4f0>)]"
      ]
     },
     "execution_count": 5,
     "metadata": {},
     "output_type": "execute_result"
    }
   ],
   "source": [
    "rdd=sc.parallelize([\n",
    "    (\"짜장면\",15),\n",
    "    (\"짬뽕\",10),\n",
    "    (\"짜장면\",5)\n",
    "])\n",
    "\n",
    "g_rdd=rdd.groupByKey()\n",
    "g_rdd.collect()"
   ]
  },
  {
   "cell_type": "code",
   "execution_count": 7,
   "id": "28ea6fc3",
   "metadata": {},
   "outputs": [
    {
     "data": {
      "text/plain": [
       "[('짜장면', 2), ('짬뽕', 1)]"
      ]
     },
     "execution_count": 7,
     "metadata": {},
     "output_type": "execute_result"
    }
   ],
   "source": [
    "g_rdd.mapValues(len).collect()"
   ]
  },
  {
   "cell_type": "code",
   "execution_count": 8,
   "id": "ff20da26",
   "metadata": {},
   "outputs": [
    {
     "data": {
      "text/plain": [
       "[('짜장면', [15, 5]), ('짬뽕', [10])]"
      ]
     },
     "execution_count": 8,
     "metadata": {},
     "output_type": "execute_result"
    }
   ],
   "source": [
    "g_rdd.mapValues(list).collect()"
   ]
  },
  {
   "cell_type": "code",
   "execution_count": 10,
   "id": "2781b750",
   "metadata": {},
   "outputs": [
    {
     "data": {
      "text/plain": [
       "[('C', <pyspark.resultiterable.ResultIterable at 0x25f264c8340>),\n",
       " ('J', <pyspark.resultiterable.ResultIterable at 0x25f262b85b0>),\n",
       " ('P', <pyspark.resultiterable.ResultIterable at 0x25f2621fee0>)]"
      ]
     },
     "execution_count": 10,
     "metadata": {},
     "output_type": "execute_result"
    }
   ],
   "source": [
    "#groupBy는 그룹핑할 키에 대한 정의를 개발자가 직접해줘야한다.\n",
    "grouped = sc.parallelize([\n",
    "    \"C\",\"C#\",\"JAVA\",\"C++\",\"JAVASCRIPT\",\"PYTHON\"\n",
    "    \n",
    "]).groupBy(lambda x : x[0]).collect()\n",
    "\n",
    "grouped"
   ]
  },
  {
   "cell_type": "code",
   "execution_count": 11,
   "id": "56389578",
   "metadata": {},
   "outputs": [
    {
     "name": "stdout",
     "output_type": "stream",
     "text": [
      "C ['C', 'C#', 'C++']\n",
      "J ['JAVA', 'JAVASCRIPT']\n",
      "P ['PYTHON']\n"
     ]
    }
   ],
   "source": [
    "for k,v in grouped:\n",
    "    print(k, list(v))"
   ]
  },
  {
   "cell_type": "code",
   "execution_count": 13,
   "id": "42ed6a68",
   "metadata": {},
   "outputs": [],
   "source": [
    "#groupBykey는 K-V RDD를 사용할 때 key가 알아서 그룹핑의 기준이 도니다.\n",
    "\n",
    "x=sc.parallelize([\n",
    " (\"math\",7),(\"math\",2),(\"english\",7),(\"english\",3),(\"english\",4),(\"science\",7),(\"science\",6),(\"science\",9),(\"science\",5)   \n",
    "    \n",
    "],3)\n",
    "\n",
    "y=x.groupByKey()"
   ]
  },
  {
   "cell_type": "code",
   "execution_count": 16,
   "id": "277ff47a",
   "metadata": {},
   "outputs": [
    {
     "name": "stdout",
     "output_type": "stream",
     "text": [
      "3\n"
     ]
    }
   ],
   "source": [
    "print(y.getNumPartitions())"
   ]
  },
  {
   "cell_type": "code",
   "execution_count": 18,
   "id": "66980822",
   "metadata": {},
   "outputs": [
    {
     "data": {
      "text/plain": [
       "2"
      ]
     },
     "execution_count": 18,
     "metadata": {},
     "output_type": "execute_result"
    }
   ],
   "source": [
    "#파티션의 개수를 바꿀수있다.\n",
    "y=x.groupByKey(2)\n",
    "y.getNumPartitions()"
   ]
  },
  {
   "cell_type": "code",
   "execution_count": 20,
   "id": "3d522327",
   "metadata": {},
   "outputs": [
    {
     "data": {
      "text/plain": [
       "[('math', <pyspark.resultiterable.ResultIterable at 0x25f2636ac40>),\n",
       " ('science', <pyspark.resultiterable.ResultIterable at 0x25f262de6d0>),\n",
       " ('english', <pyspark.resultiterable.ResultIterable at 0x25f262de190>)]"
      ]
     },
     "execution_count": 20,
     "metadata": {},
     "output_type": "execute_result"
    }
   ],
   "source": [
    "y.collect()"
   ]
  },
  {
   "cell_type": "code",
   "execution_count": 21,
   "id": "b8927a25",
   "metadata": {},
   "outputs": [
    {
     "name": "stdout",
     "output_type": "stream",
     "text": [
      "math [7, 2]\n",
      "science [7, 6, 9, 5]\n",
      "english [7, 3, 4]\n"
     ]
    }
   ],
   "source": [
    "for t in y.collect():\n",
    "    print(t[0],list(t[1])) # t[0]: key,t[1]: 그룹핑에 의해 묶인 값"
   ]
  },
  {
   "cell_type": "markdown",
   "id": "55020cbf",
   "metadata": {},
   "source": [
    "# reduceByKey\n",
    "-'KeyValueRDD,reduceByKey(<func>,numPartitions=None,partitionFunc=<function portable_hash>)\n",
    "-주어지는 key를 기준으로 Group을 만들고 합쳐준다.\n",
    "-Transformations 함수이다."
   ]
  },
  {
   "cell_type": "code",
   "execution_count": 23,
   "id": "c495102d",
   "metadata": {},
   "outputs": [
    {
     "data": {
      "text/plain": [
       "[('짜장면', 20), ('짬뽕', 10)]"
      ]
     },
     "execution_count": 23,
     "metadata": {},
     "output_type": "execute_result"
    }
   ],
   "source": [
    "from operator import add\n",
    "\n",
    "rdd=sc.parallelize([\n",
    "    (\"짜장면\",15),\n",
    "    (\"짬뽕\",10),\n",
    "    (\"짜장면\",5)\n",
    "])\n",
    "\n",
    "rdd.reduceByKey(add).collect()"
   ]
  },
  {
   "cell_type": "markdown",
   "id": "36e5f52a",
   "metadata": {},
   "source": [
    "개념적으로  groupByKey + reduce입니다. groupByKey보다 reduceByKey를 쓰는게 훨씬 빠르다"
   ]
  },
  {
   "cell_type": "code",
   "execution_count": 25,
   "id": "04438167",
   "metadata": {},
   "outputs": [
    {
     "data": {
      "text/plain": [
       "[('english', 14), ('math', 9), ('science', 27)]"
      ]
     },
     "execution_count": 25,
     "metadata": {},
     "output_type": "execute_result"
    }
   ],
   "source": [
    "x=sc.parallelize([\n",
    " (\"math\",7),(\"math\",2),(\"english\",7),(\"english\",3),(\"english\",4),(\"science\",7),(\"science\",6),(\"science\",9),(\"science\",5)   \n",
    "    \n",
    "],3)\n",
    "\n",
    "x.reduceByKey(lambda a,b : a+b).collect()"
   ]
  },
  {
   "cell_type": "markdown",
   "id": "1bd88a78",
   "metadata": {},
   "source": [
    "# mapValues\n",
    "\n",
    " \n",
    " -'KeyValueRDD.mapValues(<func>)'\n",
    "    \n",
    " -함수를 'Value'에만 적용합니다.\n",
    "    \n",
    "    -파티션과 키는 그 위치에 그대로 있다    \n",
    "    \n",
    " -'Transformations 작업이다."
   ]
  },
  {
   "cell_type": "code",
   "execution_count": null,
   "id": "ab0d3852",
   "metadata": {},
   "outputs": [],
   "source": [
    "rdd=sc.para"
   ]
  },
  {
   "cell_type": "code",
   "execution_count": 28,
   "id": "7851f3e1",
   "metadata": {},
   "outputs": [
    {
     "data": {
      "text/plain": [
       "[('하의', 3), ('상의', 4)]"
      ]
     },
     "execution_count": 28,
     "metadata": {},
     "output_type": "execute_result"
    }
   ],
   "source": [
    "rdd=sc.parallelize([\n",
    "(\"하의\",[\"청바지\",\"반바지\",\"치마\"]),\n",
    "(\"상의\",[\"니트\",\"반팔\",\"긴팔\",\"나시\"])\n",
    "])\n",
    "\n",
    "rdd.mapValues(lambda x : len(x)).collect()"
   ]
  },
  {
   "cell_type": "markdown",
   "id": "13e426d1",
   "metadata": {},
   "source": [
    "key가 아닌 value에만 적용할 함수를 만들 수가 있기 때문에 데이터의 파티션이 변경될 염려가 없다."
   ]
  },
  {
   "cell_type": "markdown",
   "id": "a11c172b",
   "metadata": {},
   "source": [
    "# countByKey\n",
    "-action이다.\n",
    "\n",
    "-각 키가 가진 요소들의 개수를 센다. \n",
    "\n",
    "-KeyValueRDD.countByKey(<func>)"
   ]
  },
  {
   "cell_type": "code",
   "execution_count": 30,
   "id": "4424108d",
   "metadata": {},
   "outputs": [
    {
     "data": {
      "text/plain": [
       "defaultdict(int, {'하의': 1, '상의': 1})"
      ]
     },
     "execution_count": 30,
     "metadata": {},
     "output_type": "execute_result"
    }
   ],
   "source": [
    "rdd=sc.parallelize([\n",
    "(\"하의\",[\"청바지\",\"반바지\",\"치마\"]),\n",
    "(\"상의\",[\"니트\",\"반팔\",\"긴팔\",\"나시\"])\n",
    "])\n",
    "\n",
    "rdd.countByKey()\n"
   ]
  },
  {
   "cell_type": "markdown",
   "id": "ac993458",
   "metadata": {},
   "source": [
    "# keys()\n",
    "-모든 key를 가진 RDD를 생성한다.\n",
    "\n",
    "-'keys()'는 파티션을 유지하거나 키가 굉장히 많은 경우가 있기 때문에 Transformation이다.\n",
    "\n"
   ]
  },
  {
   "cell_type": "code",
   "execution_count": 31,
   "id": "aa940a01",
   "metadata": {},
   "outputs": [
    {
     "data": {
      "text/plain": [
       "PythonRDD[67] at RDD at PythonRDD.scala:53"
      ]
     },
     "execution_count": 31,
     "metadata": {},
     "output_type": "execute_result"
    }
   ],
   "source": [
    "rdd.keys()"
   ]
  },
  {
   "cell_type": "code",
   "execution_count": 32,
   "id": "b0662a1d",
   "metadata": {},
   "outputs": [
    {
     "data": {
      "text/plain": [
       "['하의', '상의']"
      ]
     },
     "execution_count": 32,
     "metadata": {},
     "output_type": "execute_result"
    }
   ],
   "source": [
    "rdd.keys().collect()"
   ]
  },
  {
   "cell_type": "code",
   "execution_count": 35,
   "id": "a8047bbc",
   "metadata": {},
   "outputs": [
    {
     "name": "stdout",
     "output_type": "stream",
     "text": [
      "9\n",
      "3\n"
     ]
    }
   ],
   "source": [
    "x=sc.parallelize([\n",
    " (\"math\",7),(\"math\",2),(\"english\",7),(\"english\",3),(\"english\",4),(\"science\",7),(\"science\",6),(\"science\",9),(\"science\",5)   \n",
    "    \n",
    "],3)\n",
    "\n",
    "print(x.keys().count()) #키의 총 개수\n",
    "print(x.keys().distinct().count()) #키의 종류 개수"
   ]
  },
  {
   "cell_type": "markdown",
   "id": "bbb5ffab",
   "metadata": {},
   "source": [
    "#  Joins"
   ]
  },
  {
   "cell_type": "code",
   "execution_count": 37,
   "id": "bc16ebc2",
   "metadata": {},
   "outputs": [
    {
     "data": {
      "text/plain": [
       "[('foo', (1, 1)), ('goo', (2, 2)), ('goo', (2, 10))]"
      ]
     },
     "execution_count": 37,
     "metadata": {},
     "output_type": "execute_result"
    }
   ],
   "source": [
    "#inner join : 서로간에 존재하는 키만 합쳐준다.\n",
    "rdd1=sc.parallelize([\n",
    "    (\"foo\",1),\n",
    "    (\"goo\",2),\n",
    "    (\"hoo\",3)  \n",
    "])\n",
    "\n",
    "rdd2=sc.parallelize([\n",
    "    (\"foo\",1),\n",
    "    (\"goo\",2),\n",
    "    (\"goo\",10),\n",
    "    (\"moo\",5)\n",
    "])\n",
    "\n",
    "rdd1.join(rdd2).collect()"
   ]
  },
  {
   "cell_type": "markdown",
   "id": "46ddc12f",
   "metadata": {},
   "source": [
    "# OuterJoin\n",
    "-기준이 되는 한 쪽에는 데이터가 있고, 다른쪽에는 데이터가 없는 경우\n",
    "\n",
    "    - 설정한 기준에 따라서 기준에 맞는 데이터가 항상 남아있는다.\n",
    "\n",
    "- leftOuterJoin : 왼쪽에 있는 rdd가 기준이 된다. (함수를 호출하는 쪽)\n",
    "- rightOuterJoin : 오른쪽에는 있는 rdd가 기준이 된다 (함수를 매개변수로 들어가는 쪽)"
   ]
  },
  {
   "cell_type": "code",
   "execution_count": 38,
   "id": "e6fc1ccf",
   "metadata": {},
   "outputs": [
    {
     "data": {
      "text/plain": [
       "[('foo', (1, 1)), ('goo', (2, 2)), ('goo', (2, 10)), ('hoo', (3, None))]"
      ]
     },
     "execution_count": 38,
     "metadata": {},
     "output_type": "execute_result"
    }
   ],
   "source": [
    "rdd1.leftOuterJoin(rdd2).collect()"
   ]
  },
  {
   "cell_type": "code",
   "execution_count": 39,
   "id": "d3edf374",
   "metadata": {},
   "outputs": [
    {
     "data": {
      "text/plain": [
       "[('foo', (1, 1)), ('moo', (None, 5)), ('goo', (2, 2)), ('goo', (2, 10))]"
      ]
     },
     "execution_count": 39,
     "metadata": {},
     "output_type": "execute_result"
    }
   ],
   "source": [
    "rdd1.rightOuterJoin(rdd2).collect()"
   ]
  },
  {
   "cell_type": "code",
   "execution_count": null,
   "id": "3e817b89",
   "metadata": {},
   "outputs": [],
   "source": []
  },
  {
   "cell_type": "code",
   "execution_count": null,
   "id": "87cd1ce3",
   "metadata": {},
   "outputs": [],
   "source": []
  },
  {
   "cell_type": "code",
   "execution_count": null,
   "id": "8da489a4",
   "metadata": {},
   "outputs": [],
   "source": [
    "\n"
   ]
  }
 ],
 "metadata": {
  "kernelspec": {
   "display_name": "Python 3 (ipykernel)",
   "language": "python",
   "name": "python3"
  },
  "language_info": {
   "codemirror_mode": {
    "name": "ipython",
    "version": 3
   },
   "file_extension": ".py",
   "mimetype": "text/x-python",
   "name": "python",
   "nbconvert_exporter": "python",
   "pygments_lexer": "ipython3",
   "version": "3.9.13"
  }
 },
 "nbformat": 4,
 "nbformat_minor": 5
}
