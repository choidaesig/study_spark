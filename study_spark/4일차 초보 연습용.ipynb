{
 "cells": [
  {
   "cell_type": "code",
   "execution_count": 1,
   "id": "ed5a60ea",
   "metadata": {},
   "outputs": [],
   "source": [
    "from pyspark import SparkConf, SparkContext\n",
    "import pyspark\n",
    "\n",
    "conf = SparkConf().setAppName('myApp2').setMaster('local')\n",
    "sc = SparkContext(conf=conf)\n"
   ]
  },
  {
   "cell_type": "code",
   "execution_count": 2,
   "id": "b2decb71",
   "metadata": {},
   "outputs": [],
   "source": [
    "from pyspark.sql import SparkSession\n",
    "spark = SparkSession(sc)"
   ]
  },
  {
   "cell_type": "code",
   "execution_count": 4,
   "id": "a8e4ab86",
   "metadata": {},
   "outputs": [
    {
     "data": {
      "text/plain": [
       "DataFrame[DEST_COUNTRY_NAME: string, ORIGIN_COUNTRY_NAME: string, count: bigint]"
      ]
     },
     "execution_count": 4,
     "metadata": {},
     "output_type": "execute_result"
    }
   ],
   "source": [
    "df = spark.read.format('json').load('C:\\\\Users\\\\daesi\\\\Downloads\\\\2015-summary.json')\n",
    "df"
   ]
  },
  {
   "cell_type": "code",
   "execution_count": 5,
   "id": "ab987446",
   "metadata": {},
   "outputs": [
    {
     "name": "stdout",
     "output_type": "stream",
     "text": [
      "root\n",
      " |-- DEST_COUNTRY_NAME: string (nullable = true)\n",
      " |-- ORIGIN_COUNTRY_NAME: string (nullable = true)\n",
      " |-- count: long (nullable = true)\n",
      "\n"
     ]
    }
   ],
   "source": [
    "df.printSchema()"
   ]
  },
  {
   "cell_type": "code",
   "execution_count": 6,
   "id": "d5466973",
   "metadata": {},
   "outputs": [
    {
     "data": {
      "text/plain": [
       "[Row(DEST_COUNTRY_NAME='United States', ORIGIN_COUNTRY_NAME='Romania', count=15),\n",
       " Row(DEST_COUNTRY_NAME='United States', ORIGIN_COUNTRY_NAME='Croatia', count=1),\n",
       " Row(DEST_COUNTRY_NAME='United States', ORIGIN_COUNTRY_NAME='Ireland', count=344)]"
      ]
     },
     "execution_count": 6,
     "metadata": {},
     "output_type": "execute_result"
    }
   ],
   "source": [
    "df.collect()[:3]"
   ]
  },
  {
   "cell_type": "code",
   "execution_count": 7,
   "id": "812020c6",
   "metadata": {},
   "outputs": [
    {
     "name": "stdout",
     "output_type": "stream",
     "text": [
      "+-----------------+-------------------+-----+\n",
      "|DEST_COUNTRY_NAME|ORIGIN_COUNTRY_NAME|count|\n",
      "+-----------------+-------------------+-----+\n",
      "|    United States|            Romania|   15|\n",
      "|    United States|            Croatia|    1|\n",
      "|    United States|            Ireland|  344|\n",
      "+-----------------+-------------------+-----+\n",
      "only showing top 3 rows\n",
      "\n"
     ]
    }
   ],
   "source": [
    "df.show(3)"
   ]
  },
  {
   "cell_type": "code",
   "execution_count": 8,
   "id": "2508cd5b",
   "metadata": {},
   "outputs": [
    {
     "data": {
      "text/plain": [
       "256"
      ]
     },
     "execution_count": 8,
     "metadata": {},
     "output_type": "execute_result"
    }
   ],
   "source": [
    "df.count()\n"
   ]
  },
  {
   "cell_type": "code",
   "execution_count": 10,
   "id": "acd29e60",
   "metadata": {},
   "outputs": [
    {
     "name": "stdout",
     "output_type": "stream",
     "text": [
      "+-----+\n",
      "|count|\n",
      "+-----+\n",
      "|   15|\n",
      "|    1|\n",
      "|  344|\n",
      "|   15|\n",
      "|   62|\n",
      "+-----+\n",
      "only showing top 5 rows\n",
      "\n"
     ]
    }
   ],
   "source": [
    "df.select(df['count']).show(5)"
   ]
  },
  {
   "cell_type": "code",
   "execution_count": 11,
   "id": "02350a7a",
   "metadata": {},
   "outputs": [
    {
     "name": "stdout",
     "output_type": "stream",
     "text": [
      "+--------------------+\n",
      "|   DEST_COUNTRY_NAME|\n",
      "+--------------------+\n",
      "|       United States|\n",
      "|       United States|\n",
      "|       United States|\n",
      "|               Egypt|\n",
      "|       United States|\n",
      "|       United States|\n",
      "|       United States|\n",
      "|          Costa Rica|\n",
      "|             Senegal|\n",
      "|             Moldova|\n",
      "|       United States|\n",
      "|       United States|\n",
      "|              Guyana|\n",
      "|               Malta|\n",
      "|            Anguilla|\n",
      "|             Bolivia|\n",
      "|       United States|\n",
      "|             Algeria|\n",
      "|Turks and Caicos ...|\n",
      "|       United States|\n",
      "+--------------------+\n",
      "only showing top 20 rows\n",
      "\n"
     ]
    }
   ],
   "source": [
    "df2= df.select('DEST_COUNTRY_NAME')\n",
    "df2.show()"
   ]
  },
  {
   "cell_type": "code",
   "execution_count": 19,
   "id": "794a001c",
   "metadata": {},
   "outputs": [
    {
     "name": "stdout",
     "output_type": "stream",
     "text": [
      "+--------------------+\n",
      "|   DEST_COUNTRY_NAME|\n",
      "+--------------------+\n",
      "|            Anguilla|\n",
      "|              Russia|\n",
      "|            Paraguay|\n",
      "|             Senegal|\n",
      "|              Sweden|\n",
      "|            Kiribati|\n",
      "|              Guyana|\n",
      "|         Philippines|\n",
      "|            Djibouti|\n",
      "|            Malaysia|\n",
      "|           Singapore|\n",
      "|                Fiji|\n",
      "|              Turkey|\n",
      "|                Iraq|\n",
      "|             Germany|\n",
      "|              Jordan|\n",
      "|               Palau|\n",
      "|Turks and Caicos ...|\n",
      "|              France|\n",
      "|              Greece|\n",
      "+--------------------+\n",
      "only showing top 20 rows\n",
      "\n"
     ]
    }
   ],
   "source": [
    "df2= df.select('DEST_COUNTRY_NAME').dropDuplicates()\n",
    "df2.show()"
   ]
  },
  {
   "cell_type": "code",
   "execution_count": 14,
   "id": "87fc1489",
   "metadata": {},
   "outputs": [
    {
     "data": {
      "text/plain": [
       "132"
      ]
     },
     "execution_count": 14,
     "metadata": {},
     "output_type": "execute_result"
    }
   ],
   "source": [
    "df2.distinct().count()"
   ]
  },
  {
   "cell_type": "code",
   "execution_count": 15,
   "id": "e1159ebf",
   "metadata": {},
   "outputs": [
    {
     "name": "stdout",
     "output_type": "stream",
     "text": [
      "+--------------------+--------------------+------+\n",
      "|   DEST_COUNTRY_NAME| ORIGIN_COUNTRY_NAME| count|\n",
      "+--------------------+--------------------+------+\n",
      "|       United States|             Romania|    15|\n",
      "|       United States|             Croatia|     1|\n",
      "|       United States|             Ireland|   344|\n",
      "|               Egypt|       United States|    15|\n",
      "|       United States|               India|    62|\n",
      "|       United States|           Singapore|     1|\n",
      "|       United States|             Grenada|    62|\n",
      "|          Costa Rica|       United States|   588|\n",
      "|             Senegal|       United States|    40|\n",
      "|             Moldova|       United States|     1|\n",
      "|       United States|        Sint Maarten|   325|\n",
      "|       United States|    Marshall Islands|    39|\n",
      "|              Guyana|       United States|    64|\n",
      "|               Malta|       United States|     1|\n",
      "|            Anguilla|       United States|    41|\n",
      "|             Bolivia|       United States|    30|\n",
      "|       United States|            Paraguay|     6|\n",
      "|             Algeria|       United States|     4|\n",
      "|Turks and Caicos ...|       United States|   230|\n",
      "|       United States|           Gibraltar|     1|\n",
      "|Saint Vincent and...|       United States|     1|\n",
      "|               Italy|       United States|   382|\n",
      "|       United States|Federated States ...|    69|\n",
      "|       United States|              Russia|   161|\n",
      "|            Pakistan|       United States|    12|\n",
      "|       United States|         Netherlands|   660|\n",
      "|             Iceland|       United States|   181|\n",
      "|    Marshall Islands|       United States|    42|\n",
      "|          Luxembourg|       United States|   155|\n",
      "|            Honduras|       United States|   362|\n",
      "|         The Bahamas|       United States|   955|\n",
      "|       United States|             Senegal|    42|\n",
      "|         El Salvador|       United States|   561|\n",
      "|               Samoa|       United States|    25|\n",
      "|       United States|              Angola|    13|\n",
      "|         Switzerland|       United States|   294|\n",
      "|       United States|            Anguilla|    38|\n",
      "|        Sint Maarten|       United States|   325|\n",
      "|           Hong Kong|       United States|   332|\n",
      "| Trinidad and Tobago|       United States|   211|\n",
      "|              Latvia|       United States|    19|\n",
      "|       United States|             Ecuador|   300|\n",
      "|            Suriname|       United States|     1|\n",
      "|              Mexico|       United States|  7140|\n",
      "|       United States|              Cyprus|     1|\n",
      "|             Ecuador|       United States|   268|\n",
      "|       United States|            Portugal|   134|\n",
      "|       United States|          Costa Rica|   608|\n",
      "|       United States|           Guatemala|   318|\n",
      "|       United States|            Suriname|    34|\n",
      "|            Colombia|       United States|   873|\n",
      "|       United States|          Cape Verde|    14|\n",
      "|       United States|             Jamaica|   712|\n",
      "|              Norway|       United States|   121|\n",
      "|       United States|            Malaysia|     3|\n",
      "|       United States|             Morocco|    19|\n",
      "|            Thailand|       United States|     3|\n",
      "|       United States|               Samoa|    25|\n",
      "|           Venezuela|       United States|   290|\n",
      "|       United States|               Palau|    31|\n",
      "|       United States|           Venezuela|   246|\n",
      "|              Panama|       United States|   510|\n",
      "| Antigua and Barbuda|       United States|   126|\n",
      "|       United States|               Chile|   185|\n",
      "|             Morocco|       United States|    15|\n",
      "|       United States|             Finland|    28|\n",
      "|          Azerbaijan|       United States|    21|\n",
      "|       United States|              Greece|    23|\n",
      "|       United States|         The Bahamas|   986|\n",
      "|         New Zealand|       United States|   111|\n",
      "|             Liberia|       United States|     2|\n",
      "|       United States|           Hong Kong|   414|\n",
      "|             Hungary|       United States|     2|\n",
      "|       United States|               China|   920|\n",
      "|       United States|             Vietnam|     2|\n",
      "|        Burkina Faso|       United States|     1|\n",
      "|              Sweden|       United States|   118|\n",
      "|       United States|              Kuwait|    28|\n",
      "|       United States|  Dominican Republic|  1420|\n",
      "|       United States|               Egypt|    12|\n",
      "|              Israel|       United States|   134|\n",
      "|       United States|       United States|370002|\n",
      "|            Ethiopia|       United States|    13|\n",
      "|       United States|          Luxembourg|   134|\n",
      "|       United States|              Poland|    33|\n",
      "|          Martinique|       United States|    44|\n",
      "|       United States|    Saint Barthelemy|    41|\n",
      "|    Saint Barthelemy|       United States|    39|\n",
      "|            Barbados|       United States|   154|\n",
      "|       United States|              Turkey|   129|\n",
      "|            Djibouti|       United States|     1|\n",
      "|       United States|          Azerbaijan|    21|\n",
      "|       United States|             Estonia|     1|\n",
      "|             Germany|       United States|  1468|\n",
      "|       United States|         South Korea|   827|\n",
      "|       United States|         El Salvador|   508|\n",
      "|             Ireland|       United States|   335|\n",
      "|       United States|             Hungary|     3|\n",
      "|              Zambia|       United States|     1|\n",
      "|            Malaysia|       United States|     2|\n",
      "|       United States|            Ethiopia|    12|\n",
      "|       United States|              Panama|   465|\n",
      "|       United States|               Aruba|   342|\n",
      "|       United States|            Thailand|     4|\n",
      "|       United States|Turks and Caicos ...|   236|\n",
      "|             Croatia|       United States|     2|\n",
      "|       United States|            Pakistan|    12|\n",
      "|              Cyprus|       United States|     1|\n",
      "|       United States|            Honduras|   407|\n",
      "|                Fiji|       United States|    24|\n",
      "|               Qatar|       United States|   108|\n",
      "|Saint Kitts and N...|       United States|   139|\n",
      "|              Kuwait|       United States|    32|\n",
      "|              Taiwan|       United States|   266|\n",
      "|               Haiti|       United States|   226|\n",
      "|              Canada|       United States|  8399|\n",
      "|Federated States ...|       United States|    69|\n",
      "|       United States|             Liberia|     2|\n",
      "|             Jamaica|       United States|   666|\n",
      "|       United States|               Malta|     2|\n",
      "|  Dominican Republic|       United States|  1353|\n",
      "|               Japan|       United States|  1548|\n",
      "|       United States|           Lithuania|     1|\n",
      "|             Finland|       United States|    26|\n",
      "|       United States|          Guadeloupe|    59|\n",
      "|       United States|             Ukraine|    13|\n",
      "|       United States|              France|   952|\n",
      "|       United States|              Norway|   115|\n",
      "|               Aruba|       United States|   346|\n",
      "|       French Guiana|       United States|     5|\n",
      "|       United States|            Kiribati|    35|\n",
      "|               India|       United States|    61|\n",
      "|British Virgin Is...|       United States|   107|\n",
      "|              Brazil|       United States|   853|\n",
      "|       United States|             Germany|  1336|\n",
      "|       United States|         New Zealand|    74|\n",
      "|    French Polynesia|       United States|    43|\n",
      "|United Arab Emirates|       United States|   320|\n",
      "|           Singapore|       United States|     3|\n",
      "|       United States|              Mexico|  7187|\n",
      "|       United States|              Sweden|   119|\n",
      "|         Netherlands|       United States|   776|\n",
      "|       United States|          Martinique|    43|\n",
      "|       United States|United Arab Emirates|   313|\n",
      "|       United States|            Bulgaria|     1|\n",
      "|             Denmark|       United States|   153|\n",
      "|               China|       United States|   772|\n",
      "|       United States|           Nicaragua|   201|\n",
      "|       United States|         Philippines|   126|\n",
      "|       United States|             Georgia|     1|\n",
      "|       United States|             Belgium|   228|\n",
      "|      Cayman Islands|       United States|   314|\n",
      "|           Argentina|       United States|   180|\n",
      "|                Peru|       United States|   279|\n",
      "|        South Africa|       United States|    36|\n",
      "|       United States|             Iceland|   202|\n",
      "|       United States|           Argentina|   141|\n",
      "|               Spain|       United States|   420|\n",
      "|             Bermuda|       United States|   183|\n",
      "|       United States|             Nigeria|    50|\n",
      "|       United States|             Austria|    63|\n",
      "|       United States|Bonaire, Sint Eus...|    59|\n",
      "|            Kiribati|       United States|    26|\n",
      "|        Saudi Arabia|       United States|    83|\n",
      "|      Czech Republic|       United States|    13|\n",
      "|       United States|              Israel|   127|\n",
      "|             Belgium|       United States|   259|\n",
      "|       United States|         Saint Lucia|   136|\n",
      "|       United States|             Bahrain|     1|\n",
      "|       United States|British Virgin Is...|    80|\n",
      "|             Curacao|       United States|    90|\n",
      "|             Georgia|       United States|     2|\n",
      "|       United States|             Denmark|   152|\n",
      "|       United States|              Guyana|    63|\n",
      "|         Philippines|       United States|   134|\n",
      "|             Grenada|       United States|    53|\n",
      "|          Cape Verde|       United States|    20|\n",
      "|       Cote d'Ivoire|       United States|     1|\n",
      "|             Ukraine|       United States|    14|\n",
      "|       United States|    Papua New Guinea|     1|\n",
      "|              Russia|       United States|   176|\n",
      "|       United States|        Saudi Arabia|    70|\n",
      "|           Guatemala|       United States|   397|\n",
      "|         Saint Lucia|       United States|   123|\n",
      "|            Paraguay|       United States|    60|\n",
      "|       United States|             Curacao|    83|\n",
      "|              Kosovo|       United States|     1|\n",
      "|       United States|              Taiwan|   235|\n",
      "|             Tunisia|       United States|     3|\n",
      "|       United States|        South Africa|    40|\n",
      "|               Niger|       United States|     2|\n",
      "|              Turkey|       United States|   138|\n",
      "|      United Kingdom|       United States|  2025|\n",
      "|             Romania|       United States|    14|\n",
      "|       United States|           Greenland|     4|\n",
      "|    Papua New Guinea|       United States|     3|\n",
      "|       United States|               Spain|   442|\n",
      "|                Iraq|       United States|     1|\n",
      "|       United States|               Italy|   438|\n",
      "|                Cuba|       United States|   466|\n",
      "|       United States|         Switzerland|   305|\n",
      "|            Dominica|       United States|    20|\n",
      "|       United States|               Japan|  1496|\n",
      "|            Portugal|       United States|   127|\n",
      "|       United States|              Brazil|   619|\n",
      "|             Bahrain|       United States|    19|\n",
      "|       United States|                Peru|   337|\n",
      "|           Indonesia|       United States|     1|\n",
      "|       United States|              Belize|   193|\n",
      "|       United States|      United Kingdom|  1970|\n",
      "|              Belize|       United States|   188|\n",
      "|       United States|               Ghana|    20|\n",
      "|       United States|           Indonesia|     2|\n",
      "|       United States|                Fiji|    25|\n",
      "|       United States|              Canada|  8483|\n",
      "|       United States| Antigua and Barbuda|   117|\n",
      "|       United States|    French Polynesia|    40|\n",
      "|           Nicaragua|       United States|   179|\n",
      "|       United States|              Latvia|    15|\n",
      "|       United States|            Dominica|    27|\n",
      "|       United States|      Czech Republic|    12|\n",
      "|       United States|           Australia|   258|\n",
      "|       United States|        Cook Islands|    13|\n",
      "|             Austria|       United States|    62|\n",
      "|              Jordan|       United States|    44|\n",
      "|               Palau|       United States|    30|\n",
      "|         South Korea|       United States|  1048|\n",
      "|              Angola|       United States|    15|\n",
      "|               Ghana|       United States|    18|\n",
      "|       New Caledonia|       United States|     1|\n",
      "|          Guadeloupe|       United States|    56|\n",
      "|              France|       United States|   935|\n",
      "|              Poland|       United States|    32|\n",
      "|             Nigeria|       United States|    59|\n",
      "|       United States|             Uruguay|    13|\n",
      "|           Greenland|       United States|     2|\n",
      "|       United States|             Bermuda|   193|\n",
      "|               Chile|       United States|   174|\n",
      "|       United States|                Cuba|   478|\n",
      "|       United States|          Montenegro|     1|\n",
      "|       United States|            Colombia|   867|\n",
      "|       United States|            Barbados|   130|\n",
      "|       United States|               Qatar|   109|\n",
      "|           Australia|       United States|   329|\n",
      "|       United States|      Cayman Islands|   310|\n",
      "|       United States|              Jordan|    44|\n",
      "|       United States|             Namibia|     1|\n",
      "|       United States| Trinidad and Tobago|   217|\n",
      "|       United States|             Bolivia|    13|\n",
      "|        Cook Islands|       United States|    13|\n",
      "|            Bulgaria|       United States|     3|\n",
      "|       United States|Saint Kitts and N...|   145|\n",
      "|             Uruguay|       United States|    43|\n",
      "|       United States|               Haiti|   225|\n",
      "|Bonaire, Sint Eus...|       United States|    58|\n",
      "|              Greece|       United States|    30|\n",
      "+--------------------+--------------------+------+\n",
      "\n"
     ]
    }
   ],
   "source": [
    "df.show(df.count())"
   ]
  },
  {
   "cell_type": "code",
   "execution_count": 17,
   "id": "3fc763f5",
   "metadata": {},
   "outputs": [
    {
     "data": {
      "text/plain": [
       "DataFrame[DEST_COUNTRY_NAME: string]"
      ]
     },
     "execution_count": 17,
     "metadata": {},
     "output_type": "execute_result"
    }
   ],
   "source": [
    "df2.sort('count')"
   ]
  },
  {
   "cell_type": "code",
   "execution_count": 18,
   "id": "262522d3",
   "metadata": {},
   "outputs": [
    {
     "name": "stdout",
     "output_type": "stream",
     "text": [
      "+--------------------+\n",
      "|   DEST_COUNTRY_NAME|\n",
      "+--------------------+\n",
      "|       United States|\n",
      "|              Kosovo|\n",
      "|              Zambia|\n",
      "|       United States|\n",
      "|               Malta|\n",
      "|       United States|\n",
      "|            Suriname|\n",
      "|       United States|\n",
      "|            Djibouti|\n",
      "|        Burkina Faso|\n",
      "|Saint Vincent and...|\n",
      "|       United States|\n",
      "|       United States|\n",
      "|             Moldova|\n",
      "|              Cyprus|\n",
      "|       United States|\n",
      "|       United States|\n",
      "|       United States|\n",
      "|       United States|\n",
      "|       Cote d'Ivoire|\n",
      "+--------------------+\n",
      "only showing top 20 rows\n",
      "\n"
     ]
    }
   ],
   "source": [
    "df2.sort('count').show()"
   ]
  },
  {
   "cell_type": "code",
   "execution_count": 23,
   "id": "6389ea40",
   "metadata": {},
   "outputs": [],
   "source": [
    "from pyspark.sql.functions import expr\n",
    "\n",
    "# 컬럼 추가\n",
    "\n",
    "df3 = df.withColumn('withinCountry', expr('DEST_COUNTRY_NAME == ORIGIN_COUNTRY_NAME'))"
   ]
  },
  {
   "cell_type": "code",
   "execution_count": 24,
   "id": "671b541a",
   "metadata": {},
   "outputs": [
    {
     "name": "stdout",
     "output_type": "stream",
     "text": [
      "+-------------+-----+\n",
      "|withinCountry|count|\n",
      "+-------------+-----+\n",
      "|         true|    1|\n",
      "|        false|  255|\n",
      "+-------------+-----+\n",
      "\n"
     ]
    }
   ],
   "source": [
    "df3.groupBy('withinCountry').count().show()"
   ]
  },
  {
   "cell_type": "code",
   "execution_count": 25,
   "id": "d7e1fec9",
   "metadata": {},
   "outputs": [
    {
     "data": {
      "text/plain": [
       "DataFrame[DEST_COUNTRY_NAME: string, ORIGIN_COUNTRY_NAME: string, count: bigint]"
      ]
     },
     "execution_count": 25,
     "metadata": {},
     "output_type": "execute_result"
    }
   ],
   "source": [
    "df"
   ]
  },
  {
   "cell_type": "code",
   "execution_count": 27,
   "id": "e13920b0",
   "metadata": {},
   "outputs": [
    {
     "name": "stdout",
     "output_type": "stream",
     "text": [
      "+--------------------+-------------------+-----+\n",
      "|   DEST_COUNTRY_NAME|ORIGIN_COUNTRY_NAME|count|\n",
      "+--------------------+-------------------+-----+\n",
      "|       United States|            Croatia|    1|\n",
      "|       United States|          Singapore|    1|\n",
      "|             Moldova|      United States|    1|\n",
      "|               Malta|      United States|    1|\n",
      "|       United States|          Gibraltar|    1|\n",
      "|Saint Vincent and...|      United States|    1|\n",
      "|            Suriname|      United States|    1|\n",
      "|       United States|             Cyprus|    1|\n",
      "|        Burkina Faso|      United States|    1|\n",
      "|            Djibouti|      United States|    1|\n",
      "|       United States|            Estonia|    1|\n",
      "|              Zambia|      United States|    1|\n",
      "|              Cyprus|      United States|    1|\n",
      "|       United States|          Lithuania|    1|\n",
      "|       United States|           Bulgaria|    1|\n",
      "|       United States|            Georgia|    1|\n",
      "|       United States|            Bahrain|    1|\n",
      "|       Cote d'Ivoire|      United States|    1|\n",
      "|       United States|   Papua New Guinea|    1|\n",
      "|              Kosovo|      United States|    1|\n",
      "+--------------------+-------------------+-----+\n",
      "only showing top 20 rows\n",
      "\n"
     ]
    }
   ],
   "source": [
    "df.where('count<2').show()"
   ]
  },
  {
   "cell_type": "code",
   "execution_count": 28,
   "id": "865243ee",
   "metadata": {},
   "outputs": [
    {
     "name": "stdout",
     "output_type": "stream",
     "text": [
      "+-----------------+-------------------+-----+\n",
      "|DEST_COUNTRY_NAME|ORIGIN_COUNTRY_NAME|count|\n",
      "+-----------------+-------------------+-----+\n",
      "|    United States|          Singapore|    1|\n",
      "|          Moldova|      United States|    1|\n",
      "+-----------------+-------------------+-----+\n",
      "only showing top 2 rows\n",
      "\n"
     ]
    }
   ],
   "source": [
    "df.where('count<2').where('ORIGIN_COUNTRY_NAME != \"Croatia\"').show(2)"
   ]
  },
  {
   "cell_type": "code",
   "execution_count": 29,
   "id": "dad54af0",
   "metadata": {},
   "outputs": [
    {
     "name": "stdout",
     "output_type": "stream",
     "text": [
      "+--------------------+-------------------+-----+\n",
      "|   DEST_COUNTRY_NAME|ORIGIN_COUNTRY_NAME|count|\n",
      "+--------------------+-------------------+-----+\n",
      "|       United States|            Croatia|    1|\n",
      "|       United States|          Singapore|    1|\n",
      "|             Moldova|      United States|    1|\n",
      "|               Malta|      United States|    1|\n",
      "|       United States|          Gibraltar|    1|\n",
      "|Saint Vincent and...|      United States|    1|\n",
      "|            Suriname|      United States|    1|\n",
      "|       United States|             Cyprus|    1|\n",
      "|        Burkina Faso|      United States|    1|\n",
      "|            Djibouti|      United States|    1|\n",
      "|       United States|            Estonia|    1|\n",
      "|              Zambia|      United States|    1|\n",
      "|              Cyprus|      United States|    1|\n",
      "|       United States|          Lithuania|    1|\n",
      "|       United States|           Bulgaria|    1|\n",
      "|       United States|            Georgia|    1|\n",
      "|       United States|            Bahrain|    1|\n",
      "|       Cote d'Ivoire|      United States|    1|\n",
      "|       United States|   Papua New Guinea|    1|\n",
      "|              Kosovo|      United States|    1|\n",
      "+--------------------+-------------------+-----+\n",
      "only showing top 20 rows\n",
      "\n"
     ]
    }
   ],
   "source": [
    "df.filter('count<2').show()"
   ]
  },
  {
   "cell_type": "code",
   "execution_count": 43,
   "id": "ff683611",
   "metadata": {},
   "outputs": [
    {
     "name": "stdout",
     "output_type": "stream",
     "text": [
      "root\n",
      " |-- empno: string (nullable = true)\n",
      " |-- ename: string (nullable = true)\n",
      " |-- job: string (nullable = true)\n",
      " |-- mgr: string (nullable = true)\n",
      " |-- hiredate: string (nullable = true)\n",
      " |-- sal: string (nullable = true)\n",
      " |-- comm: string (nullable = true)\n",
      " |-- deptno: string (nullable = true)\n",
      "\n"
     ]
    }
   ],
   "source": [
    "emp_df=spark.read.format('csv').option('header','true').option('interSchema','true').load('C:\\\\Users\\\\daesi\\\\Downloads\\\\emp.csv')\n",
    "emp_df.printSchema()"
   ]
  },
  {
   "cell_type": "code",
   "execution_count": 44,
   "id": "5609c8d9",
   "metadata": {},
   "outputs": [
    {
     "name": "stdout",
     "output_type": "stream",
     "text": [
      "+-----+-----+-------+----+----------+----+----+------+\n",
      "|empno|ename|    job| mgr|  hiredate| sal|comm|deptno|\n",
      "+-----+-----+-------+----+----------+----+----+------+\n",
      "| 7369|SMITH|  CLERK|7902|1980-12-17| 800|null|    20|\n",
      "| 7566|JONES|MANAGER|7839|1981-04-02|2975|null|    20|\n",
      "| 7788|SCOTT|ANALYST|7566|1987-04-19|3000|null|    20|\n",
      "| 7876|ADAMS|  CLERK|7788|1987-05-23|1100|null|    20|\n",
      "| 7902| FORD|ANALYST|7566|1981-12-03|3000|null|    20|\n",
      "+-----+-----+-------+----+----------+----+----+------+\n",
      "\n"
     ]
    }
   ],
   "source": [
    "emp_df.select('*').where('deptno=20').show()"
   ]
  },
  {
   "cell_type": "code",
   "execution_count": 45,
   "id": "90f00938",
   "metadata": {},
   "outputs": [
    {
     "name": "stdout",
     "output_type": "stream",
     "text": [
      "+--------+\n",
      "|count(1)|\n",
      "+--------+\n",
      "|      15|\n",
      "+--------+\n",
      "\n"
     ]
    }
   ],
   "source": [
    "emp_df.selectExpr('count(*)').show()"
   ]
  },
  {
   "cell_type": "code",
   "execution_count": 50,
   "id": "832b17a9",
   "metadata": {},
   "outputs": [
    {
     "name": "stdout",
     "output_type": "stream",
     "text": [
      "+-----------+\n",
      "|count(comm)|\n",
      "+-----------+\n",
      "|          4|\n",
      "+-----------+\n",
      "\n"
     ]
    }
   ],
   "source": [
    "from pyspark.sql.functions import count\n",
    "\n",
    "emp_df.select(count('comm')).show()"
   ]
  },
  {
   "cell_type": "code",
   "execution_count": 51,
   "id": "5926e083",
   "metadata": {},
   "outputs": [
    {
     "name": "stdout",
     "output_type": "stream",
     "text": [
      "+---------+\n",
      "|      job|\n",
      "+---------+\n",
      "|  ANALYST|\n",
      "| SALESMAN|\n",
      "|    CLERK|\n",
      "|  MANAGER|\n",
      "|PRESIDENT|\n",
      "+---------+\n",
      "\n"
     ]
    }
   ],
   "source": [
    "emp_df.select('job').distinct().show()"
   ]
  },
  {
   "cell_type": "code",
   "execution_count": 53,
   "id": "597bf492",
   "metadata": {},
   "outputs": [
    {
     "name": "stdout",
     "output_type": "stream",
     "text": [
      "+--------+--------+\n",
      "|min(sal)|max(sal)|\n",
      "+--------+--------+\n",
      "|    1100|     950|\n",
      "+--------+--------+\n",
      "\n"
     ]
    }
   ],
   "source": [
    "from pyspark.sql.functions import min, max\n",
    "\n",
    "emp_df.select(min('sal'), max('sal')).show()"
   ]
  },
  {
   "cell_type": "code",
   "execution_count": 54,
   "id": "9e730bf3",
   "metadata": {},
   "outputs": [
    {
     "name": "stderr",
     "output_type": "stream",
     "text": [
      "C:\\Users\\daesi\\anaconda3\\lib\\site-packages\\pyspark\\sql\\functions.py:214: FutureWarning: Deprecated in 3.2, use sum_distinct instead.\n",
      "  warnings.warn(\"Deprecated in 3.2, use sum_distinct instead.\", FutureWarning)\n"
     ]
    },
    {
     "name": "stdout",
     "output_type": "stream",
     "text": [
      "+-----------------+\n",
      "|sum(DISTINCT sal)|\n",
      "+-----------------+\n",
      "|          27975.0|\n",
      "+-----------------+\n",
      "\n"
     ]
    }
   ],
   "source": [
    "from pyspark.sql.functions import sumDistinct\n",
    "\n",
    "emp_df.select(sumDistinct('sal')).show()"
   ]
  },
  {
   "cell_type": "code",
   "execution_count": 55,
   "id": "184d726a",
   "metadata": {},
   "outputs": [
    {
     "name": "stdout",
     "output_type": "stream",
     "text": [
      "+------------------+\n",
      "|          avg(sal)|\n",
      "+------------------+\n",
      "|2148.3333333333335|\n",
      "+------------------+\n",
      "\n"
     ]
    }
   ],
   "source": [
    "from pyspark.sql.functions import avg\n",
    "\n",
    "emp_df.select(avg('sal')).show()"
   ]
  },
  {
   "cell_type": "code",
   "execution_count": 56,
   "id": "02c9fd3c",
   "metadata": {},
   "outputs": [
    {
     "name": "stdout",
     "output_type": "stream",
     "text": [
      "+---------+-----+\n",
      "|      job|count|\n",
      "+---------+-----+\n",
      "|  ANALYST|    2|\n",
      "| SALESMAN|    4|\n",
      "|    CLERK|    5|\n",
      "|  MANAGER|    3|\n",
      "|PRESIDENT|    1|\n",
      "+---------+-----+\n",
      "\n"
     ]
    }
   ],
   "source": [
    "emp_df.groupBy('job').count().show()"
   ]
  },
  {
   "cell_type": "code",
   "execution_count": null,
   "id": "21cb7d02",
   "metadata": {},
   "outputs": [],
   "source": []
  },
  {
   "cell_type": "code",
   "execution_count": null,
   "id": "00e3faf7",
   "metadata": {},
   "outputs": [],
   "source": []
  },
  {
   "cell_type": "code",
   "execution_count": null,
   "id": "0bc51898",
   "metadata": {},
   "outputs": [],
   "source": []
  },
  {
   "cell_type": "code",
   "execution_count": null,
   "id": "21e6466b",
   "metadata": {},
   "outputs": [],
   "source": []
  }
 ],
 "metadata": {
  "kernelspec": {
   "display_name": "Python 3 (ipykernel)",
   "language": "python",
   "name": "python3"
  },
  "language_info": {
   "codemirror_mode": {
    "name": "ipython",
    "version": 3
   },
   "file_extension": ".py",
   "mimetype": "text/x-python",
   "name": "python",
   "nbconvert_exporter": "python",
   "pygments_lexer": "ipython3",
   "version": "3.9.13"
  }
 },
 "nbformat": 4,
 "nbformat_minor": 5
}
