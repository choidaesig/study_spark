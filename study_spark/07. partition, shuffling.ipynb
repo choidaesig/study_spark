{
 "cells": [
  {
   "cell_type": "code",
   "execution_count": 1,
   "id": "1fba3cff",
   "metadata": {},
   "outputs": [],
   "source": [
    "from pyspark import SparkConf, SparkContext\n",
    "conf=SparkConf().setMaster(\"local\").setAppName(\"key-value_rdd_op_joins\")\n",
    "sc=SparkContext(conf=conf)"
   ]
  },
  {
   "cell_type": "markdown",
   "id": "079fd075",
   "metadata": {},
   "source": [
    "# 사용자가 지정한 파티션을 가지는 RDD를 생성\n",
    "-partitionBy"
   ]
  },
  {
   "cell_type": "code",
   "execution_count": 4,
   "id": "14daf9b2",
   "metadata": {},
   "outputs": [
    {
     "data": {
      "text/plain": [
       "[(1, 1), (2, 2), (3, 3), (4, 4), (2, 2), (4, 4), (1, 1)]"
      ]
     },
     "execution_count": 4,
     "metadata": {},
     "output_type": "execute_result"
    }
   ],
   "source": [
    "pairs=sc.parallelize([\n",
    "    1,2,3,4,2,4,1\n",
    "]).map(lambda x : (x,x))\n",
    "\n",
    "paris.collect()"
   ]
  },
  {
   "cell_type": "markdown",
   "id": "969da8cc",
   "metadata": {},
   "source": [
    "-glom():파티션 별로 데이터를 확인"
   ]
  },
  {
   "cell_type": "code",
   "execution_count": 5,
   "id": "58dbed2e",
   "metadata": {},
   "outputs": [
    {
     "data": {
      "text/plain": [
       "[[(2, 2), (4, 4), (2, 2), (4, 4)], [(1, 1), (3, 3), (1, 1)]]"
      ]
     },
     "execution_count": 5,
     "metadata": {},
     "output_type": "execute_result"
    }
   ],
   "source": [
    "pairs.partitionBy(2).glom().collect()"
   ]
  },
  {
   "cell_type": "markdown",
   "id": "ac894fdf",
   "metadata": {},
   "source": [
    "사용자 정의 함수를 파티션 배치 함수로 만들 수 있다."
   ]
  },
  {
   "cell_type": "code",
   "execution_count": 6,
   "id": "b815bd0e",
   "metadata": {},
   "outputs": [
    {
     "data": {
      "text/plain": [
       "[[(2, 2), (4, 4), (2, 2), (4, 4)], [(1, 1), (3, 3), (1, 1)]]"
      ]
     },
     "execution_count": 6,
     "metadata": {},
     "output_type": "execute_result"
    }
   ],
   "source": [
    "pairs.partitionBy(2,lambda x : x % 2).glom().collect()"
   ]
  },
  {
   "cell_type": "markdown",
   "id": "ea945c81",
   "metadata": {},
   "source": [
    "파티션을 만든 후에 'persist'를 하지 않으면 다음 연산에 불릴때마다 파티션을 만드는 코드가 계속 반복된다.\n",
    " - 셔플링이 반복적으로 계속 일어난다."
   ]
  },
  {
   "cell_type": "code",
   "execution_count": 7,
   "id": "dc3784a7",
   "metadata": {},
   "outputs": [
    {
     "data": {
      "text/plain": [
       "[[(2, 2), (4, 4), (2, 2), (4, 4)], [(1, 1), (3, 3), (1, 1)]]"
      ]
     },
     "execution_count": 7,
     "metadata": {},
     "output_type": "execute_result"
    }
   ],
   "source": [
    "pairs.partitionBy(2,lambda x : x % 2).persist().glom().collect()"
   ]
  },
  {
   "cell_type": "code",
   "execution_count": 8,
   "id": "50e1e3d4",
   "metadata": {},
   "outputs": [],
   "source": [
    "sc.stop()"
   ]
  },
  {
   "cell_type": "code",
   "execution_count": null,
   "id": "b50c237a",
   "metadata": {},
   "outputs": [],
   "source": []
  }
 ],
 "metadata": {
  "kernelspec": {
   "display_name": "Python 3 (ipykernel)",
   "language": "python",
   "name": "python3"
  },
  "language_info": {
   "codemirror_mode": {
    "name": "ipython",
    "version": 3
   },
   "file_extension": ".py",
   "mimetype": "text/x-python",
   "name": "python",
   "nbconvert_exporter": "python",
   "pygments_lexer": "ipython3",
   "version": "3.9.13"
  }
 },
 "nbformat": 4,
 "nbformat_minor": 5
}
