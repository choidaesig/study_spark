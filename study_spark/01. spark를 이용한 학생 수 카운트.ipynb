{
 "cells": [
  {
   "cell_type": "markdown",
   "id": "942494a3",
   "metadata": {},
   "source": [
    "# SparkContext 초기화 하기\n",
    "* SparkConf : 스파크 설정 옵션 객체, 주로 SparkContext에 관련된 설정들이 들어간다\n",
    "    -setMaster : 'Spark'가 실행할 위치를 설정. 'local'또는 분산 환경(HDFS) 등을 사용할 수 있다.\n",
    "    -setAppName: 스파크에서 작업할 어플리케이션의 이름. 웹 환경('Spark')에서 확인 가능하다\n",
    "* SparkContext : 'Spark'클러스터와 연결 시켜주는 객체\n",
    "    -'Spark'의 모든 기능에 접근할 수 있는 시작점\n",
    "    -기본적으로 'Spark'는 분산 환경에서 동작하기 때문에  'Dirver Program'을 구동시키기 위해서 'SparkContext'가 필요하다\n",
    "    -SparkContext는 프로그램 당 하나만 만들 수 있으며, 사용후에는 종료해 줘야 한다."
   ]
  },
  {
   "cell_type": "code",
   "execution_count": 1,
   "id": "75a07d7f",
   "metadata": {},
   "outputs": [],
   "source": [
    "from pyspark import SparkContext, SparkConf"
   ]
  },
  {
   "cell_type": "code",
   "execution_count": 2,
   "id": "6494aa53",
   "metadata": {},
   "outputs": [],
   "source": [
    "# 스파크 환경 설정 객체\n",
    "conf = SparkConf().setMaster(\"local\").setAppName(\"country-student-counts\")\n",
    "\n",
    "#SparkContext 생성\n",
    "#sc라는 이름을 반드시 사용할 것\n",
    "sc = SparkContext(conf=conf)"
   ]
  },
  {
   "cell_type": "markdown",
   "id": "f9c3299d",
   "metadata": {},
   "source": [
    "# SparkContext의 작동 과정\n",
    "-SparkContext 객체는 내부에 자바로 동작하는 Py4j의 SparkContext와 소켓을 통해 연결된다.\n",
    "-Py4j 덕분에 파이썬으로 코딩하면서도 자바 위에서 작동하는 프로그램을 작성할 수 있게 된다.\n",
    "-RDD를 만들 수 있다."
   ]
  },
  {
   "cell_type": "markdown",
   "id": "f10e15cc",
   "metadata": {},
   "source": [
    "**csv 파일을 RDD로"
   ]
  },
  {
   "cell_type": "code",
   "execution_count": 15,
   "id": "2e4f780a",
   "metadata": {},
   "outputs": [],
   "source": [
    "directory=\"C:\\\\Users\\\\daesi\\\\study_spark\\\\data\"\n",
    "filename=\"xAPI-Edu-Data.csv\""
   ]
  },
  {
   "cell_type": "code",
   "execution_count": 16,
   "id": "126334ad",
   "metadata": {},
   "outputs": [
    {
     "ename": "NameError",
     "evalue": "name 'sc' is not defined",
     "output_type": "error",
     "traceback": [
      "\u001b[1;31m---------------------------------------------------------------------------\u001b[0m",
      "\u001b[1;31mNameError\u001b[0m                                 Traceback (most recent call last)",
      "Input \u001b[1;32mIn [16]\u001b[0m, in \u001b[0;36m<cell line: 2>\u001b[1;34m()\u001b[0m\n\u001b[0;32m      1\u001b[0m \u001b[38;5;66;03m#데이터 로딩 및 RDD 생성\u001b[39;00m\n\u001b[1;32m----> 2\u001b[0m lines \u001b[38;5;241m=\u001b[39m \u001b[43msc\u001b[49m\u001b[38;5;241m.\u001b[39mtextFile(\u001b[38;5;124m\"\u001b[39m\u001b[38;5;124mfile:///\u001b[39m\u001b[38;5;132;01m{}\u001b[39;00m\u001b[38;5;130;01m\\\\\u001b[39;00m\u001b[38;5;132;01m{}\u001b[39;00m\u001b[38;5;124m\"\u001b[39m\u001b[38;5;241m.\u001b[39mformat(directory,filename))\n\u001b[0;32m      3\u001b[0m lines\n",
      "\u001b[1;31mNameError\u001b[0m: name 'sc' is not defined"
     ]
    }
   ],
   "source": [
    "#데이터 로딩 및 RDD 생성\n",
    "lines = sc.textFile(\"file:///{}\\\\{}\".format(directory,filename))\n",
    "lines"
   ]
  },
  {
   "cell_type": "markdown",
   "id": "99d4f115",
   "metadata": {},
   "source": [
    "첫번째 줄 가져오기"
   ]
  },
  {
   "cell_type": "code",
   "execution_count": 18,
   "id": "989090b8",
   "metadata": {},
   "outputs": [
    {
     "ename": "NameError",
     "evalue": "name 'lines' is not defined",
     "output_type": "error",
     "traceback": [
      "\u001b[1;31m---------------------------------------------------------------------------\u001b[0m",
      "\u001b[1;31mNameError\u001b[0m                                 Traceback (most recent call last)",
      "Input \u001b[1;32mIn [18]\u001b[0m, in \u001b[0;36m<cell line: 1>\u001b[1;34m()\u001b[0m\n\u001b[1;32m----> 1\u001b[0m header \u001b[38;5;241m=\u001b[39m \u001b[43mlines\u001b[49m\u001b[38;5;241m.\u001b[39mfirst()\n\u001b[0;32m      2\u001b[0m header\n",
      "\u001b[1;31mNameError\u001b[0m: name 'lines' is not defined"
     ]
    }
   ],
   "source": [
    "header = lines.first()\n",
    "header"
   ]
  },
  {
   "cell_type": "raw",
   "id": "1e961607",
   "metadata": {},
   "source": [
    "header를 제외하고 나머지 데이터만 가져오기"
   ]
  },
  {
   "cell_type": "code",
   "execution_count": 19,
   "id": "dc96c007",
   "metadata": {},
   "outputs": [
    {
     "ename": "NameError",
     "evalue": "name 'lines' is not defined",
     "output_type": "error",
     "traceback": [
      "\u001b[1;31m---------------------------------------------------------------------------\u001b[0m",
      "\u001b[1;31mNameError\u001b[0m                                 Traceback (most recent call last)",
      "Input \u001b[1;32mIn [19]\u001b[0m, in \u001b[0;36m<cell line: 1>\u001b[1;34m()\u001b[0m\n\u001b[1;32m----> 1\u001b[0m datas\u001b[38;5;241m=\u001b[39m\u001b[43mlines\u001b[49m\u001b[38;5;241m.\u001b[39mfilter(\u001b[38;5;28;01mlambda\u001b[39;00m row : row \u001b[38;5;241m!=\u001b[39m header)\n\u001b[0;32m      2\u001b[0m datas\n",
      "\u001b[1;31mNameError\u001b[0m: name 'lines' is not defined"
     ]
    }
   ],
   "source": [
    "datas=lines.filter(lambda row : row != header)\n",
    "datas"
   ]
  },
  {
   "cell_type": "code",
   "execution_count": null,
   "id": "c4414c5e",
   "metadata": {},
   "outputs": [],
   "source": [
    "#collect()를 이용해 실제 데이터를 확인할 수 있다.\n",
    "datas.collect()[:3] #3개만 보기"
   ]
  },
  {
   "cell_type": "code",
   "execution_count": 20,
   "id": "e3667735",
   "metadata": {},
   "outputs": [
    {
     "ename": "NameError",
     "evalue": "name 'datas' is not defined",
     "output_type": "error",
     "traceback": [
      "\u001b[1;31m---------------------------------------------------------------------------\u001b[0m",
      "\u001b[1;31mNameError\u001b[0m                                 Traceback (most recent call last)",
      "Input \u001b[1;32mIn [20]\u001b[0m, in \u001b[0;36m<cell line: 2>\u001b[1;34m()\u001b[0m\n\u001b[0;32m      1\u001b[0m \u001b[38;5;66;03m#국적만 추출하기\u001b[39;00m\n\u001b[1;32m----> 2\u001b[0m countires\u001b[38;5;241m=\u001b[39m\u001b[43mdatas\u001b[49m\u001b[38;5;241m.\u001b[39mmap(\u001b[38;5;28;01mlambda\u001b[39;00m row: row\u001b[38;5;241m.\u001b[39msplit(\u001b[38;5;124m'\u001b[39m\u001b[38;5;124m.\u001b[39m\u001b[38;5;124m'\u001b[39m))[\u001b[38;5;241m2\u001b[39m]\n\u001b[0;32m      3\u001b[0m countires\n",
      "\u001b[1;31mNameError\u001b[0m: name 'datas' is not defined"
     ]
    }
   ],
   "source": [
    "#국적만 추출하기\n",
    "countires=datas.map(lambda row: row.split('.'))[2]\n",
    "countires"
   ]
  },
  {
   "cell_type": "code",
   "execution_count": 21,
   "id": "64e0b929",
   "metadata": {},
   "outputs": [
    {
     "ename": "NameError",
     "evalue": "name 'countires' is not defined",
     "output_type": "error",
     "traceback": [
      "\u001b[1;31m---------------------------------------------------------------------------\u001b[0m",
      "\u001b[1;31mNameError\u001b[0m                                 Traceback (most recent call last)",
      "Input \u001b[1;32mIn [21]\u001b[0m, in \u001b[0;36m<cell line: 1>\u001b[1;34m()\u001b[0m\n\u001b[1;32m----> 1\u001b[0m \u001b[43mcountires\u001b[49m\u001b[38;5;241m.\u001b[39mcollect()[:\u001b[38;5;241m3\u001b[39m]\n",
      "\u001b[1;31mNameError\u001b[0m: name 'countires' is not defined"
     ]
    }
   ],
   "source": [
    "countires.collect()[:3]"
   ]
  },
  {
   "cell_type": "code",
   "execution_count": 22,
   "id": "f2c0a5cb",
   "metadata": {},
   "outputs": [
    {
     "ename": "NameError",
     "evalue": "name 'countires' is not defined",
     "output_type": "error",
     "traceback": [
      "\u001b[1;31m---------------------------------------------------------------------------\u001b[0m",
      "\u001b[1;31mNameError\u001b[0m                                 Traceback (most recent call last)",
      "Input \u001b[1;32mIn [22]\u001b[0m, in \u001b[0;36m<cell line: 2>\u001b[1;34m()\u001b[0m\n\u001b[0;32m      1\u001b[0m \u001b[38;5;66;03m#국적별 개수 세기\u001b[39;00m\n\u001b[1;32m----> 2\u001b[0m result\u001b[38;5;241m=\u001b[39m \u001b[43mcountires\u001b[49m\u001b[38;5;241m.\u001b[39mcountByValue()\n\u001b[0;32m      3\u001b[0m result\n",
      "\u001b[1;31mNameError\u001b[0m: name 'countires' is not defined"
     ]
    }
   ],
   "source": [
    "#국적별 개수 세기\n",
    "result= countires.countByValue()\n",
    "result"
   ]
  },
  {
   "cell_type": "markdown",
   "id": "5a853439",
   "metadata": {},
   "source": [
    "시각화"
   ]
  },
  {
   "cell_type": "code",
   "execution_count": 23,
   "id": "7f1272ac",
   "metadata": {},
   "outputs": [],
   "source": [
    "import pandas as pd\n",
    "import matplotlib.pyplot as plt\n",
    "import seaborn as sns"
   ]
  },
  {
   "cell_type": "code",
   "execution_count": 24,
   "id": "5c3a011a",
   "metadata": {},
   "outputs": [
    {
     "ename": "NameError",
     "evalue": "name 'result' is not defined",
     "output_type": "error",
     "traceback": [
      "\u001b[1;31m---------------------------------------------------------------------------\u001b[0m",
      "\u001b[1;31mNameError\u001b[0m                                 Traceback (most recent call last)",
      "Input \u001b[1;32mIn [24]\u001b[0m, in \u001b[0;36m<cell line: 1>\u001b[1;34m()\u001b[0m\n\u001b[1;32m----> 1\u001b[0m series \u001b[38;5;241m=\u001b[39m pd\u001b[38;5;241m.\u001b[39mSeries(\u001b[43mresult\u001b[49m, name\u001b[38;5;241m=\u001b[39m\u001b[38;5;124m'\u001b[39m\u001b[38;5;124mcountries\u001b[39m\u001b[38;5;124m'\u001b[39m)\n",
      "\u001b[1;31mNameError\u001b[0m: name 'result' is not defined"
     ]
    }
   ],
   "source": [
    "series = pd.Series(result, name='countries')"
   ]
  },
  {
   "cell_type": "code",
   "execution_count": 26,
   "id": "7f3a3c90",
   "metadata": {},
   "outputs": [
    {
     "ename": "NameError",
     "evalue": "name 'series' is not defined",
     "output_type": "error",
     "traceback": [
      "\u001b[1;31m---------------------------------------------------------------------------\u001b[0m",
      "\u001b[1;31mNameError\u001b[0m                                 Traceback (most recent call last)",
      "Input \u001b[1;32mIn [26]\u001b[0m, in \u001b[0;36m<cell line: 2>\u001b[1;34m()\u001b[0m\n\u001b[0;32m      1\u001b[0m plt\u001b[38;5;241m.\u001b[39mfigure(figsize\u001b[38;5;241m=\u001b[39m(\u001b[38;5;241m15\u001b[39m,\u001b[38;5;241m10\u001b[39m))\n\u001b[1;32m----> 2\u001b[0m sns\u001b[38;5;241m.\u001b[39mbarplot(x\u001b[38;5;241m=\u001b[39m\u001b[43mseries\u001b[49m\u001b[38;5;241m.\u001b[39mindex, y\u001b[38;5;241m=\u001b[39mseries\u001b[38;5;241m.\u001b[39mvalues)\n\u001b[0;32m      3\u001b[0m plt\u001b[38;5;241m.\u001b[39mshow()\n",
      "\u001b[1;31mNameError\u001b[0m: name 'series' is not defined"
     ]
    },
    {
     "data": {
      "text/plain": [
       "<Figure size 1080x720 with 0 Axes>"
      ]
     },
     "metadata": {},
     "output_type": "display_data"
    }
   ],
   "source": [
    "plt.figure(figsize=(15,10))\n",
    "sns.barplot(x=series.index, y=series.values)\n",
    "plt.show()"
   ]
  },
  {
   "cell_type": "code",
   "execution_count": 27,
   "id": "23241c24",
   "metadata": {},
   "outputs": [
    {
     "ename": "NameError",
     "evalue": "name 'sc' is not defined",
     "output_type": "error",
     "traceback": [
      "\u001b[1;31m---------------------------------------------------------------------------\u001b[0m",
      "\u001b[1;31mNameError\u001b[0m                                 Traceback (most recent call last)",
      "Input \u001b[1;32mIn [27]\u001b[0m, in \u001b[0;36m<cell line: 1>\u001b[1;34m()\u001b[0m\n\u001b[1;32m----> 1\u001b[0m \u001b[43msc\u001b[49m\u001b[38;5;241m.\u001b[39mstop()\n",
      "\u001b[1;31mNameError\u001b[0m: name 'sc' is not defined"
     ]
    }
   ],
   "source": [
    "sc.stop()"
   ]
  }
 ],
 "metadata": {
  "kernelspec": {
   "display_name": "Python 3 (ipykernel)",
   "language": "python",
   "name": "python3"
  },
  "language_info": {
   "codemirror_mode": {
    "name": "ipython",
    "version": 3
   },
   "file_extension": ".py",
   "mimetype": "text/x-python",
   "name": "python",
   "nbconvert_exporter": "python",
   "pygments_lexer": "ipython3",
   "version": "3.9.13"
  }
 },
 "nbformat": 4,
 "nbformat_minor": 5
}
