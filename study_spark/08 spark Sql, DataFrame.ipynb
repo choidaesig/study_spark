{
 "cells": [
  {
   "cell_type": "code",
   "execution_count": 1,
   "id": "319ba026",
   "metadata": {},
   "outputs": [],
   "source": [
    "from pyspark import SparkConf, SparkContext\n",
    "conf=SparkConf().setMaster(\"local\").setAppName(\"spark_sql_basic\")\n",
    "sc=SparkContext(conf=conf)"
   ]
  },
  {
   "cell_type": "markdown",
   "id": "eb732c66",
   "metadata": {},
   "source": [
    "# RDD만을 이용한 데이터 추출"
   ]
  },
  {
   "cell_type": "code",
   "execution_count": 8,
   "id": "0a2a9641",
   "metadata": {},
   "outputs": [],
   "source": [
    "movies_rdd=sc.parallelize([\n",
    "    (1, (\"어벤져스\", \"마블\")),(2, (\"슈퍼맨\", \"디씨\")),  (3, (\"배트맨\", \"디씨\"))\n",
    "    ,  (4, (\"겨울왕국\", \"디지니\")),  (5, (\"아이언맨\", \"마블\"))\n",
    "])\n",
    "attendances_rdd = sc.parallelize([\n",
    "    (1,(13433958,\"KR\")),\n",
    "    (2,(1534958,\"KR\")),\n",
    "    (3,(13894958,\"KR\")),\n",
    "    (4,(13158,\"KR\")),\n",
    "    (5,(12958,\"KR\")),\n",
    "\n",
    "])"
   ]
  },
  {
   "cell_type": "markdown",
   "id": "1c868a91",
   "metadata": {},
   "source": [
    "마블 영화 중 관객 수가 500만 이상인 영화 가져오기\n",
    "1) inner join -> filter by movie -> filter by attendacne\n",
    "2) filter by movie, filter by attendance -> inner join"
   ]
  },
  {
   "cell_type": "code",
   "execution_count": 9,
   "id": "93ad874e",
   "metadata": {},
   "outputs": [
    {
     "data": {
      "text/plain": [
       "[(1, (('어벤져스', '마블'), (13433958, 'KR')))]"
      ]
     },
     "execution_count": 9,
     "metadata": {},
     "output_type": "execute_result"
    }
   ],
   "source": [
    "#case 1 join 먼저  filter 나중\n",
    "movie_att = movies_rdd.join(attendances_rdd)\n",
    "movie_att.filter(\n",
    "    lambda x: x[1][0][1] == \"마블\"and x[1][1][0]>5000000\n",
    "    ).collect()"
   ]
  },
  {
   "cell_type": "code",
   "execution_count": 14,
   "id": "a2806d70",
   "metadata": {},
   "outputs": [
    {
     "data": {
      "text/plain": [
       "[(1, (('어벤져스', '마블'), (13433958, 'KR')))]"
      ]
     },
     "execution_count": 14,
     "metadata": {},
     "output_type": "execute_result"
    }
   ],
   "source": [
    "#case 2, filter 먼저 join 나중에\n",
    "filtered_movies= movies_rdd.filter(lambda x : x[1][1]==\"마블\")\n",
    "filtered_att = attendances_rdd.filter(lambda x : x[1][0] > 5000000)\n",
    "\n",
    "filtered_movies.join(filtered_att).collect()"
   ]
  },
  {
   "cell_type": "markdown",
   "id": "7b91dcc5",
   "metadata": {},
   "source": [
    "동일한 결과지만 필터를 먼저 수행해서 가져올 데이터를 걸러낸 다음 조인하는 case2가 훨씬 효율적이다"
   ]
  },
  {
   "cell_type": "markdown",
   "id": "9546d503",
   "metadata": {},
   "source": [
    "# Spark SQL 사용해보기\n",
    "\n",
    "1. SparkSession  만들기\n",
    "    Sparkcontext에 해당하며, 새로운 스파크 어플리케이션을 생성"
   ]
  },
  {
   "cell_type": "code",
   "execution_count": 21,
   "id": "c0f65f4c",
   "metadata": {},
   "outputs": [],
   "source": [
    "from pyspark.sql import SparkSession\n",
    "spark = SparkSession .builder.master(\"local\").appName(\"spark-sql\").getOrCreate()"
   ]
  },
  {
   "cell_type": "code",
   "execution_count": 26,
   "id": "8f77ed40",
   "metadata": {},
   "outputs": [],
   "source": [
    "movies=([\n",
    "    (1, \"어벤져스\", \"마블\",2012),(2, \"슈퍼맨\", \"디씨\",2013),  (3, \"배트맨\", \"디씨\",2008)\n",
    "    ,  (4, \"겨울왕국\", \"디지니\",2014),  (5,\"아이언맨\", \"마블\",2008)\n",
    "])"
   ]
  },
  {
   "cell_type": "code",
   "execution_count": 27,
   "id": "edb3c09b",
   "metadata": {},
   "outputs": [],
   "source": [
    "movie_schema=[\"id\",\"name\",\"company\",\"year\"]"
   ]
  },
  {
   "cell_type": "markdown",
   "id": "25e2ae27",
   "metadata": {},
   "source": [
    "데이터 프레임 확인하기"
   ]
  },
  {
   "cell_type": "code",
   "execution_count": 28,
   "id": "fda96516",
   "metadata": {},
   "outputs": [],
   "source": [
    "df=spark.createDataFrame(data=movies, schema=movie_schema)"
   ]
  },
  {
   "cell_type": "code",
   "execution_count": 29,
   "id": "fc145139",
   "metadata": {
    "scrolled": true
   },
   "outputs": [
    {
     "data": {
      "text/plain": [
       "[('id', 'bigint'),\n",
       " ('name', 'string'),\n",
       " ('company', 'string'),\n",
       " ('year', 'bigint')]"
      ]
     },
     "execution_count": 29,
     "metadata": {},
     "output_type": "execute_result"
    }
   ],
   "source": [
    "# 스키마 타입 확인\n",
    "df.dtypes"
   ]
  },
  {
   "cell_type": "code",
   "execution_count": 30,
   "id": "df8b3222",
   "metadata": {},
   "outputs": [
    {
     "name": "stdout",
     "output_type": "stream",
     "text": [
      "+---+--------+-------+----+\n",
      "| id|    name|company|year|\n",
      "+---+--------+-------+----+\n",
      "|  1|어벤져스|   마블|2012|\n",
      "|  2|  슈퍼맨|   디씨|2013|\n",
      "|  3|  배트맨|   디씨|2008|\n",
      "|  4|겨울왕국| 디지니|2014|\n",
      "|  5|아이언맨|   마블|2008|\n",
      "+---+--------+-------+----+\n",
      "\n"
     ]
    }
   ],
   "source": [
    "df.show()"
   ]
  },
  {
   "cell_type": "code",
   "execution_count": 31,
   "id": "6cde9e77",
   "metadata": {},
   "outputs": [],
   "source": [
    "df.createOrReplaceTempView(\"movies\")"
   ]
  },
  {
   "cell_type": "code",
   "execution_count": 32,
   "id": "d5ba6c3f",
   "metadata": {},
   "outputs": [
    {
     "name": "stdout",
     "output_type": "stream",
     "text": [
      "+--------+\n",
      "|    name|\n",
      "+--------+\n",
      "|어벤져스|\n",
      "|  슈퍼맨|\n",
      "|  배트맨|\n",
      "|겨울왕국|\n",
      "|아이언맨|\n",
      "+--------+\n",
      "\n"
     ]
    }
   ],
   "source": [
    "query=\"\"\"\n",
    "\n",
    "    SELECT name\n",
    "    FROM movies\n",
    "\n",
    "\"\"\"\n",
    "spark.sql(query).show()\n"
   ]
  },
  {
   "cell_type": "code",
   "execution_count": 33,
   "id": "f68ea288",
   "metadata": {},
   "outputs": [
    {
     "name": "stdout",
     "output_type": "stream",
     "text": [
      "+---+--------+-------+----+\n",
      "| id|    name|company|year|\n",
      "+---+--------+-------+----+\n",
      "|  1|어벤져스|   마블|2012|\n",
      "|  2|  슈퍼맨|   디씨|2013|\n",
      "|  3|  배트맨|   디씨|2008|\n",
      "|  4|겨울왕국| 디지니|2014|\n",
      "|  5|아이언맨|   마블|2008|\n",
      "+---+--------+-------+----+\n",
      "\n"
     ]
    }
   ],
   "source": [
    "query=\"\"\"\n",
    "\n",
    "    SELECT *\n",
    "    FROM movies\n",
    "\n",
    "\"\"\"\n",
    "spark.sql(query).show()"
   ]
  },
  {
   "cell_type": "code",
   "execution_count": null,
   "id": "5435ca2e",
   "metadata": {},
   "outputs": [],
   "source": [
    "#2012 년 이전에 개봉한 영화의 이름과 회사를 출력"
   ]
  },
  {
   "cell_type": "code",
   "execution_count": 34,
   "id": "2f4bc7bc",
   "metadata": {},
   "outputs": [
    {
     "name": "stdout",
     "output_type": "stream",
     "text": [
      "+--------+-------+\n",
      "|    name|company|\n",
      "+--------+-------+\n",
      "|  배트맨|   디씨|\n",
      "|아이언맨|   마블|\n",
      "+--------+-------+\n",
      "\n"
     ]
    }
   ],
   "source": [
    "query=\"\"\"\n",
    "\n",
    " SELECT name,  company\n",
    " FROM movies\n",
    " where year<2012\n",
    " \n",
    "\"\"\"\n",
    "spark.sql(query).show()"
   ]
  },
  {
   "cell_type": "code",
   "execution_count": 36,
   "id": "40d90b26",
   "metadata": {},
   "outputs": [
    {
     "name": "stdout",
     "output_type": "stream",
     "text": [
      "+---+--------+-------+----+\n",
      "| id|    name|company|year|\n",
      "+---+--------+-------+----+\n",
      "|  2|  슈퍼맨|   디씨|2013|\n",
      "|  3|  배트맨|   디씨|2008|\n",
      "|  5|아이언맨|   마블|2008|\n",
      "+---+--------+-------+----+\n",
      "\n"
     ]
    }
   ],
   "source": [
    "#like 문자열 데이터에서 특정 단어나 문장을 포함한 데이터를 찾을 때 사용\n",
    "# % 기호를 사용해서 문장이 매칭되는지 확인 가능\n",
    "\n",
    "#제목이 ~맨으로 끝나는 모든 데이터 출력\n",
    "\n",
    "query=\"\"\"\n",
    "\n",
    " SELECT *\n",
    " FROM movies\n",
    " where name LIKE '%맨'\n",
    " \n",
    "\"\"\"\n",
    "spark.sql(query).show()"
   ]
  },
  {
   "cell_type": "code",
   "execution_count": 37,
   "id": "990b8b2e",
   "metadata": {},
   "outputs": [
    {
     "name": "stdout",
     "output_type": "stream",
     "text": [
      "+---+--------+-------+----+\n",
      "| id|    name|company|year|\n",
      "+---+--------+-------+----+\n",
      "|  5|아이언맨|   마블|2008|\n",
      "+---+--------+-------+----+\n",
      "\n"
     ]
    }
   ],
   "source": [
    "#'이'가 들어간 영화찾기\n",
    "\n",
    "query=\"\"\"\n",
    "\n",
    " SELECT *\n",
    " FROM movies\n",
    " where name LIKE '%이%'\n",
    " \n",
    "\"\"\"\n",
    "spark.sql(query).show()"
   ]
  },
  {
   "cell_type": "code",
   "execution_count": 40,
   "id": "47e24348",
   "metadata": {},
   "outputs": [
    {
     "name": "stdout",
     "output_type": "stream",
     "text": [
      "+---+--------+-------+----+\n",
      "| id|    name|company|year|\n",
      "+---+--------+-------+----+\n",
      "|  1|어벤져스|   마블|2012|\n",
      "|  2|  슈퍼맨|   디씨|2013|\n",
      "|  4|겨울왕국| 디지니|2014|\n",
      "+---+--------+-------+----+\n",
      "\n"
     ]
    }
   ],
   "source": [
    "# BETWEEN 특정 데이터와 데이터 사이를 조회\n",
    "\n",
    "#개봉월이 4월~8월 사이 출력\n",
    "\n",
    "\n",
    "query=\"\"\"\n",
    "\n",
    "     -SELECT *\n",
    " FROM movies\n",
    " where YEAR BETWEEN 2010 AND 2018\n",
    " \n",
    "\"\"\"\n",
    "spark.sql(query).show()"
   ]
  },
  {
   "cell_type": "code",
   "execution_count": 43,
   "id": "c49d0b6d",
   "metadata": {},
   "outputs": [
    {
     "name": "stdout",
     "output_type": "stream",
     "text": [
      "+---+------+-------+----+\n",
      "| id|  name|company|year|\n",
      "+---+------+-------+----+\n",
      "|  2|슈퍼맨|   디씨|2013|\n",
      "+---+------+-------+----+\n",
      "\n"
     ]
    }
   ],
   "source": [
    "#AND연산\n",
    "\n",
    "query=\"\"\"\n",
    "\n",
    "SELECT *\n",
    " FROM movies\n",
    " where name LIKE\"%맨\" AND year >= 2012\n",
    " \n",
    "\"\"\"\n",
    "spark.sql(query).show()"
   ]
  },
  {
   "cell_type": "code",
   "execution_count": 46,
   "id": "d495a868",
   "metadata": {},
   "outputs": [
    {
     "name": "stdout",
     "output_type": "stream",
     "text": [
      "+---+--------+-------+----+\n",
      "| id|    name|company|year|\n",
      "+---+--------+-------+----+\n",
      "|  1|어벤져스|   마블|2012|\n",
      "|  2|  슈퍼맨|   디씨|2013|\n",
      "|  3|  배트맨|   디씨|2008|\n",
      "|  5|아이언맨|   마블|2008|\n",
      "+---+--------+-------+----+\n",
      "\n"
     ]
    }
   ],
   "source": [
    "# in 연산 활용\n",
    "# 컬럼명 in(값1, 값2,,,)\n",
    "\n",
    "query=\"\"\"\n",
    "\n",
    "SELECT *\n",
    " FROM movies\n",
    " where company in ('마블','디씨')\n",
    " \n",
    "\"\"\"\n",
    "spark.sql(query).show()"
   ]
  },
  {
   "cell_type": "code",
   "execution_count": 47,
   "id": "222204c5",
   "metadata": {},
   "outputs": [
    {
     "name": "stdout",
     "output_type": "stream",
     "text": [
      "+---+--------+-------+----+\n",
      "| id|    name|company|year|\n",
      "+---+--------+-------+----+\n",
      "|  1|어벤져스|   마블|2012|\n",
      "|  5|아이언맨|   마블|2008|\n",
      "+---+--------+-------+----+\n",
      "\n"
     ]
    }
   ],
   "source": [
    "#회사가 '마'로 시작을 하거나 , '즈'로 끝나는 영화\n",
    "\n",
    "query=\"\"\"\n",
    "\n",
    "SELECT *\n",
    " FROM movies\n",
    " where company LIKE '마%' OR company LIKE '%즈'\n",
    " \n",
    "\"\"\"\n",
    "spark.sql(query).show()"
   ]
  },
  {
   "cell_type": "markdown",
   "id": "2e39da08",
   "metadata": {},
   "source": [
    "'ORDER BY'절 : 정렬\n",
    "\n",
    "- ASC: 오르차순\n",
    "- DESC: 내림차순\n"
   ]
  },
  {
   "cell_type": "code",
   "execution_count": 49,
   "id": "7d10691c",
   "metadata": {},
   "outputs": [
    {
     "name": "stdout",
     "output_type": "stream",
     "text": [
      "+---+--------+-------+----+\n",
      "| id|    name|company|year|\n",
      "+---+--------+-------+----+\n",
      "|  4|겨울왕국| 디지니|2014|\n",
      "|  2|  슈퍼맨|   디씨|2013|\n",
      "|  1|어벤져스|   마블|2012|\n",
      "|  3|  배트맨|   디씨|2008|\n",
      "|  5|아이언맨|   마블|2008|\n",
      "+---+--------+-------+----+\n",
      "\n"
     ]
    }
   ],
   "source": [
    "query=\"\"\"\n",
    "\n",
    "SELECT *\n",
    " FROM movies\n",
    " ORDER BY year desc\n",
    " \n",
    "\"\"\"\n",
    "spark.sql(query).show()"
   ]
  },
  {
   "cell_type": "code",
   "execution_count": 50,
   "id": "e92d103a",
   "metadata": {},
   "outputs": [
    {
     "name": "stdout",
     "output_type": "stream",
     "text": [
      "+---+--------+-------+----+\n",
      "| id|    name|company|year|\n",
      "+---+--------+-------+----+\n",
      "|  3|  배트맨|   디씨|2008|\n",
      "|  5|아이언맨|   마블|2008|\n",
      "|  1|어벤져스|   마블|2012|\n",
      "|  2|  슈퍼맨|   디씨|2013|\n",
      "|  4|겨울왕국| 디지니|2014|\n",
      "+---+--------+-------+----+\n",
      "\n"
     ]
    }
   ],
   "source": [
    "query=\"\"\"\n",
    "\n",
    "SELECT *\n",
    " FROM movies\n",
    " ORDER BY year asc\n",
    " \n",
    "\"\"\"\n",
    "spark.sql(query).show()"
   ]
  },
  {
   "cell_type": "markdown",
   "id": "da5bc4d7",
   "metadata": {},
   "source": [
    "- count : 개수 세기\n",
    "- mean : 평균 구하기\n",
    "- sum : 총합"
   ]
  },
  {
   "cell_type": "code",
   "execution_count": 53,
   "id": "de3b2053",
   "metadata": {},
   "outputs": [
    {
     "name": "stdout",
     "output_type": "stream",
     "text": [
      "+-----------+\n",
      "|movie_count|\n",
      "+-----------+\n",
      "|          5|\n",
      "+-----------+\n",
      "\n"
     ]
    }
   ],
   "source": [
    "query = \"\"\"\n",
    "SELECT count(*) as movie_count\n",
    "    FROM movies\n",
    "\n",
    "\"\"\"\n",
    "spark.sql(query).show()"
   ]
  },
  {
   "cell_type": "code",
   "execution_count": 55,
   "id": "cb92b428",
   "metadata": {},
   "outputs": [
    {
     "name": "stdout",
     "output_type": "stream",
     "text": [
      "+-----------+\n",
      "|movie_count|\n",
      "+-----------+\n",
      "|          2|\n",
      "+-----------+\n",
      "\n"
     ]
    }
   ],
   "source": [
    "query = \"\"\"\n",
    "SELECT count(*) as movie_count\n",
    "    FROM movies\n",
    "    WHERE company = \"디씨\"\n",
    "\n",
    "\"\"\"\n",
    "spark.sql(query).show()"
   ]
  },
  {
   "cell_type": "markdown",
   "id": "affce6cd",
   "metadata": {},
   "source": [
    "# Join 구현하기"
   ]
  },
  {
   "cell_type": "code",
   "execution_count": 72,
   "id": "82ce7fe4",
   "metadata": {},
   "outputs": [],
   "source": [
    "attendances=[\n",
    "    (1,13433958.,\"KR\"),\n",
    "    (2,1534958.,\"KR\"),\n",
    "    (3,13894958.,\"KR\"),\n",
    "    (4,13158.,\"KR\"),\n",
    "    (5,12958.,\"KR\")\n",
    "\n",
    "]"
   ]
  },
  {
   "cell_type": "markdown",
   "id": "af28803e",
   "metadata": {},
   "source": [
    "직접 스키마 지정해보기"
   ]
  },
  {
   "cell_type": "code",
   "execution_count": 73,
   "id": "b5cf20fb",
   "metadata": {},
   "outputs": [],
   "source": [
    "from pyspark.sql.types import StringType, FloatType, IntegerType, StructType, StructField"
   ]
  },
  {
   "cell_type": "code",
   "execution_count": 74,
   "id": "295a0467",
   "metadata": {},
   "outputs": [],
   "source": [
    "att_schema = StructType([  # 모든 컬럼의 타입을 통칭 - 컬럼 데이터의 집합\n",
    "    StructField(\"id\",IntegerType(),True), #StructField 컬럼\n",
    "    StructField(\"att\",FloatType(),True),\n",
    "    StructField(\"theater_country\",StringType(),True),\n",
    "    \n",
    "])"
   ]
  },
  {
   "cell_type": "code",
   "execution_count": 75,
   "id": "ddb144ce",
   "metadata": {},
   "outputs": [
    {
     "data": {
      "text/plain": [
       "[('id', 'int'), ('att', 'float'), ('theater_country', 'string')]"
      ]
     },
     "execution_count": 75,
     "metadata": {},
     "output_type": "execute_result"
    }
   ],
   "source": [
    "att_df = spark.createDataFrame(\n",
    "    data=attendances,\n",
    "    schema=att_schema\n",
    ")\n",
    "\n",
    "att_df.dtypes"
   ]
  },
  {
   "cell_type": "code",
   "execution_count": 76,
   "id": "1f74ce73",
   "metadata": {},
   "outputs": [],
   "source": [
    "att_df.createOrReplaceTempView(\"att\")"
   ]
  },
  {
   "cell_type": "code",
   "execution_count": 77,
   "id": "3c3a5c4b",
   "metadata": {},
   "outputs": [
    {
     "name": "stdout",
     "output_type": "stream",
     "text": [
      "+---+-----------+---------------+\n",
      "| id|        att|theater_country|\n",
      "+---+-----------+---------------+\n",
      "|  1|1.3433958E7|             KR|\n",
      "|  2|  1534958.0|             KR|\n",
      "|  3|1.3894958E7|             KR|\n",
      "|  4|    13158.0|             KR|\n",
      "|  5|    12958.0|             KR|\n",
      "+---+-----------+---------------+\n",
      "\n"
     ]
    }
   ],
   "source": [
    "#쿼리를 사용하지 않고 모든 데이터를 확인\n",
    "#DataFrame API를 사용\n",
    "att_df.select(\"*\").show()"
   ]
  },
  {
   "cell_type": "code",
   "execution_count": 84,
   "id": "054242a7",
   "metadata": {},
   "outputs": [
    {
     "name": "stdout",
     "output_type": "stream",
     "text": [
      "+---+--------+-------+-----------+\n",
      "| id|    name|company|        att|\n",
      "+---+--------+-------+-----------+\n",
      "|  1|어벤져스|   마블|1.3433958E7|\n",
      "|  2|  슈퍼맨|   디씨|  1534958.0|\n",
      "|  3|  배트맨|   디씨|1.3894958E7|\n",
      "|  4|겨울왕국| 디지니|    13158.0|\n",
      "|  5|아이언맨|   마블|    12958.0|\n",
      "+---+--------+-------+-----------+\n",
      "\n"
     ]
    }
   ],
   "source": [
    "query = \"\"\"\n",
    "SELECT movies.id, movies.name, movies.company, att.att\n",
    "    FROM movies\n",
    "    JOIN att ON movies.id=att.id\n",
    "\n",
    "\"\"\"\n",
    "\n",
    "spark.sql(query).show()"
   ]
  },
  {
   "cell_type": "markdown",
   "id": "1a5ba775",
   "metadata": {},
   "source": [
    "# 데이터 프레임 API"
   ]
  },
  {
   "cell_type": "code",
   "execution_count": 87,
   "id": "32992c9f",
   "metadata": {},
   "outputs": [
    {
     "data": {
      "text/plain": [
       "[Row(id=1, name='어벤져스', company='마블', year=2012),\n",
       " Row(id=2, name='슈퍼맨', company='디씨', year=2013),\n",
       " Row(id=3, name='배트맨', company='디씨', year=2008),\n",
       " Row(id=4, name='겨울왕국', company='디지니', year=2014),\n",
       " Row(id=5, name='아이언맨', company='마블', year=2008)]"
      ]
     },
     "execution_count": 87,
     "metadata": {},
     "output_type": "execute_result"
    }
   ],
   "source": [
    "#select\n",
    "#data frame api의 결과는 Transformations 작업이기 때문에 collect, show를 통해서 데이터를 확인\n",
    "df.select(\"*\").collect()"
   ]
  },
  {
   "cell_type": "code",
   "execution_count": 88,
   "id": "7b67defc",
   "metadata": {},
   "outputs": [
    {
     "data": {
      "text/plain": [
       "[Row(name='어벤져스', company='마블'),\n",
       " Row(name='슈퍼맨', company='디씨'),\n",
       " Row(name='배트맨', company='디씨'),\n",
       " Row(name='겨울왕국', company='디지니'),\n",
       " Row(name='아이언맨', company='마블')]"
      ]
     },
     "execution_count": 88,
     "metadata": {},
     "output_type": "execute_result"
    }
   ],
   "source": [
    "df.select(\"name\",\"company\").collect()"
   ]
  },
  {
   "cell_type": "code",
   "execution_count": 90,
   "id": "cfd9435c",
   "metadata": {},
   "outputs": [
    {
     "name": "stdout",
     "output_type": "stream",
     "text": [
      "+--------+----+\n",
      "|    name|year|\n",
      "+--------+----+\n",
      "|어벤져스|  12|\n",
      "|  슈퍼맨|  13|\n",
      "|  배트맨|   8|\n",
      "|겨울왕국|  14|\n",
      "|아이언맨|   8|\n",
      "+--------+----+\n",
      "\n"
     ]
    }
   ],
   "source": [
    "df.select(df.name,(df.year-2000).alias(\"year\")).show()"
   ]
  },
  {
   "cell_type": "code",
   "execution_count": 92,
   "id": "0dd37113",
   "metadata": {},
   "outputs": [
    {
     "data": {
      "text/plain": [
       "[Row(count(id)=5)]"
      ]
     },
     "execution_count": 92,
     "metadata": {},
     "output_type": "execute_result"
    }
   ],
   "source": [
    "#agg:Aggregate 의 약자로써, 그룹핑 후 데이터를 하나로 합쳐주는 역할\n",
    "\n",
    "df.agg({\"id\": \"count\"}).collect()"
   ]
  },
  {
   "cell_type": "code",
   "execution_count": 95,
   "id": "f46bf645",
   "metadata": {},
   "outputs": [
    {
     "data": {
      "text/plain": [
       "[Row(min(year)=2008)]"
      ]
     },
     "execution_count": 95,
     "metadata": {},
     "output_type": "execute_result"
    }
   ],
   "source": [
    "from pyspark.sql import functions as F\n",
    "df.agg(F.min(df.year)).collect()"
   ]
  },
  {
   "cell_type": "code",
   "execution_count": 96,
   "id": "4a56ca40",
   "metadata": {},
   "outputs": [
    {
     "data": {
      "text/plain": [
       "[Row(movie_count=0)]"
      ]
     },
     "execution_count": 96,
     "metadata": {},
     "output_type": "execute_result"
    }
   ],
   "source": [
    "query = \"\"\"\n",
    "SELECT count(*) as movie_count\n",
    "    FROM movies\n",
    "    WHERE company=\"DC\"\n",
    "\n",
    "\n",
    "\"\"\"\n",
    "\n",
    "spark.sql(query).collect()"
   ]
  },
  {
   "cell_type": "code",
   "execution_count": 97,
   "id": "8d258a92",
   "metadata": {},
   "outputs": [
    {
     "data": {
      "text/plain": [
       "[Row(avg(id)=3.0, avg(year)=2011.0)]"
      ]
     },
     "execution_count": 97,
     "metadata": {},
     "output_type": "execute_result"
    }
   ],
   "source": [
    "df.groupBy().avg().collect()"
   ]
  },
  {
   "cell_type": "code",
   "execution_count": 101,
   "id": "7e031cfb",
   "metadata": {},
   "outputs": [
    {
     "data": {
      "text/plain": [
       "[Row(name='어벤져스', company='마블', year=2012),\n",
       " Row(name='아이언맨', company='마블', year=2008)]"
      ]
     },
     "execution_count": 101,
     "metadata": {},
     "output_type": "execute_result"
    }
   ],
   "source": [
    "#select, where, orderBy 절 사용\n",
    "marvel_df = df.select(\"name\",\"company\",\"year\").where(\"company=='마블'\").orderBy(\"id\")\n",
    "marvel_df.collect() "
   ]
  },
  {
   "cell_type": "code",
   "execution_count": 102,
   "id": "ee26a8f4",
   "metadata": {},
   "outputs": [],
   "source": [
    "sc.stop()"
   ]
  },
  {
   "cell_type": "code",
   "execution_count": null,
   "id": "3ba66809",
   "metadata": {},
   "outputs": [],
   "source": []
  },
  {
   "cell_type": "code",
   "execution_count": null,
   "id": "02f18e28",
   "metadata": {},
   "outputs": [],
   "source": []
  },
  {
   "cell_type": "code",
   "execution_count": null,
   "id": "2d4e762b",
   "metadata": {},
   "outputs": [],
   "source": []
  },
  {
   "cell_type": "code",
   "execution_count": null,
   "id": "5e3e5afe",
   "metadata": {},
   "outputs": [],
   "source": []
  },
  {
   "cell_type": "code",
   "execution_count": null,
   "id": "d249f43f",
   "metadata": {},
   "outputs": [],
   "source": []
  },
  {
   "cell_type": "code",
   "execution_count": null,
   "id": "207d2d8c",
   "metadata": {},
   "outputs": [],
   "source": []
  }
 ],
 "metadata": {
  "kernelspec": {
   "display_name": "Python 3 (ipykernel)",
   "language": "python",
   "name": "python3"
  },
  "language_info": {
   "codemirror_mode": {
    "name": "ipython",
    "version": 3
   },
   "file_extension": ".py",
   "mimetype": "text/x-python",
   "name": "python",
   "nbconvert_exporter": "python",
   "pygments_lexer": "ipython3",
   "version": "3.9.13"
  }
 },
 "nbformat": 4,
 "nbformat_minor": 5
}
