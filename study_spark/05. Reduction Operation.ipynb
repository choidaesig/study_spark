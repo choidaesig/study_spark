{
 "cells": [
  {
   "cell_type": "code",
   "execution_count": 1,
   "id": "978f75eb",
   "metadata": {},
   "outputs": [],
   "source": [
    "from pyspark import SparkConf, SparkContext"
   ]
  },
  {
   "cell_type": "code",
   "execution_count": 3,
   "id": "dcaeb3a2",
   "metadata": {},
   "outputs": [],
   "source": [
    "conf=SparkConf().setMaster(\"local\").setAppName(\"reduction-op\")\n",
    "sc=SparkContext(conf=conf)"
   ]
  },
  {
   "cell_type": "markdown",
   "id": "ec64ca16",
   "metadata": {},
   "source": [
    "# Reduce\n",
    "-'Rdd.reduce(<func>)\n",
    "- 사용자가 지정하는 함수르 받아 여러개의 값을 하나로 줄여준다."
   ]
  },
  {
   "cell_type": "code",
   "execution_count": 4,
   "id": "a774a7b1",
   "metadata": {},
   "outputs": [],
   "source": [
    "from operator import add"
   ]
  },
  {
   "cell_type": "code",
   "execution_count": 5,
   "id": "e7be5ae7",
   "metadata": {},
   "outputs": [
    {
     "data": {
      "text/plain": [
       "ParallelCollectionRDD[0] at readRDDFromFile at PythonRDD.scala:274"
      ]
     },
     "execution_count": 5,
     "metadata": {},
     "output_type": "execute_result"
    }
   ],
   "source": [
    "sample_rdd = sc.parallelize([1,2,3,4])\n",
    "sample_rdd"
   ]
  },
  {
   "cell_type": "code",
   "execution_count": 6,
   "id": "0cd3e354",
   "metadata": {},
   "outputs": [
    {
     "data": {
      "text/plain": [
       "10"
      ]
     },
     "execution_count": 6,
     "metadata": {},
     "output_type": "execute_result"
    }
   ],
   "source": [
    "sample_rdd.reduce(add)"
   ]
  },
  {
   "cell_type": "markdown",
   "id": "40860b26",
   "metadata": {},
   "source": [
    "파이션에 따라 결과물이 달라진다\n",
    "   - 분산된 파티션들의 연산과 합치는 부분을 나눠서 생각해야 한다."
   ]
  },
  {
   "cell_type": "code",
   "execution_count": 7,
   "id": "67656425",
   "metadata": {},
   "outputs": [
    {
     "data": {
      "text/plain": [
       "26"
      ]
     },
     "execution_count": 7,
     "metadata": {},
     "output_type": "execute_result"
    }
   ],
   "source": [
    "sample_rdd= sc.parallelize([1,2,3,4])\n",
    "sample_rdd.reduce(lambda x, y : (x*2)+y)"
   ]
  },
  {
   "cell_type": "code",
   "execution_count": 8,
   "id": "f51deeef",
   "metadata": {},
   "outputs": [
    {
     "data": {
      "text/plain": [
       "26"
      ]
     },
     "execution_count": 8,
     "metadata": {},
     "output_type": "execute_result"
    }
   ],
   "source": [
    "#파티션을 1개로 지정\n",
    "sc.parallelize([1,2,3,4],1).reduce(lambda x,y : (x*2)+y)"
   ]
  },
  {
   "cell_type": "code",
   "execution_count": 9,
   "id": "2bf140d2",
   "metadata": {},
   "outputs": [
    {
     "data": {
      "text/plain": [
       "18"
      ]
     },
     "execution_count": 9,
     "metadata": {},
     "output_type": "execute_result"
    }
   ],
   "source": [
    "#파티션을 2개로 지정 1,2 / 3,4로 나눠짐\n",
    "sc.parallelize([1,2,3,4],2).reduce(lambda x,y : (x*2)+y)"
   ]
  },
  {
   "cell_type": "code",
   "execution_count": 10,
   "id": "5dbdf498",
   "metadata": {},
   "outputs": [
    {
     "data": {
      "text/plain": [
       "18"
      ]
     },
     "execution_count": 10,
     "metadata": {},
     "output_type": "execute_result"
    }
   ],
   "source": [
    "#파티션을 3개로 지정 3개일 경우는 reduce안된다. 1 | 2 | 3,4 로 나눠짐.\n",
    "sc.parallelize([1,2,3,4],3).reduce(lambda x,y : (x*2)+y)"
   ]
  },
  {
   "cell_type": "markdown",
   "id": "c3e49923",
   "metadata": {},
   "source": [
    "파티션에 데이터가 하나만 있으면 reduce가 안된다."
   ]
  },
  {
   "cell_type": "code",
   "execution_count": 11,
   "id": "d9422147",
   "metadata": {},
   "outputs": [
    {
     "data": {
      "text/plain": [
       "26"
      ]
     },
     "execution_count": 11,
     "metadata": {},
     "output_type": "execute_result"
    }
   ],
   "source": [
    "#파티션을 4로 지정 \n",
    "sc.parallelize([1,2,3,4],4).reduce(lambda x,y : (x*2)+y)"
   ]
  },
  {
   "cell_type": "markdown",
   "id": "f762a875",
   "metadata": {},
   "source": [
    "# Fold\n",
    "    -RDD.Fold(zoroValue,<func>)\n",
    "    -reduce와 비슷하지만 zeroValue에 넣어놓고 싶은 시작값을 지정해서 reduce가 가능\n",
    "        -zeroValue는 파티션마다 계산이 일어날 때 하니씩 더해지는 값"
   ]
  },
  {
   "cell_type": "code",
   "execution_count": 12,
   "id": "a2b13922",
   "metadata": {},
   "outputs": [
    {
     "name": "stdout",
     "output_type": "stream",
     "text": [
      "24\n",
      "24\n"
     ]
    }
   ],
   "source": [
    "rdd= sc.parallelize([2,3,4],4)\n",
    "\n",
    "print(rdd.reduce(lambda x,y : (x*y))) #2*3 -> *4\n",
    "print(rdd.fold(1,lambda x,y : (x*y))) #1*2*3*4"
   ]
  },
  {
   "cell_type": "code",
   "execution_count": 13,
   "id": "0447c112",
   "metadata": {},
   "outputs": [
    {
     "name": "stdout",
     "output_type": "stream",
     "text": [
      "9\n",
      "14\n"
     ]
    }
   ],
   "source": [
    "print(rdd.reduce(lambda x,y : (x+y))) # 2+3+4\n",
    "print(rdd.fold(1,lambda x,y : (x+y))) # 1+2+3+4이 아님 fold는 시작값은 파티션마다 부여해서 (1+1) + (2+1) + (3+1) + (4+1)"
   ]
  },
  {
   "cell_type": "markdown",
   "id": "cdafe7a6",
   "metadata": {},
   "source": [
    "# GroupBy\n",
    "-RDD.groupBy(<func>)\n",
    "-그룹핑 함수를 받아 reduction"
   ]
  },
  {
   "cell_type": "code",
   "execution_count": 14,
   "id": "fbeb2fb6",
   "metadata": {},
   "outputs": [
    {
     "data": {
      "text/plain": [
       "[(0, [2, 8]), (1, [1, 1, 3, 5])]"
      ]
     },
     "execution_count": 14,
     "metadata": {},
     "output_type": "execute_result"
    }
   ],
   "source": [
    "rdd=sc.parallelize([1,1,2,3,5,8])\n",
    "result = rdd.groupBy(lambda x : x % 2).collect()\n",
    "\n",
    "sorted([(x,sorted(y)) for (x,y) in result])"
   ]
  },
  {
   "cell_type": "markdown",
   "id": "e8d1b664",
   "metadata": {},
   "source": [
    "# Aggregate(Action)\n",
    "-RDD.aggregate(zeroValue, seq0p, comb0p)\n",
    "    -zeroValue : 각 파티션에서 누적할 시작 값\n",
    "    -seqOp :타입 변경 함수\n",
    "        -파티션 내에서 벌어지는 연산을 담당\n",
    "    -combOp : 모든 결과를 하나로 합쳐주는 연산을 담당\n",
    "-파티션 단위의 연산 결과를 합쳐주는 과정을 거치게 된다."
   ]
  },
  {
   "cell_type": "code",
   "execution_count": 15,
   "id": "60cc043f",
   "metadata": {},
   "outputs": [
    {
     "ename": "NameError",
     "evalue": "name 'seq0p' is not defined",
     "output_type": "error",
     "traceback": [
      "\u001b[1;31m---------------------------------------------------------------------------\u001b[0m",
      "\u001b[1;31mNameError\u001b[0m                                 Traceback (most recent call last)",
      "Input \u001b[1;32mIn [15]\u001b[0m, in \u001b[0;36m<cell line: 6>\u001b[1;34m()\u001b[0m\n\u001b[0;32m      3\u001b[0m seqOp \u001b[38;5;241m=\u001b[39m \u001b[38;5;28;01mlambda\u001b[39;00m x,y : (x[\u001b[38;5;241m0\u001b[39m]\u001b[38;5;241m+\u001b[39my,x[\u001b[38;5;241m1\u001b[39m]\u001b[38;5;241m+\u001b[39m\u001b[38;5;241m1\u001b[39m) \u001b[38;5;66;03m#파티션 내의 연산\u001b[39;00m\n\u001b[0;32m      4\u001b[0m combOp \u001b[38;5;241m=\u001b[39m (\u001b[38;5;28;01mlambda\u001b[39;00m x,y : (x[\u001b[38;5;241m0\u001b[39m]\u001b[38;5;241m+\u001b[39my[\u001b[38;5;241m0\u001b[39m],x[\u001b[38;5;241m1\u001b[39m]\u001b[38;5;241m+\u001b[39my[\u001b[38;5;241m1\u001b[39m])) \u001b[38;5;66;03m#파티션의 모든 결과를 최종 연산\u001b[39;00m\n\u001b[1;32m----> 6\u001b[0m \u001b[38;5;28mprint\u001b[39m(rdd\u001b[38;5;241m.\u001b[39maggregate((\u001b[38;5;241m0\u001b[39m,\u001b[38;5;241m0\u001b[39m),\u001b[43mseq0p\u001b[49m,comb0p))\n",
      "\u001b[1;31mNameError\u001b[0m: name 'seq0p' is not defined"
     ]
    }
   ],
   "source": [
    "rdd=sc.parallelize([1,2,3,4],2)\n",
    "\n",
    "seqOp = lambda x,y : (x[0]+y,x[1]+1) #파티션 내의 연산\n",
    "combOp = (lambda x,y : (x[0]+y[0],x[1]+y[1])) #파티션의 모든 결과를 최종 연산\n",
    "\n",
    "print(rdd.aggregate((0,0),seq0p,comb0p))"
   ]
  },
  {
   "cell_type": "code",
   "execution_count": null,
   "id": "2582e5f9",
   "metadata": {},
   "outputs": [],
   "source": [
    "sc.stop()"
   ]
  },
  {
   "cell_type": "code",
   "execution_count": null,
   "id": "fc74b1ab",
   "metadata": {},
   "outputs": [],
   "source": []
  },
  {
   "cell_type": "code",
   "execution_count": null,
   "id": "58cd652f",
   "metadata": {},
   "outputs": [],
   "source": []
  },
  {
   "cell_type": "code",
   "execution_count": null,
   "id": "b86e1431",
   "metadata": {},
   "outputs": [],
   "source": []
  },
  {
   "cell_type": "code",
   "execution_count": null,
   "id": "80ae1e15",
   "metadata": {},
   "outputs": [],
   "source": []
  },
  {
   "cell_type": "code",
   "execution_count": null,
   "id": "5a97b323",
   "metadata": {},
   "outputs": [],
   "source": []
  },
  {
   "cell_type": "code",
   "execution_count": null,
   "id": "ed9fbad9",
   "metadata": {},
   "outputs": [],
   "source": []
  }
 ],
 "metadata": {
  "kernelspec": {
   "display_name": "Python 3 (ipykernel)",
   "language": "python",
   "name": "python3"
  },
  "language_info": {
   "codemirror_mode": {
    "name": "ipython",
    "version": 3
   },
   "file_extension": ".py",
   "mimetype": "text/x-python",
   "name": "python",
   "nbconvert_exporter": "python",
   "pygments_lexer": "ipython3",
   "version": "3.9.13"
  }
 },
 "nbformat": 4,
 "nbformat_minor": 5
}
