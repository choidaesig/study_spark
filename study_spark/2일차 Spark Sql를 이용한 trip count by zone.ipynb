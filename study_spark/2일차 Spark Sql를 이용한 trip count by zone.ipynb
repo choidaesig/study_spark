{
 "cells": [
  {
   "cell_type": "code",
   "execution_count": 19,
   "id": "32bd9b0d",
   "metadata": {},
   "outputs": [],
   "source": [
    "directory=\"C:\\\\Users\\\\daesi\\\\Downloads\\\\빅데이터 소스코드\\\\소스코드\\\\study_spark\\\\data\"\n",
    "trip_file = \"fhvhv_tripdata_2020-03.csv\"\n",
    "zone_file = \"taxi+_zone_lookup.csv\""
   ]
  },
  {
   "cell_type": "code",
   "execution_count": 20,
   "id": "fcf4f16e",
   "metadata": {},
   "outputs": [],
   "source": [
    "from pyspark.sql import SparkSession\n",
    "\n",
    "spark = SparkSession.builder.appName(\"trip_count_sql\").getOrCreate()"
   ]
  },
  {
   "cell_type": "code",
   "execution_count": 21,
   "id": "1f69b442",
   "metadata": {},
   "outputs": [],
   "source": [
    "trip_data = spark.read.csv(f\"file:///{directory}\\\\{trip_file}\", inferSchema=True, header=True)\n",
    "zone_data = spark.read.csv(f\"file:///{directory}\\\\{zone_file}\", inferSchema=True, header=True)"
   ]
  },
  {
   "cell_type": "code",
   "execution_count": 22,
   "id": "06682b53",
   "metadata": {},
   "outputs": [
    {
     "name": "stdout",
     "output_type": "stream",
     "text": [
      "+-----------------+--------------------+-------------------+-------------------+------------+------------+-------+\n",
      "|hvfhs_license_num|dispatching_base_num|    pickup_datetime|   dropoff_datetime|PULocationID|DOLocationID|SR_Flag|\n",
      "+-----------------+--------------------+-------------------+-------------------+------------+------------+-------+\n",
      "|           HV0005|              B02510|2020-03-01 00:03:40|2020-03-01 00:23:39|          81|         159|   null|\n",
      "|           HV0005|              B02510|2020-03-01 00:28:05|2020-03-01 00:38:57|         168|         119|   null|\n",
      "|           HV0003|              B02764|2020-03-01 00:03:07|2020-03-01 00:15:04|         137|         209|      1|\n",
      "|           HV0003|              B02764|2020-03-01 00:18:42|2020-03-01 00:38:42|         209|          80|   null|\n",
      "|           HV0003|              B02764|2020-03-01 00:44:24|2020-03-01 00:58:44|         256|         226|   null|\n",
      "+-----------------+--------------------+-------------------+-------------------+------------+------------+-------+\n",
      "only showing top 5 rows\n",
      "\n"
     ]
    }
   ],
   "source": [
    "trip_data.show(5)"
   ]
  },
  {
   "cell_type": "code",
   "execution_count": 24,
   "id": "7097d22c",
   "metadata": {},
   "outputs": [
    {
     "name": "stdout",
     "output_type": "stream",
     "text": [
      "+----------+-------------+--------------------+------------+\n",
      "|LocationID|      Borough|                Zone|service_zone|\n",
      "+----------+-------------+--------------------+------------+\n",
      "|         1|          EWR|      Newark Airport|         EWR|\n",
      "|         2|       Queens|         Jamaica Bay|   Boro Zone|\n",
      "|         3|        Bronx|Allerton/Pelham G...|   Boro Zone|\n",
      "|         4|    Manhattan|       Alphabet City| Yellow Zone|\n",
      "|         5|Staten Island|       Arden Heights|   Boro Zone|\n",
      "+----------+-------------+--------------------+------------+\n",
      "only showing top 5 rows\n",
      "\n"
     ]
    }
   ],
   "source": [
    "zone_data.show(5)"
   ]
  },
  {
   "cell_type": "code",
   "execution_count": 25,
   "id": "022aad55",
   "metadata": {},
   "outputs": [],
   "source": [
    "trip_data.createOrReplaceTempView(\"trip_data\")\n",
    "zone_data.createOrReplaceTempView(\"zone_data\")"
   ]
  },
  {
   "cell_type": "markdown",
   "id": "2f63a918",
   "metadata": {},
   "source": [
    "- PULocationID ( Pick Up Location ID ) : 승차 Location ID\n",
    "- DOLocationID ( Drop Off Location ID ) : 하차 Location ID"
   ]
  },
  {
   "cell_type": "code",
   "execution_count": 26,
   "id": "d8357643",
   "metadata": {},
   "outputs": [
    {
     "name": "stdout",
     "output_type": "stream",
     "text": [
      "+-------------+-------+\n",
      "|      borough|  trips|\n",
      "+-------------+-------+\n",
      "|       Queens|2437383|\n",
      "|          EWR|    362|\n",
      "|      Unknown|    845|\n",
      "|     Brooklyn|3735764|\n",
      "|Staten Island| 178818|\n",
      "|    Manhattan|4953140|\n",
      "|        Bronx|2086592|\n",
      "+-------------+-------+\n",
      "\n"
     ]
    }
   ],
   "source": [
    "# 승차 Location(PULocationID)별 개수 세기\n",
    "query = \"\"\"\n",
    "\n",
    "select borough, count(*) as trips\n",
    "from (\n",
    "        select zone_data.Borough as borough\n",
    "        from trip_data\n",
    "        join zone_data on trip_data.PULocationID = zone_data.LocationID )\n",
    "        \n",
    "group by borough\n",
    "\n",
    "\"\"\"\n",
    "spark.sql(query).show()"
   ]
  },
  {
   "cell_type": "code",
   "execution_count": 27,
   "id": "b194f97a",
   "metadata": {},
   "outputs": [
    {
     "name": "stdout",
     "output_type": "stream",
     "text": [
      "+-------------+-------+\n",
      "|      borough|  trips|\n",
      "+-------------+-------+\n",
      "|       Queens|2468408|\n",
      "|          EWR|  65066|\n",
      "|      Unknown| 387759|\n",
      "|     Brooklyn|3696682|\n",
      "|Staten Island| 177727|\n",
      "|    Manhattan|4553776|\n",
      "|        Bronx|2043486|\n",
      "+-------------+-------+\n",
      "\n"
     ]
    }
   ],
   "source": [
    "# 하차 Location(DOLocationID)별 개수 세기\n",
    "query = \"\"\"\n",
    "\n",
    "select borough, count(*) as trips\n",
    "from (\n",
    "        select zone_data.Borough as borough\n",
    "        from trip_data\n",
    "        join zone_data on trip_data.DOLocationID = zone_data.LocationID )\n",
    "        \n",
    "group by borough\n",
    "\n",
    "\"\"\"\n",
    "spark.sql(query).show()"
   ]
  },
  {
   "cell_type": "code",
   "execution_count": 28,
   "id": "f06b60e0",
   "metadata": {},
   "outputs": [
    {
     "name": "stdout",
     "output_type": "stream",
     "text": [
      "+--------------------+------+\n",
      "|                Zone| trips|\n",
      "+--------------------+------+\n",
      "| Crown Heights North|163091|\n",
      "|       East New York|134198|\n",
      "|         JFK Airport|114179|\n",
      "|        East Village|112017|\n",
      "|      Bushwick South|110150|\n",
      "|Central Harlem North|108070|\n",
      "|   LaGuardia Airport|104119|\n",
      "|Washington Height...| 97324|\n",
      "|Flatbush/Ditmas Park| 95724|\n",
      "|            Canarsie| 94484|\n",
      "|TriBeCa/Civic Center| 94155|\n",
      "|             Astoria| 92676|\n",
      "|             Bedford| 90352|\n",
      "|      Midtown Center| 90261|\n",
      "|  Stuyvesant Heights| 88749|\n",
      "|            Union Sq| 88372|\n",
      "|Times Sq/Theatre ...| 86870|\n",
      "|Prospect-Lefferts...| 84347|\n",
      "|         Brownsville| 82764|\n",
      "|Mott Haven/Port M...| 82396|\n",
      "+--------------------+------+\n",
      "only showing top 20 rows\n",
      "\n"
     ]
    }
   ],
   "source": [
    "query = \"\"\"\n",
    "    \n",
    "select zone_data.Zone, count(*) as trips\n",
    "\n",
    "from trip_data\n",
    "join zone_data on trip_data.PULocationID = zone_data.LocationID\n",
    "\n",
    "where trip_data.hvfhs_license_num = \"HV0003\"\n",
    "\n",
    "group by zone_data.Zone order by trips desc\n",
    "    \n",
    "\"\"\"\n",
    "\n",
    "spark.sql(query).show()"
   ]
  },
  {
   "cell_type": "code",
   "execution_count": 16,
   "id": "5183fc51",
   "metadata": {},
   "outputs": [
    {
     "name": "stdout",
     "output_type": "stream",
     "text": [
      "== Parsed Logical Plan ==\n",
      "'Sort ['trips DESC NULLS LAST], true\n",
      "+- 'Aggregate ['zone_data.Zone], ['zone_data.Zone, 'count(1) AS trips#190]\n",
      "   +- 'Filter ('trip_data.hvfhs_license_num = HV0003)\n",
      "      +- 'Join Inner, ('trip_data.PULocationID = 'zone_data.LocationID)\n",
      "         :- 'UnresolvedRelation [trip_data], [], false\n",
      "         +- 'UnresolvedRelation [zone_data], [], false\n",
      "\n",
      "== Analyzed Logical Plan ==\n",
      "Zone: string, trips: bigint\n",
      "Sort [trips#190L DESC NULLS LAST], true\n",
      "+- Aggregate [Zone#48], [Zone#48, count(1) AS trips#190L]\n",
      "   +- Filter (hvfhs_license_num#16 = HV0003)\n",
      "      +- Join Inner, (PULocationID#20 = LocationID#46)\n",
      "         :- SubqueryAlias trip_data\n",
      "         :  +- View (`trip_data`, [hvfhs_license_num#16,dispatching_base_num#17,pickup_datetime#18,dropoff_datetime#19,PULocationID#20,DOLocationID#21,SR_Flag#22])\n",
      "         :     +- Relation [hvfhs_license_num#16,dispatching_base_num#17,pickup_datetime#18,dropoff_datetime#19,PULocationID#20,DOLocationID#21,SR_Flag#22] csv\n",
      "         +- SubqueryAlias zone_data\n",
      "            +- View (`zone_data`, [LocationID#46,Borough#47,Zone#48,service_zone#49])\n",
      "               +- Relation [LocationID#46,Borough#47,Zone#48,service_zone#49] csv\n",
      "\n",
      "== Optimized Logical Plan ==\n",
      "Sort [trips#190L DESC NULLS LAST], true\n",
      "+- Aggregate [Zone#48], [Zone#48, count(1) AS trips#190L]\n",
      "   +- Project [Zone#48]\n",
      "      +- Join Inner, (PULocationID#20 = LocationID#46)\n",
      "         :- Project [PULocationID#20]\n",
      "         :  +- Filter ((isnotnull(hvfhs_license_num#16) AND (hvfhs_license_num#16 = HV0003)) AND isnotnull(PULocationID#20))\n",
      "         :     +- Relation [hvfhs_license_num#16,dispatching_base_num#17,pickup_datetime#18,dropoff_datetime#19,PULocationID#20,DOLocationID#21,SR_Flag#22] csv\n",
      "         +- Project [LocationID#46, Zone#48]\n",
      "            +- Filter isnotnull(LocationID#46)\n",
      "               +- Relation [LocationID#46,Borough#47,Zone#48,service_zone#49] csv\n",
      "\n",
      "== Physical Plan ==\n",
      "AdaptiveSparkPlan isFinalPlan=false\n",
      "+- Sort [trips#190L DESC NULLS LAST], true, 0\n",
      "   +- Exchange rangepartitioning(trips#190L DESC NULLS LAST, 200), ENSURE_REQUIREMENTS, [id=#679]\n",
      "      +- HashAggregate(keys=[Zone#48], functions=[count(1)], output=[Zone#48, trips#190L])\n",
      "         +- Exchange hashpartitioning(Zone#48, 200), ENSURE_REQUIREMENTS, [id=#676]\n",
      "            +- HashAggregate(keys=[Zone#48], functions=[partial_count(1)], output=[Zone#48, count#195L])\n",
      "               +- Project [Zone#48]\n",
      "                  +- BroadcastHashJoin [PULocationID#20], [LocationID#46], Inner, BuildRight, false\n",
      "                     :- Project [PULocationID#20]\n",
      "                     :  +- Filter ((isnotnull(hvfhs_license_num#16) AND (hvfhs_license_num#16 = HV0003)) AND isnotnull(PULocationID#20))\n",
      "                     :     +- FileScan csv [hvfhs_license_num#16,PULocationID#20] Batched: false, DataFilters: [isnotnull(hvfhs_license_num#16), (hvfhs_license_num#16 = HV0003), isnotnull(PULocationID#20)], Format: CSV, Location: InMemoryFileIndex(1 paths)[file:/C:/Users/daesi/Downloads/빅데이터 소스코드/소스코드/study_spark/data/fhvhv_t..., PartitionFilters: [], PushedFilters: [IsNotNull(hvfhs_license_num), EqualTo(hvfhs_license_num,HV0003), IsNotNull(PULocationID)], ReadSchema: struct<hvfhs_license_num:string,PULocationID:int>\n",
      "                     +- BroadcastExchange HashedRelationBroadcastMode(List(cast(input[0, int, false] as bigint)),false), [id=#671]\n",
      "                        +- Filter isnotnull(LocationID#46)\n",
      "                           +- FileScan csv [LocationID#46,Zone#48] Batched: false, DataFilters: [isnotnull(LocationID#46)], Format: CSV, Location: InMemoryFileIndex(1 paths)[file:/C:/Users/daesi/Downloads/빅데이터 소스코드/소스코드/study_spark/data/taxi+_z..., PartitionFilters: [], PushedFilters: [IsNotNull(LocationID)], ReadSchema: struct<LocationID:int,Zone:string>\n",
      "\n"
     ]
    }
   ],
   "source": [
    "spark.sql(query).explain(True)"
   ]
  },
  {
   "cell_type": "code",
   "execution_count": 29,
   "id": "0e42936f",
   "metadata": {},
   "outputs": [],
   "source": [
    "spark.stop()"
   ]
  },
  {
   "cell_type": "code",
   "execution_count": null,
   "id": "0b49ac1f",
   "metadata": {},
   "outputs": [],
   "source": []
  },
  {
   "cell_type": "code",
   "execution_count": null,
   "id": "54f44a1e",
   "metadata": {},
   "outputs": [],
   "source": []
  },
  {
   "cell_type": "code",
   "execution_count": null,
   "id": "03b8f70e",
   "metadata": {},
   "outputs": [],
   "source": []
  },
  {
   "cell_type": "code",
   "execution_count": null,
   "id": "5f36e12d",
   "metadata": {},
   "outputs": [],
   "source": []
  },
  {
   "cell_type": "code",
   "execution_count": null,
   "id": "3b59c5a8",
   "metadata": {},
   "outputs": [],
   "source": []
  },
  {
   "cell_type": "code",
   "execution_count": null,
   "id": "bf2ef3e3",
   "metadata": {},
   "outputs": [],
   "source": []
  },
  {
   "cell_type": "code",
   "execution_count": null,
   "id": "c5c164b1",
   "metadata": {},
   "outputs": [],
   "source": []
  },
  {
   "cell_type": "code",
   "execution_count": null,
   "id": "12315b23",
   "metadata": {},
   "outputs": [],
   "source": []
  },
  {
   "cell_type": "code",
   "execution_count": null,
   "id": "557deac6",
   "metadata": {},
   "outputs": [],
   "source": []
  },
  {
   "cell_type": "code",
   "execution_count": null,
   "id": "7e060922",
   "metadata": {},
   "outputs": [],
   "source": []
  },
  {
   "cell_type": "code",
   "execution_count": null,
   "id": "26e7dd5c",
   "metadata": {},
   "outputs": [],
   "source": []
  }
 ],
 "metadata": {
  "kernelspec": {
   "display_name": "Python 3 (ipykernel)",
   "language": "python",
   "name": "python3"
  },
  "language_info": {
   "codemirror_mode": {
    "name": "ipython",
    "version": 3
   },
   "file_extension": ".py",
   "mimetype": "text/x-python",
   "name": "python",
   "nbconvert_exporter": "python",
   "pygments_lexer": "ipython3",
   "version": "3.9.13"
  }
 },
 "nbformat": 4,
 "nbformat_minor": 5
}
