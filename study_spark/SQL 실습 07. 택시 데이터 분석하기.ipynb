{
 "cells": [
  {
   "cell_type": "code",
   "execution_count": 1,
   "id": "46434416",
   "metadata": {},
   "outputs": [],
   "source": [
    "from pyspark.sql import SparkSession\n",
    "\n",
    "spark = SparkSession.builder.appName(\"trip_count_sql\").getOrCreate()"
   ]
  },
  {
   "cell_type": "code",
   "execution_count": 2,
   "id": "86e98141",
   "metadata": {},
   "outputs": [],
   "source": [
    "directory=\"C:\\\\Users\\\\daesi\\\\Downloads\\\\빅데이터 소스코드\\\\소스코드\\\\study_spark\\\\data\"\n",
    "trip_files = \"\\\\trips\\\\*\"\n",
    "zone_file = \"taxi+_zone_lookup.csv\""
   ]
  },
  {
   "cell_type": "code",
   "execution_count": 3,
   "id": "ed92a2c9",
   "metadata": {},
   "outputs": [],
   "source": [
    "trips_df = spark.read.csv(f\"file:///{directory}\\\\{trip_files}\", inferSchema=True, header=True)\n",
    "zone_df = spark.read.csv(f\"file:///{directory}\\\\{zone_file}\", inferSchema=True, header=True)"
   ]
  },
  {
   "cell_type": "code",
   "execution_count": 4,
   "id": "bd2ab9cd",
   "metadata": {},
   "outputs": [
    {
     "name": "stdout",
     "output_type": "stream",
     "text": [
      "root\n",
      " |-- VendorID: integer (nullable = true)\n",
      " |-- tpep_pickup_datetime: string (nullable = true)\n",
      " |-- tpep_dropoff_datetime: string (nullable = true)\n",
      " |-- passenger_count: integer (nullable = true)\n",
      " |-- trip_distance: double (nullable = true)\n",
      " |-- RatecodeID: integer (nullable = true)\n",
      " |-- store_and_fwd_flag: string (nullable = true)\n",
      " |-- PULocationID: integer (nullable = true)\n",
      " |-- DOLocationID: integer (nullable = true)\n",
      " |-- payment_type: integer (nullable = true)\n",
      " |-- fare_amount: double (nullable = true)\n",
      " |-- extra: double (nullable = true)\n",
      " |-- mta_tax: double (nullable = true)\n",
      " |-- tip_amount: double (nullable = true)\n",
      " |-- tolls_amount: double (nullable = true)\n",
      " |-- improvement_surcharge: double (nullable = true)\n",
      " |-- total_amount: double (nullable = true)\n",
      " |-- congestion_surcharge: double (nullable = true)\n",
      "\n",
      "root\n",
      " |-- LocationID: integer (nullable = true)\n",
      " |-- Borough: string (nullable = true)\n",
      " |-- Zone: string (nullable = true)\n",
      " |-- service_zone: string (nullable = true)\n",
      "\n"
     ]
    }
   ],
   "source": [
    "trips_df.printSchema()\n",
    "zone_df.printSchema()"
   ]
  },
  {
   "cell_type": "code",
   "execution_count": 5,
   "id": "75d1723c",
   "metadata": {},
   "outputs": [],
   "source": [
    "trips_df.createOrReplaceTempView(\"trips\")\n",
    "zone_df.createOrReplaceTempView(\"zone\")"
   ]
  },
  {
   "cell_type": "code",
   "execution_count": 6,
   "id": "70b684e4",
   "metadata": {},
   "outputs": [],
   "source": [
    "\n",
    "query = \"\"\"\n",
    "SELECT\n",
    "    t.VendorID as vendor_id,\n",
    "    TO_DATE(t.tpep_pickup_datetime) as pickup_date,\n",
    "    TO_DATE(t.tpep_dropoff_datetime) as dropoff_date,\n",
    "    HOUR(t.tpep_pickup_datetime) as pickup_time,\n",
    "    HOUR(t.tpep_dropoff_datetime) as dropoff_time,\n",
    "    t.passenger_count,\n",
    "    t.trip_distance,\n",
    "    t.fare_amount,\n",
    "    t.tip_amount,\n",
    "    t.tolls_amount,\n",
    "    t.total_amount,\n",
    "    t.payment_type,\n",
    "    pz.Zone as pickup_zone,\n",
    "    dz.Zone as dropoff_zone\n",
    "\n",
    "FROM\n",
    "    trips t\n",
    "LEFT JOIN zone pz ON t.PULocationID = pz.LocationID\n",
    "LEFT JOIN zone dz ON t.DOLocationID = dz.LocationID\n",
    "\"\"\"\n",
    "\n",
    "comb_df = spark.sql(query)\n",
    "comb_df.createOrReplaceTempView(\"comb\")"
   ]
  },
  {
   "cell_type": "code",
   "execution_count": 7,
   "id": "1d842f3b",
   "metadata": {},
   "outputs": [
    {
     "name": "stdout",
     "output_type": "stream",
     "text": [
      "root\n",
      " |-- vendor_id: integer (nullable = true)\n",
      " |-- pickup_date: date (nullable = true)\n",
      " |-- dropoff_date: date (nullable = true)\n",
      " |-- pickup_time: integer (nullable = true)\n",
      " |-- dropoff_time: integer (nullable = true)\n",
      " |-- passenger_count: integer (nullable = true)\n",
      " |-- trip_distance: double (nullable = true)\n",
      " |-- fare_amount: double (nullable = true)\n",
      " |-- tip_amount: double (nullable = true)\n",
      " |-- tolls_amount: double (nullable = true)\n",
      " |-- total_amount: double (nullable = true)\n",
      " |-- payment_type: integer (nullable = true)\n",
      " |-- pickup_zone: string (nullable = true)\n",
      " |-- dropoff_zone: string (nullable = true)\n",
      "\n"
     ]
    }
   ],
   "source": [
    "comb_df.printSchema()"
   ]
  },
  {
   "cell_type": "code",
   "execution_count": 8,
   "id": "b3fe54a1",
   "metadata": {},
   "outputs": [
    {
     "name": "stdout",
     "output_type": "stream",
     "text": [
      "+---------+-----------+------------+-----------+------------+---------------+-------------+-----------+----------+------------+------------+------------+-----------------+--------------+\n",
      "|vendor_id|pickup_date|dropoff_date|pickup_time|dropoff_time|passenger_count|trip_distance|fare_amount|tip_amount|tolls_amount|total_amount|payment_type|      pickup_zone|  dropoff_zone|\n",
      "+---------+-----------+------------+-----------+------------+---------------+-------------+-----------+----------+------------+------------+------------+-----------------+--------------+\n",
      "|        2| 2021-03-01|  2021-03-01|          0|           0|              1|          0.0|        3.0|       0.0|         0.0|         4.3|           2|               NV|            NV|\n",
      "|        2| 2021-03-01|  2021-03-01|          0|           0|              1|          0.0|        2.5|       0.0|         0.0|         3.8|           2|   Manhattanville|Manhattanville|\n",
      "|        2| 2021-03-01|  2021-03-01|          0|           0|              1|          0.0|        3.5|       0.0|         0.0|         4.8|           2|   Manhattanville|Manhattanville|\n",
      "|        1| 2021-03-01|  2021-03-01|          0|           0|              0|         16.5|       51.0|     11.65|        6.12|       70.07|           1|LaGuardia Airport|            NA|\n",
      "|        2| 2021-03-01|  2021-03-01|          0|           0|              1|         1.13|        5.5|      1.86|         0.0|       11.16|           1|     East Chelsea|            NV|\n",
      "+---------+-----------+------------+-----------+------------+---------------+-------------+-----------+----------+------------+------------+------------+-----------------+--------------+\n",
      "only showing top 5 rows\n",
      "\n"
     ]
    }
   ],
   "source": [
    "comb_df.show(5)"
   ]
  },
  {
   "cell_type": "code",
   "execution_count": 15,
   "id": "cc6d19ba",
   "metadata": {},
   "outputs": [
    {
     "name": "stdout",
     "output_type": "stream",
     "text": [
      "+-----------+-----------+\n",
      "|pickup_date|pickup_time|\n",
      "+-----------+-----------+\n",
      "| 2021-02-28|         23|\n",
      "| 2021-02-28|         23|\n",
      "| 2021-02-28|         23|\n",
      "| 2021-02-28|         23|\n",
      "| 2021-02-28|         23|\n",
      "| 2021-02-28|         23|\n",
      "| 2021-02-28|         23|\n",
      "| 2021-03-01|         22|\n",
      "| 2021-03-01|          1|\n",
      "| 2021-03-01|          1|\n",
      "| 2021-03-01|          1|\n",
      "| 2021-03-01|          1|\n",
      "| 2021-03-01|          1|\n",
      "| 2021-03-01|          1|\n",
      "| 2021-03-01|          1|\n",
      "| 2021-03-01|          1|\n",
      "| 2021-03-01|          1|\n",
      "| 2021-03-01|          1|\n",
      "| 2021-03-01|          1|\n",
      "| 2021-03-01|          1|\n",
      "+-----------+-----------+\n",
      "only showing top 20 rows\n",
      "\n"
     ]
    }
   ],
   "source": [
    "spark.sql(\"SELECT pickup_date, pickup_time FROM comb WHERE pickup_time > 0\").show()"
   ]
  },
  {
   "cell_type": "code",
   "execution_count": 16,
   "id": "25649a06",
   "metadata": {},
   "outputs": [
    {
     "name": "stdout",
     "output_type": "stream",
     "text": [
      "+-----------+-----------+\n",
      "|pickup_date|pickup_time|\n",
      "+-----------+-----------+\n",
      "| 2009-01-01|          0|\n",
      "| 2008-12-31|         23|\n",
      "| 2009-01-01|          0|\n",
      "| 2009-01-01|          0|\n",
      "| 2009-01-01|          0|\n",
      "| 2009-01-01|          0|\n",
      "| 2009-01-01|          0|\n",
      "| 2009-01-01|          1|\n",
      "| 2009-01-01|          0|\n",
      "| 2008-12-31|         23|\n",
      "| 2008-12-31|         23|\n",
      "| 2008-12-31|         23|\n",
      "| 2008-12-31|         23|\n",
      "| 2009-01-01|          0|\n",
      "| 2009-01-01|          0|\n",
      "| 2009-01-01|          0|\n",
      "| 2009-01-01|         16|\n",
      "| 2009-01-01|         16|\n",
      "| 2009-01-01|          0|\n",
      "| 2009-01-01|          0|\n",
      "+-----------+-----------+\n",
      "only showing top 20 rows\n",
      "\n"
     ]
    }
   ],
   "source": [
    "#2021년도 데이터를 분석할 예정인데, 2020년 미만의 데이터도 존재할 수 있다! 2020-12-31일 이전 데이터가 있는지 확인\n",
    "query = \"\"\"\n",
    "\n",
    "    SELECT pickup_date, pickup_time\n",
    "    FROM comb\n",
    "    WHERE pickup_date < '2020-12-31'\n",
    "\n",
    "\"\"\"\n",
    "\n",
    "spark.sql(query).show()"
   ]
  },
  {
   "cell_type": "markdown",
   "id": "e39b77d2",
   "metadata": {},
   "source": [
    "# Cleaning 작업\n",
    "- 데이터 정제 작업\n",
    "- 이상한 데이터를 삭제"
   ]
  },
  {
   "cell_type": "markdown",
   "id": "dd3d47a5",
   "metadata": {},
   "source": [
    "**요금(`total_amount`)** 확인"
   ]
  },
  {
   "cell_type": "code",
   "execution_count": 9,
   "id": "a32992d6",
   "metadata": {},
   "outputs": [
    {
     "name": "stdout",
     "output_type": "stream",
     "text": [
      "+-------+-----------------+\n",
      "|summary|     total_amount|\n",
      "+-------+-----------------+\n",
      "|  count|         15000700|\n",
      "|   mean|18.75545205708744|\n",
      "| stddev|145.7442452805979|\n",
      "|    min|           -647.8|\n",
      "|    max|         398469.2|\n",
      "+-------+-----------------+\n",
      "\n"
     ]
    }
   ],
   "source": [
    "comb_df.select(\"total_amount\").describe().show()"
   ]
  },
  {
   "cell_type": "code",
   "execution_count": 10,
   "id": "c3064a18",
   "metadata": {},
   "outputs": [
    {
     "name": "stdout",
     "output_type": "stream",
     "text": [
      "+-------+-----------------+\n",
      "|summary|    trip_distance|\n",
      "+-------+-----------------+\n",
      "|  count|         15000700|\n",
      "|   mean|6.628629402627818|\n",
      "| stddev|671.7293482115828|\n",
      "|    min|              0.0|\n",
      "|    max|        332541.19|\n",
      "+-------+-----------------+\n",
      "\n"
     ]
    }
   ],
   "source": [
    "comb_df.select(\"trip_distance\").describe().show()\n",
    "# max값이 잘못됨. 손으로 직접 거리를 찍다가 잘못 누른 데이터일 가능이 높다."
   ]
  },
  {
   "cell_type": "code",
   "execution_count": 17,
   "id": "710311d5",
   "metadata": {},
   "outputs": [
    {
     "name": "stdout",
     "output_type": "stream",
     "text": [
      "+-------------------+-------+\n",
      "|              month|  trips|\n",
      "+-------------------+-------+\n",
      "|2029-05-01 00:00:00|      1|\n",
      "|2021-12-01 00:00:00|      5|\n",
      "|2021-11-01 00:00:00|      5|\n",
      "|2021-10-01 00:00:00|      3|\n",
      "|2021-09-01 00:00:00|      3|\n",
      "|2021-08-01 00:00:00|     36|\n",
      "|2021-07-01 00:00:00|2821430|\n",
      "|2021-06-01 00:00:00|2834204|\n",
      "|2021-05-01 00:00:00|2507075|\n",
      "|2021-04-01 00:00:00|2171215|\n",
      "|2021-03-01 00:00:00|1925130|\n",
      "|2021-02-01 00:00:00|1371688|\n",
      "|2021-01-01 00:00:00|1369749|\n",
      "|2020-12-01 00:00:00|     16|\n",
      "|2009-01-01 00:00:00|    111|\n",
      "|2008-12-01 00:00:00|     26|\n",
      "|2004-04-01 00:00:00|      1|\n",
      "|2003-01-01 00:00:00|      1|\n",
      "|2002-12-01 00:00:00|      1|\n",
      "+-------------------+-------+\n",
      "\n"
     ]
    }
   ],
   "source": [
    "#월별 (trips) 확인\n",
    "# DATE_TRUNC('MM') : 월을 추출\n",
    "query = \"\"\"\n",
    "    SELECT\n",
    "        DATE_TRUNC('MM', c.pickup_date) AS month,\n",
    "        COUNT(*) AS trips\n",
    "    FROM comb c\n",
    "    \n",
    "    GROUP BY month\n",
    "    ORDER BY month desc\n",
    "\"\"\"\n",
    "\n",
    "spark.sql(query).show()"
   ]
  },
  {
   "cell_type": "code",
   "execution_count": 18,
   "id": "3e61236a",
   "metadata": {},
   "outputs": [
    {
     "name": "stdout",
     "output_type": "stream",
     "text": [
      "+-------+------------------+\n",
      "|summary|   passenger_count|\n",
      "+-------+------------------+\n",
      "|  count|          14166672|\n",
      "|   mean|1.4253783104458126|\n",
      "| stddev|  1.04432704905968|\n",
      "|    min|                 0|\n",
      "|    max|                 9|\n",
      "+-------+------------------+\n",
      "\n"
     ]
    }
   ],
   "source": [
    "comb_df.select(\"passenger_count\").describe().show()"
   ]
  },
  {
   "cell_type": "code",
   "execution_count": 13,
   "id": "2ca4b1ec",
   "metadata": {},
   "outputs": [],
   "source": [
    "# Data 클리닝\n",
    "query = \"\"\"\n",
    "\n",
    "SELECT\n",
    "    c.*\n",
    "FROM\n",
    "    comb c\n",
    "WHERE c.total_amount < 5000\n",
    "  AND c.total_amount > 0\n",
    "  AND c.trip_distance < 100\n",
    "  AND c.passenger_count < 4\n",
    "  AND c.pickup_date >= '2021-01-01'\n",
    "  AND c.pickup_date < '2021-08-01'\n",
    "\"\"\"\n",
    "\n",
    "cleaned_df = spark.sql(query)\n",
    "cleaned_df.createOrReplaceTempView(\"cleaned\")"
   ]
  },
  {
   "cell_type": "code",
   "execution_count": 14,
   "id": "f518523b",
   "metadata": {},
   "outputs": [
    {
     "name": "stdout",
     "output_type": "stream",
     "text": [
      "+-------+-------------------+------------------+------------------+------------------+------------------+------------------+------------------+------------------+------------------+-------------------+--------------------+--------------------+\n",
      "|summary|          vendor_id|       pickup_time|      dropoff_time|   passenger_count|     trip_distance|       fare_amount|        tip_amount|      tolls_amount|      total_amount|       payment_type|         pickup_zone|        dropoff_zone|\n",
      "+-------+-------------------+------------------+------------------+------------------+------------------+------------------+------------------+------------------+------------------+-------------------+--------------------+--------------------+\n",
      "|  count|           13297107|          13297107|          13297107|          13297107|          13297107|          13297107|          13297107|          13297107|          13297107|           13297107|            13297107|            13297107|\n",
      "|   mean| 1.6708898409255486|14.196737004522863|14.282849871028338|1.2091016489526631|2.8381349567240064|12.161357451661225| 2.188536422246395|0.2701399529985786|18.072383416369863| 1.2470360658149175|                null|                null|\n",
      "| stddev|0.46989007105205716| 5.120955674004397| 5.192133029412093|0.5416739633355399|3.6244092466998707|10.986251969133365|2.5779097958962396|1.5421161367097527|13.263132484566265|0.45325152838632116|                null|                null|\n",
      "|    min|                  1|                 0|                 0|                 0|               0.0|              -0.8|               0.0|               0.0|              0.01|                  1|Allerton/Pelham G...|Allerton/Pelham G...|\n",
      "|    max|                  2|                23|                23|                 3|             99.96|            4969.0|             700.0|            956.55|            4973.3|                  5|      Yorkville West|      Yorkville West|\n",
      "+-------+-------------------+------------------+------------------+------------------+------------------+------------------+------------------+------------------+------------------+-------------------+--------------------+--------------------+\n",
      "\n"
     ]
    }
   ],
   "source": [
    "cleaned_df.describe().show()"
   ]
  },
  {
   "cell_type": "markdown",
   "id": "3efff374",
   "metadata": {},
   "source": [
    "# 시각화와 분석"
   ]
  },
  {
   "cell_type": "code",
   "execution_count": 19,
   "id": "f2616d4d",
   "metadata": {},
   "outputs": [],
   "source": [
    "import numpy as np\n",
    "import pandas as pd\n",
    "import seaborn as sns\n",
    "import matplotlib.pyplot as plt\n",
    "import matplotlib.dates as mdates"
   ]
  },
  {
   "cell_type": "markdown",
   "id": "c751277e",
   "metadata": {},
   "source": [
    "# 일별 trips 수 확인 및 분석"
   ]
  },
  {
   "cell_type": "code",
   "execution_count": 20,
   "id": "ff59cbee",
   "metadata": {},
   "outputs": [
    {
     "data": {
      "text/html": [
       "<div>\n",
       "<style scoped>\n",
       "    .dataframe tbody tr th:only-of-type {\n",
       "        vertical-align: middle;\n",
       "    }\n",
       "\n",
       "    .dataframe tbody tr th {\n",
       "        vertical-align: top;\n",
       "    }\n",
       "\n",
       "    .dataframe thead th {\n",
       "        text-align: right;\n",
       "    }\n",
       "</style>\n",
       "<table border=\"1\" class=\"dataframe\">\n",
       "  <thead>\n",
       "    <tr style=\"text-align: right;\">\n",
       "      <th></th>\n",
       "      <th>pickup_date</th>\n",
       "      <th>trips</th>\n",
       "    </tr>\n",
       "  </thead>\n",
       "  <tbody>\n",
       "    <tr>\n",
       "      <th>0</th>\n",
       "      <td>2021-03-22</td>\n",
       "      <td>52415</td>\n",
       "    </tr>\n",
       "    <tr>\n",
       "      <th>1</th>\n",
       "      <td>2021-03-07</td>\n",
       "      <td>34374</td>\n",
       "    </tr>\n",
       "    <tr>\n",
       "      <th>2</th>\n",
       "      <td>2021-03-21</td>\n",
       "      <td>39659</td>\n",
       "    </tr>\n",
       "    <tr>\n",
       "      <th>3</th>\n",
       "      <td>2021-05-27</td>\n",
       "      <td>83211</td>\n",
       "    </tr>\n",
       "    <tr>\n",
       "      <th>4</th>\n",
       "      <td>2021-03-14</td>\n",
       "      <td>38738</td>\n",
       "    </tr>\n",
       "    <tr>\n",
       "      <th>...</th>\n",
       "      <td>...</td>\n",
       "      <td>...</td>\n",
       "    </tr>\n",
       "    <tr>\n",
       "      <th>207</th>\n",
       "      <td>2021-03-30</td>\n",
       "      <td>58625</td>\n",
       "    </tr>\n",
       "    <tr>\n",
       "      <th>208</th>\n",
       "      <td>2021-03-27</td>\n",
       "      <td>59735</td>\n",
       "    </tr>\n",
       "    <tr>\n",
       "      <th>209</th>\n",
       "      <td>2021-03-29</td>\n",
       "      <td>50624</td>\n",
       "    </tr>\n",
       "    <tr>\n",
       "      <th>210</th>\n",
       "      <td>2021-04-27</td>\n",
       "      <td>67953</td>\n",
       "    </tr>\n",
       "    <tr>\n",
       "      <th>211</th>\n",
       "      <td>2021-03-28</td>\n",
       "      <td>35535</td>\n",
       "    </tr>\n",
       "  </tbody>\n",
       "</table>\n",
       "<p>212 rows × 2 columns</p>\n",
       "</div>"
      ],
      "text/plain": [
       "    pickup_date  trips\n",
       "0    2021-03-22  52415\n",
       "1    2021-03-07  34374\n",
       "2    2021-03-21  39659\n",
       "3    2021-05-27  83211\n",
       "4    2021-03-14  38738\n",
       "..          ...    ...\n",
       "207  2021-03-30  58625\n",
       "208  2021-03-27  59735\n",
       "209  2021-03-29  50624\n",
       "210  2021-04-27  67953\n",
       "211  2021-03-28  35535\n",
       "\n",
       "[212 rows x 2 columns]"
      ]
     },
     "execution_count": 20,
     "metadata": {},
     "output_type": "execute_result"
    }
   ],
   "source": [
    "query = \"\"\"\n",
    "SELECT\n",
    "    c.pickup_date,\n",
    "    COUNT(*) AS trips\n",
    "FROM\n",
    "    cleaned c\n",
    "GROUP BY\n",
    "    c.pickup_date\n",
    "\"\"\"\n",
    "\n",
    "pd_df = spark.sql(query).toPandas()\n",
    "pd_df"
   ]
  },
  {
   "cell_type": "code",
   "execution_count": 21,
   "id": "d0ac3d4b",
   "metadata": {},
   "outputs": [
    {
     "data": {
      "image/png": "[encoded data removed]",
      "text/plain": [
       "<Figure size 1600x600 with 1 Axes>"
      ]
     },
     "metadata": {},
     "output_type": "display_data"
    }
   ],
   "source": [
    "fig, ax = plt.subplots(figsize=(16, 6))\n",
    "sns.lineplot(x=\"pickup_date\", y=\"trips\", data=pd_df)\n",
    "plt.show()"
   ]
  },
  {
   "cell_type": "markdown",
   "id": "7aa0865e",
   "metadata": {},
   "source": [
    "# 요일 별 trips의 중간값 확인"
   ]
  },
  {
   "cell_type": "code",
   "execution_count": 22,
   "id": "d2f10c77",
   "metadata": {},
   "outputs": [
    {
     "data": {
      "text/html": [
       "<div>\n",
       "<style scoped>\n",
       "    .dataframe tbody tr th:only-of-type {\n",
       "        vertical-align: middle;\n",
       "    }\n",
       "\n",
       "    .dataframe tbody tr th {\n",
       "        vertical-align: top;\n",
       "    }\n",
       "\n",
       "    .dataframe thead th {\n",
       "        text-align: right;\n",
       "    }\n",
       "</style>\n",
       "<table border=\"1\" class=\"dataframe\">\n",
       "  <thead>\n",
       "    <tr style=\"text-align: right;\">\n",
       "      <th></th>\n",
       "      <th>pickup_date</th>\n",
       "      <th>day_of_week</th>\n",
       "      <th>trips</th>\n",
       "    </tr>\n",
       "  </thead>\n",
       "  <tbody>\n",
       "    <tr>\n",
       "      <th>0</th>\n",
       "      <td>2021-03-24</td>\n",
       "      <td>Wednesday</td>\n",
       "      <td>60382</td>\n",
       "    </tr>\n",
       "    <tr>\n",
       "      <th>1</th>\n",
       "      <td>2021-03-03</td>\n",
       "      <td>Wednesday</td>\n",
       "      <td>55222</td>\n",
       "    </tr>\n",
       "    <tr>\n",
       "      <th>2</th>\n",
       "      <td>2021-03-05</td>\n",
       "      <td>Friday</td>\n",
       "      <td>60984</td>\n",
       "    </tr>\n",
       "    <tr>\n",
       "      <th>3</th>\n",
       "      <td>2021-03-09</td>\n",
       "      <td>Tuesday</td>\n",
       "      <td>54085</td>\n",
       "    </tr>\n",
       "    <tr>\n",
       "      <th>4</th>\n",
       "      <td>2021-03-26</td>\n",
       "      <td>Friday</td>\n",
       "      <td>64810</td>\n",
       "    </tr>\n",
       "    <tr>\n",
       "      <th>...</th>\n",
       "      <td>...</td>\n",
       "      <td>...</td>\n",
       "      <td>...</td>\n",
       "    </tr>\n",
       "    <tr>\n",
       "      <th>207</th>\n",
       "      <td>2021-03-30</td>\n",
       "      <td>Tuesday</td>\n",
       "      <td>58625</td>\n",
       "    </tr>\n",
       "    <tr>\n",
       "      <th>208</th>\n",
       "      <td>2021-04-24</td>\n",
       "      <td>Saturday</td>\n",
       "      <td>70466</td>\n",
       "    </tr>\n",
       "    <tr>\n",
       "      <th>209</th>\n",
       "      <td>2021-03-28</td>\n",
       "      <td>Sunday</td>\n",
       "      <td>35535</td>\n",
       "    </tr>\n",
       "    <tr>\n",
       "      <th>210</th>\n",
       "      <td>2021-04-25</td>\n",
       "      <td>Sunday</td>\n",
       "      <td>44048</td>\n",
       "    </tr>\n",
       "    <tr>\n",
       "      <th>211</th>\n",
       "      <td>2021-03-29</td>\n",
       "      <td>Monday</td>\n",
       "      <td>50624</td>\n",
       "    </tr>\n",
       "  </tbody>\n",
       "</table>\n",
       "<p>212 rows × 3 columns</p>\n",
       "</div>"
      ],
      "text/plain": [
       "    pickup_date day_of_week  trips\n",
       "0    2021-03-24   Wednesday  60382\n",
       "1    2021-03-03   Wednesday  55222\n",
       "2    2021-03-05      Friday  60984\n",
       "3    2021-03-09     Tuesday  54085\n",
       "4    2021-03-26      Friday  64810\n",
       "..          ...         ...    ...\n",
       "207  2021-03-30     Tuesday  58625\n",
       "208  2021-04-24    Saturday  70466\n",
       "209  2021-03-28      Sunday  35535\n",
       "210  2021-04-25      Sunday  44048\n",
       "211  2021-03-29      Monday  50624\n",
       "\n",
       "[212 rows x 3 columns]"
      ]
     },
     "execution_count": 22,
     "metadata": {},
     "output_type": "execute_result"
    }
   ],
   "source": [
    "# DATE_FORMAT\n",
    "\n",
    "query = \"\"\"\n",
    "\n",
    "SELECT\n",
    "    c.pickup_date,\n",
    "    DATE_FORMAT(c.pickup_date, 'EEEE') as day_of_week,\n",
    "    COUNT(*) AS trips\n",
    "FROM cleaned c\n",
    "\n",
    "GROUP BY c.pickup_date, day_of_week\n",
    "\n",
    "\"\"\"\n",
    "\n",
    "pd_df2 = spark.sql(query).toPandas()\n",
    "pd_df2"
   ]
  },
  {
   "cell_type": "code",
   "execution_count": 23,
   "id": "967da9ee",
   "metadata": {},
   "outputs": [
    {
     "data": {
      "text/html": [
       "<div>\n",
       "<style scoped>\n",
       "    .dataframe tbody tr th:only-of-type {\n",
       "        vertical-align: middle;\n",
       "    }\n",
       "\n",
       "    .dataframe tbody tr th {\n",
       "        vertical-align: top;\n",
       "    }\n",
       "\n",
       "    .dataframe thead th {\n",
       "        text-align: right;\n",
       "    }\n",
       "</style>\n",
       "<table border=\"1\" class=\"dataframe\">\n",
       "  <thead>\n",
       "    <tr style=\"text-align: right;\">\n",
       "      <th></th>\n",
       "      <th>day_of_week</th>\n",
       "      <th>trips</th>\n",
       "    </tr>\n",
       "  </thead>\n",
       "  <tbody>\n",
       "    <tr>\n",
       "      <th>0</th>\n",
       "      <td>Friday</td>\n",
       "      <td>73094.0</td>\n",
       "    </tr>\n",
       "    <tr>\n",
       "      <th>1</th>\n",
       "      <td>Monday</td>\n",
       "      <td>56063.0</td>\n",
       "    </tr>\n",
       "    <tr>\n",
       "      <th>2</th>\n",
       "      <td>Saturday</td>\n",
       "      <td>61471.0</td>\n",
       "    </tr>\n",
       "    <tr>\n",
       "      <th>3</th>\n",
       "      <td>Sunday</td>\n",
       "      <td>43131.0</td>\n",
       "    </tr>\n",
       "    <tr>\n",
       "      <th>4</th>\n",
       "      <td>Thursday</td>\n",
       "      <td>72190.5</td>\n",
       "    </tr>\n",
       "    <tr>\n",
       "      <th>5</th>\n",
       "      <td>Tuesday</td>\n",
       "      <td>66821.0</td>\n",
       "    </tr>\n",
       "    <tr>\n",
       "      <th>6</th>\n",
       "      <td>Wednesday</td>\n",
       "      <td>69398.5</td>\n",
       "    </tr>\n",
       "  </tbody>\n",
       "</table>\n",
       "</div>"
      ],
      "text/plain": [
       "  day_of_week    trips\n",
       "0      Friday  73094.0\n",
       "1      Monday  56063.0\n",
       "2    Saturday  61471.0\n",
       "3      Sunday  43131.0\n",
       "4    Thursday  72190.5\n",
       "5     Tuesday  66821.0\n",
       "6   Wednesday  69398.5"
      ]
     },
     "execution_count": 23,
     "metadata": {},
     "output_type": "execute_result"
    }
   ],
   "source": [
    "data = pd_df2.groupby(\"day_of_week\")[\"trips\"].median().to_frame().reset_index()\n",
    "data"
   ]
  },
  {
   "cell_type": "code",
   "execution_count": 24,
   "id": "b4720f64",
   "metadata": {},
   "outputs": [
    {
     "data": {
      "text/html": [
       "<div>\n",
       "<style scoped>\n",
       "    .dataframe tbody tr th:only-of-type {\n",
       "        vertical-align: middle;\n",
       "    }\n",
       "\n",
       "    .dataframe tbody tr th {\n",
       "        vertical-align: top;\n",
       "    }\n",
       "\n",
       "    .dataframe thead th {\n",
       "        text-align: right;\n",
       "    }\n",
       "</style>\n",
       "<table border=\"1\" class=\"dataframe\">\n",
       "  <thead>\n",
       "    <tr style=\"text-align: right;\">\n",
       "      <th></th>\n",
       "      <th>day_of_week</th>\n",
       "      <th>trips</th>\n",
       "    </tr>\n",
       "  </thead>\n",
       "  <tbody>\n",
       "    <tr>\n",
       "      <th>0</th>\n",
       "      <td>Friday</td>\n",
       "      <td>73094.0</td>\n",
       "    </tr>\n",
       "    <tr>\n",
       "      <th>1</th>\n",
       "      <td>Monday</td>\n",
       "      <td>56063.0</td>\n",
       "    </tr>\n",
       "    <tr>\n",
       "      <th>2</th>\n",
       "      <td>Saturday</td>\n",
       "      <td>61471.0</td>\n",
       "    </tr>\n",
       "    <tr>\n",
       "      <th>3</th>\n",
       "      <td>Sunday</td>\n",
       "      <td>43131.0</td>\n",
       "    </tr>\n",
       "    <tr>\n",
       "      <th>4</th>\n",
       "      <td>Thursday</td>\n",
       "      <td>72190.5</td>\n",
       "    </tr>\n",
       "    <tr>\n",
       "      <th>5</th>\n",
       "      <td>Tuesday</td>\n",
       "      <td>66821.0</td>\n",
       "    </tr>\n",
       "    <tr>\n",
       "      <th>6</th>\n",
       "      <td>Wednesday</td>\n",
       "      <td>69398.5</td>\n",
       "    </tr>\n",
       "  </tbody>\n",
       "</table>\n",
       "</div>"
      ],
      "text/plain": [
       "  day_of_week    trips\n",
       "0      Friday  73094.0\n",
       "1      Monday  56063.0\n",
       "2    Saturday  61471.0\n",
       "3      Sunday  43131.0\n",
       "4    Thursday  72190.5\n",
       "5     Tuesday  66821.0\n",
       "6   Wednesday  69398.5"
      ]
     },
     "execution_count": 24,
     "metadata": {},
     "output_type": "execute_result"
    }
   ],
   "source": [
    "data = pd_df2.groupby(\"day_of_week\")[\"trips\"].median().to_frame().reset_index()\n",
    "data"
   ]
  },
  {
   "cell_type": "code",
   "execution_count": 30,
   "id": "346ca53c",
   "metadata": {},
   "outputs": [
    {
     "data": {
      "text/html": [
       "<div>\n",
       "<style scoped>\n",
       "    .dataframe tbody tr th:only-of-type {\n",
       "        vertical-align: middle;\n",
       "    }\n",
       "\n",
       "    .dataframe tbody tr th {\n",
       "        vertical-align: top;\n",
       "    }\n",
       "\n",
       "    .dataframe thead th {\n",
       "        text-align: right;\n",
       "    }\n",
       "</style>\n",
       "<table border=\"1\" class=\"dataframe\">\n",
       "  <thead>\n",
       "    <tr style=\"text-align: right;\">\n",
       "      <th></th>\n",
       "      <th>day_of_week</th>\n",
       "      <th>trips</th>\n",
       "      <th>sort_dow</th>\n",
       "    </tr>\n",
       "  </thead>\n",
       "  <tbody>\n",
       "    <tr>\n",
       "      <th>0</th>\n",
       "      <td>Friday</td>\n",
       "      <td>73094.0</td>\n",
       "      <td>5</td>\n",
       "    </tr>\n",
       "    <tr>\n",
       "      <th>1</th>\n",
       "      <td>Monday</td>\n",
       "      <td>56063.0</td>\n",
       "      <td>1</td>\n",
       "    </tr>\n",
       "    <tr>\n",
       "      <th>2</th>\n",
       "      <td>Saturday</td>\n",
       "      <td>61471.0</td>\n",
       "      <td>6</td>\n",
       "    </tr>\n",
       "    <tr>\n",
       "      <th>3</th>\n",
       "      <td>Sunday</td>\n",
       "      <td>43131.0</td>\n",
       "      <td>0</td>\n",
       "    </tr>\n",
       "    <tr>\n",
       "      <th>4</th>\n",
       "      <td>Thursday</td>\n",
       "      <td>72190.5</td>\n",
       "      <td>4</td>\n",
       "    </tr>\n",
       "    <tr>\n",
       "      <th>5</th>\n",
       "      <td>Tuesday</td>\n",
       "      <td>66821.0</td>\n",
       "      <td>2</td>\n",
       "    </tr>\n",
       "    <tr>\n",
       "      <th>6</th>\n",
       "      <td>Wednesday</td>\n",
       "      <td>69398.5</td>\n",
       "      <td>3</td>\n",
       "    </tr>\n",
       "  </tbody>\n",
       "</table>\n",
       "</div>"
      ],
      "text/plain": [
       "  day_of_week    trips  sort_dow\n",
       "0      Friday  73094.0         5\n",
       "1      Monday  56063.0         1\n",
       "2    Saturday  61471.0         6\n",
       "3      Sunday  43131.0         0\n",
       "4    Thursday  72190.5         4\n",
       "5     Tuesday  66821.0         2\n",
       "6   Wednesday  69398.5         3"
      ]
     },
     "execution_count": 30,
     "metadata": {},
     "output_type": "execute_result"
    }
   ],
   "source": [
    "data[\"sort_dow\"] = data[\"day_of_week\"].replace({\n",
    "    \"Sunday\": 0,\n",
    "    \"Monday\": 1,\n",
    "    \"Tuesday\": 2,\n",
    "    \"Wednesday\": 3,\n",
    "    \"Thursday\": 4,\n",
    "    \"Friday\": 5,\n",
    "    \"Saturday\": 6\n",
    "})\n",
    "\n",
    "data"
   ]
  },
  {
   "cell_type": "code",
   "execution_count": 31,
   "id": "3c2c615e",
   "metadata": {},
   "outputs": [
    {
     "data": {
      "text/html": [
       "<div>\n",
       "<style scoped>\n",
       "    .dataframe tbody tr th:only-of-type {\n",
       "        vertical-align: middle;\n",
       "    }\n",
       "\n",
       "    .dataframe tbody tr th {\n",
       "        vertical-align: top;\n",
       "    }\n",
       "\n",
       "    .dataframe thead th {\n",
       "        text-align: right;\n",
       "    }\n",
       "</style>\n",
       "<table border=\"1\" class=\"dataframe\">\n",
       "  <thead>\n",
       "    <tr style=\"text-align: right;\">\n",
       "      <th></th>\n",
       "      <th>day_of_week</th>\n",
       "      <th>trips</th>\n",
       "      <th>sort_dow</th>\n",
       "    </tr>\n",
       "  </thead>\n",
       "  <tbody>\n",
       "    <tr>\n",
       "      <th>3</th>\n",
       "      <td>Sunday</td>\n",
       "      <td>43131.0</td>\n",
       "      <td>0</td>\n",
       "    </tr>\n",
       "    <tr>\n",
       "      <th>1</th>\n",
       "      <td>Monday</td>\n",
       "      <td>56063.0</td>\n",
       "      <td>1</td>\n",
       "    </tr>\n",
       "    <tr>\n",
       "      <th>5</th>\n",
       "      <td>Tuesday</td>\n",
       "      <td>66821.0</td>\n",
       "      <td>2</td>\n",
       "    </tr>\n",
       "    <tr>\n",
       "      <th>6</th>\n",
       "      <td>Wednesday</td>\n",
       "      <td>69398.5</td>\n",
       "      <td>3</td>\n",
       "    </tr>\n",
       "    <tr>\n",
       "      <th>4</th>\n",
       "      <td>Thursday</td>\n",
       "      <td>72190.5</td>\n",
       "      <td>4</td>\n",
       "    </tr>\n",
       "    <tr>\n",
       "      <th>0</th>\n",
       "      <td>Friday</td>\n",
       "      <td>73094.0</td>\n",
       "      <td>5</td>\n",
       "    </tr>\n",
       "    <tr>\n",
       "      <th>2</th>\n",
       "      <td>Saturday</td>\n",
       "      <td>61471.0</td>\n",
       "      <td>6</td>\n",
       "    </tr>\n",
       "  </tbody>\n",
       "</table>\n",
       "</div>"
      ],
      "text/plain": [
       "  day_of_week    trips  sort_dow\n",
       "3      Sunday  43131.0         0\n",
       "1      Monday  56063.0         1\n",
       "5     Tuesday  66821.0         2\n",
       "6   Wednesday  69398.5         3\n",
       "4    Thursday  72190.5         4\n",
       "0      Friday  73094.0         5\n",
       "2    Saturday  61471.0         6"
      ]
     },
     "execution_count": 31,
     "metadata": {},
     "output_type": "execute_result"
    }
   ],
   "source": [
    "data_sorted = data.sort_values(by=\"sort_dow\")\n",
    "data_sorted"
   ]
  },
  {
   "cell_type": "code",
   "execution_count": 32,
   "id": "4a6ef58d",
   "metadata": {},
   "outputs": [
    {
     "data": {
      "image/png": "[encoded data removed]",
      "text/plain": [
       "<Figure size 1200x500 with 1 Axes>"
      ]
     },
     "metadata": {},
     "output_type": "display_data"
    }
   ],
   "source": [
    "plt.figure(figsize=(12, 5))\n",
    "sns.barplot(\n",
    "    x='day_of_week',\n",
    "    y='trips',\n",
    "    data=data_sorted\n",
    ")\n",
    "plt.show()"
   ]
  },
  {
   "cell_type": "markdown",
   "id": "5c521c13",
   "metadata": {},
   "source": [
    "# 결제 유형 별 분석하기"
   ]
  },
  {
   "cell_type": "code",
   "execution_count": 27,
   "id": "1e5173a2",
   "metadata": {},
   "outputs": [
    {
     "data": {
      "text/plain": [
       "<function __main__.parse_payment_type(payment_type)>"
      ]
     },
     "execution_count": 27,
     "metadata": {},
     "output_type": "execute_result"
    }
   ],
   "source": [
    "payment_type_to_string = {\n",
    "    1: \"Credit Card\",\n",
    "    2: \"Cash\",\n",
    "    3: \"No Charge\",\n",
    "    4: \"Dispute\",\n",
    "    5: \"Unknown\",\n",
    "    6: \"Voided Trip\",\n",
    "}\n",
    "def parse_payment_type(payment_type):\n",
    "    return payment_type_to_string[payment_type]\n",
    "\n",
    "spark.udf.register(\"parse_payment_type\", parse_payment_type)"
   ]
  },
  {
   "cell_type": "code",
   "execution_count": 28,
   "id": "dbf23d92",
   "metadata": {},
   "outputs": [
    {
     "name": "stdout",
     "output_type": "stream",
     "text": [
      "+--------------------------------+--------+------------------+------------------+\n",
      "|parse_payment_type(payment_type)|   trips|  mean_fare_amount| stdev_fare_amount|\n",
      "+--------------------------------+--------+------------------+------------------+\n",
      "|                     Credit Card|10117869|12.216744280835849|10.795080136078592|\n",
      "|                       No Charge|   58552|11.931005601858176| 15.03784908925372|\n",
      "|                         Dispute|   23536|12.653402447314749|14.163477726534882|\n",
      "|                            Cash| 3097149| 11.98103176179123|11.474101590229465|\n",
      "|                         Unknown|       1|              17.8|              null|\n",
      "+--------------------------------+--------+------------------+------------------+\n",
      "\n"
     ]
    }
   ],
   "source": [
    "query = \"\"\"\n",
    "SELECT \n",
    "    parse_payment_type(payment_type),\n",
    "    count(*) AS trips,\n",
    "    MEAN(fare_amount) AS mean_fare_amount,\n",
    "    STD(fare_amount) AS stdev_fare_amount\n",
    "FROM\n",
    "    cleaned\n",
    "GROUP BY\n",
    "    payment_type\n",
    "\"\"\"\n",
    "\n",
    "spark.sql(query).show()"
   ]
  },
  {
   "cell_type": "code",
   "execution_count": 33,
   "id": "8a7593f2",
   "metadata": {},
   "outputs": [],
   "source": [
    "spark.stop()"
   ]
  },
  {
   "cell_type": "code",
   "execution_count": null,
   "id": "e0c05a17",
   "metadata": {},
   "outputs": [],
   "source": []
  }
 ],
 "metadata": {
  "kernelspec": {
   "display_name": "Python 3 (ipykernel)",
   "language": "python",
   "name": "python3"
  },
  "language_info": {
   "codemirror_mode": {
    "name": "ipython",
    "version": 3
   },
   "file_extension": ".py",
   "mimetype": "text/x-python",
   "name": "python",
   "nbconvert_exporter": "python",
   "pygments_lexer": "ipython3",
   "version": "3.9.13"
  }
 },
 "nbformat": 4,
 "nbformat_minor": 5
}
