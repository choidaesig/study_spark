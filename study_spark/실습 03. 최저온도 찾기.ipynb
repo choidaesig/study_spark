{
 "cells": [
  {
   "cell_type": "code",
   "execution_count": 1,
   "id": "16a9a166",
   "metadata": {},
   "outputs": [],
   "source": [
    "from pyspark import SparkConf, SparkContext\n",
    "conf=SparkConf().setMaster(\"local\").setAppName(\"MinTemperatures\")\n",
    "sc=SparkContext(conf=conf)"
   ]
  },
  {
   "cell_type": "code",
   "execution_count": 2,
   "id": "d9ebdc75",
   "metadata": {},
   "outputs": [],
   "source": [
    "directory=\"C:\\\\Users\\\\daesi\\\\Downloads\\\\빅데이터 소스코드\\\\소스코드\\\\study_spark\\\\data\"\n",
    "filename=\"1800.csv\""
   ]
  },
  {
   "cell_type": "code",
   "execution_count": 3,
   "id": "b5fe186c",
   "metadata": {},
   "outputs": [
    {
     "data": {
      "text/plain": [
       "['ITE00100554,18000101,TMAX,-75,,,E,',\n",
       " 'ITE00100554,18000101,TMIN,-148,,,E,',\n",
       " 'GM000010962,18000101,PRCP,0,,,E,',\n",
       " 'EZE00100082,18000101,TMAX,-86,,,E,',\n",
       " 'EZE00100082,18000101,TMIN,-135,,,E,']"
      ]
     },
     "execution_count": 3,
     "metadata": {},
     "output_type": "execute_result"
    }
   ],
   "source": [
    "lines = sc.textFile(f\"file:///{directory}\\\\{filename}\")\n",
    "lines.collect()[:5]"
   ]
  },
  {
   "cell_type": "code",
   "execution_count": 19,
   "id": "fc6b3247",
   "metadata": {},
   "outputs": [],
   "source": [
    "def parseLine(line):\n",
    "    fields=line.split(',')\n",
    "    stationID = fields[0]\n",
    "    entryType = fields[2]\n",
    "    temperature = float(fields[3])*0.1*(9.0/5.0)+32.0\n",
    "    \n",
    "    return (stationID, entryType, temperature)"
   ]
  },
  {
   "cell_type": "code",
   "execution_count": 20,
   "id": "9cc5d7cc",
   "metadata": {},
   "outputs": [
    {
     "data": {
      "text/plain": [
       "[('ITE00100554', 'TMAX', 18.5),\n",
       " ('ITE00100554', 'TMIN', 5.359999999999999),\n",
       " ('GM000010962', 'PRCP', 32.0)]"
      ]
     },
     "execution_count": 20,
     "metadata": {},
     "output_type": "execute_result"
    }
   ],
   "source": [
    "parsedLines = lines.map(parseLine)\n",
    "parsedLines.collect()[:3]"
   ]
  },
  {
   "cell_type": "code",
   "execution_count": 22,
   "id": "542e57c7",
   "metadata": {},
   "outputs": [
    {
     "data": {
      "text/plain": [
       "[('ITE00100554', 'TMIN', 5.359999999999999),\n",
       " ('EZE00100082', 'TMIN', 7.699999999999999),\n",
       " ('ITE00100554', 'TMIN', 9.5),\n",
       " ('EZE00100082', 'TMIN', 8.599999999999998),\n",
       " ('ITE00100554', 'TMIN', 23.72)]"
      ]
     },
     "execution_count": 22,
     "metadata": {},
     "output_type": "execute_result"
    }
   ],
   "source": [
    "minTemps=parsedLines.filter(lambda x : \"TMIN\" in x[1])\n",
    "minTemps.collect()[:5]"
   ]
  },
  {
   "cell_type": "code",
   "execution_count": 23,
   "id": "410c2cca",
   "metadata": {},
   "outputs": [
    {
     "data": {
      "text/plain": [
       "[('ITE00100554', 5.359999999999999),\n",
       " ('EZE00100082', 7.699999999999999),\n",
       " ('ITE00100554', 9.5)]"
      ]
     },
     "execution_count": 23,
     "metadata": {},
     "output_type": "execute_result"
    }
   ],
   "source": [
    "stationTemps = minTemps.map(lambda x : (x[0], x[2]))\n",
    "stationTemps.collect()[:3]"
   ]
  },
  {
   "cell_type": "code",
   "execution_count": 24,
   "id": "382e4350",
   "metadata": {},
   "outputs": [
    {
     "data": {
      "text/plain": [
       "[('ITE00100554', 5.359999999999999), ('EZE00100082', 7.699999999999999)]"
      ]
     },
     "execution_count": 24,
     "metadata": {},
     "output_type": "execute_result"
    }
   ],
   "source": [
    "stationTemps.reduceByKey(lambda x,y : min(x,y)).collect()[:5]"
   ]
  },
  {
   "cell_type": "code",
   "execution_count": 25,
   "id": "a6077a79",
   "metadata": {},
   "outputs": [],
   "source": [
    "sc.stop()"
   ]
  },
  {
   "cell_type": "code",
   "execution_count": null,
   "id": "72375584",
   "metadata": {},
   "outputs": [],
   "source": []
  },
  {
   "cell_type": "code",
   "execution_count": null,
   "id": "43e96199",
   "metadata": {},
   "outputs": [],
   "source": []
  }
 ],
 "metadata": {
  "kernelspec": {
   "display_name": "Python 3 (ipykernel)",
   "language": "python",
   "name": "python3"
  },
  "language_info": {
   "codemirror_mode": {
    "name": "ipython",
    "version": 3
   },
   "file_extension": ".py",
   "mimetype": "text/x-python",
   "name": "python",
   "nbconvert_exporter": "python",
   "pygments_lexer": "ipython3",
   "version": "3.9.13"
  }
 },
 "nbformat": 4,
 "nbformat_minor": 5
}
